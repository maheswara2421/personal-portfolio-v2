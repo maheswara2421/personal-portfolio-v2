{
  "nbformat": 4,
  "nbformat_minor": 0,
  "metadata": {
    "colab": {
      "provenance": [],
      "collapsed_sections": [
        "-ydz3tTCe-79"
      ],
      "gpuType": "T4"
    },
    "kernelspec": {
      "name": "python3",
      "display_name": "Python 3"
    },
    "language_info": {
      "name": "python"
    },
    "accelerator": "GPU"
  },
  "cells": [
    {
      "cell_type": "code",
      "source": [
        "!pip install ax-platform"
      ],
      "metadata": {
        "colab": {
          "base_uri": "https://localhost:8080/"
        },
        "id": "sVClOVy4meBX",
        "outputId": "78310c8a-cb41-4577-c4ad-188365ab5b4c"
      },
      "execution_count": null,
      "outputs": [
        {
          "output_type": "stream",
          "name": "stdout",
          "text": [
            "Collecting ax-platform\n",
            "  Downloading ax_platform-0.4.3-py3-none-any.whl.metadata (11 kB)\n",
            "Collecting botorch==0.12.0 (from ax-platform)\n",
            "  Downloading botorch-0.12.0-py3-none-any.whl.metadata (11 kB)\n",
            "Requirement already satisfied: jinja2 in /usr/local/lib/python3.10/dist-packages (from ax-platform) (3.1.4)\n",
            "Requirement already satisfied: pandas in /usr/local/lib/python3.10/dist-packages (from ax-platform) (2.1.4)\n",
            "Requirement already satisfied: scipy in /usr/local/lib/python3.10/dist-packages (from ax-platform) (1.13.1)\n",
            "Requirement already satisfied: scikit-learn in /usr/local/lib/python3.10/dist-packages (from ax-platform) (1.5.2)\n",
            "Requirement already satisfied: ipywidgets in /usr/local/lib/python3.10/dist-packages (from ax-platform) (7.7.1)\n",
            "Requirement already satisfied: plotly>=5.12.0 in /usr/local/lib/python3.10/dist-packages (from ax-platform) (5.24.1)\n",
            "Collecting pyre-extensions (from ax-platform)\n",
            "  Downloading pyre_extensions-0.0.31-py3-none-any.whl.metadata (4.0 kB)\n",
            "Requirement already satisfied: multipledispatch in /usr/local/lib/python3.10/dist-packages (from botorch==0.12.0->ax-platform) (1.0.0)\n",
            "Requirement already satisfied: mpmath<=1.3,>=0.19 in /usr/local/lib/python3.10/dist-packages (from botorch==0.12.0->ax-platform) (1.3.0)\n",
            "Requirement already satisfied: torch>=2.0.1 in /usr/local/lib/python3.10/dist-packages (from botorch==0.12.0->ax-platform) (2.4.1+cu121)\n",
            "Collecting pyro-ppl>=1.8.4 (from botorch==0.12.0->ax-platform)\n",
            "  Downloading pyro_ppl-1.9.1-py3-none-any.whl.metadata (7.8 kB)\n",
            "Requirement already satisfied: typing-extensions in /usr/local/lib/python3.10/dist-packages (from botorch==0.12.0->ax-platform) (4.12.2)\n",
            "Collecting gpytorch==1.13 (from botorch==0.12.0->ax-platform)\n",
            "  Downloading gpytorch-1.13-py3-none-any.whl.metadata (8.0 kB)\n",
            "Collecting linear-operator==0.5.3 (from botorch==0.12.0->ax-platform)\n",
            "  Downloading linear_operator-0.5.3-py3-none-any.whl.metadata (15 kB)\n",
            "Collecting jaxtyping==0.2.19 (from gpytorch==1.13->botorch==0.12.0->ax-platform)\n",
            "  Downloading jaxtyping-0.2.19-py3-none-any.whl.metadata (5.7 kB)\n",
            "Requirement already satisfied: numpy>=1.20.0 in /usr/local/lib/python3.10/dist-packages (from jaxtyping==0.2.19->gpytorch==1.13->botorch==0.12.0->ax-platform) (1.26.4)\n",
            "Requirement already satisfied: typeguard>=2.13.3 in /usr/local/lib/python3.10/dist-packages (from jaxtyping==0.2.19->gpytorch==1.13->botorch==0.12.0->ax-platform) (4.3.0)\n",
            "Requirement already satisfied: tenacity>=6.2.0 in /usr/local/lib/python3.10/dist-packages (from plotly>=5.12.0->ax-platform) (9.0.0)\n",
            "Requirement already satisfied: packaging in /usr/local/lib/python3.10/dist-packages (from plotly>=5.12.0->ax-platform) (24.1)\n",
            "Requirement already satisfied: ipykernel>=4.5.1 in /usr/local/lib/python3.10/dist-packages (from ipywidgets->ax-platform) (5.5.6)\n",
            "Requirement already satisfied: ipython-genutils~=0.2.0 in /usr/local/lib/python3.10/dist-packages (from ipywidgets->ax-platform) (0.2.0)\n",
            "Requirement already satisfied: traitlets>=4.3.1 in /usr/local/lib/python3.10/dist-packages (from ipywidgets->ax-platform) (5.7.1)\n",
            "Requirement already satisfied: widgetsnbextension~=3.6.0 in /usr/local/lib/python3.10/dist-packages (from ipywidgets->ax-platform) (3.6.9)\n",
            "Requirement already satisfied: ipython>=4.0.0 in /usr/local/lib/python3.10/dist-packages (from ipywidgets->ax-platform) (7.34.0)\n",
            "Requirement already satisfied: jupyterlab-widgets>=1.0.0 in /usr/local/lib/python3.10/dist-packages (from ipywidgets->ax-platform) (3.0.13)\n",
            "Requirement already satisfied: MarkupSafe>=2.0 in /usr/local/lib/python3.10/dist-packages (from jinja2->ax-platform) (2.1.5)\n",
            "Requirement already satisfied: python-dateutil>=2.8.2 in /usr/local/lib/python3.10/dist-packages (from pandas->ax-platform) (2.8.2)\n",
            "Requirement already satisfied: pytz>=2020.1 in /usr/local/lib/python3.10/dist-packages (from pandas->ax-platform) (2024.2)\n",
            "Requirement already satisfied: tzdata>=2022.1 in /usr/local/lib/python3.10/dist-packages (from pandas->ax-platform) (2024.1)\n",
            "Collecting typing-inspect (from pyre-extensions->ax-platform)\n",
            "  Downloading typing_inspect-0.9.0-py3-none-any.whl.metadata (1.5 kB)\n",
            "Requirement already satisfied: joblib>=1.2.0 in /usr/local/lib/python3.10/dist-packages (from scikit-learn->ax-platform) (1.4.2)\n",
            "Requirement already satisfied: threadpoolctl>=3.1.0 in /usr/local/lib/python3.10/dist-packages (from scikit-learn->ax-platform) (3.5.0)\n",
            "Requirement already satisfied: jupyter-client in /usr/local/lib/python3.10/dist-packages (from ipykernel>=4.5.1->ipywidgets->ax-platform) (6.1.12)\n",
            "Requirement already satisfied: tornado>=4.2 in /usr/local/lib/python3.10/dist-packages (from ipykernel>=4.5.1->ipywidgets->ax-platform) (6.3.3)\n",
            "Requirement already satisfied: setuptools>=18.5 in /usr/local/lib/python3.10/dist-packages (from ipython>=4.0.0->ipywidgets->ax-platform) (71.0.4)\n",
            "Collecting jedi>=0.16 (from ipython>=4.0.0->ipywidgets->ax-platform)\n",
            "  Using cached jedi-0.19.1-py2.py3-none-any.whl.metadata (22 kB)\n",
            "Requirement already satisfied: decorator in /usr/local/lib/python3.10/dist-packages (from ipython>=4.0.0->ipywidgets->ax-platform) (4.4.2)\n",
            "Requirement already satisfied: pickleshare in /usr/local/lib/python3.10/dist-packages (from ipython>=4.0.0->ipywidgets->ax-platform) (0.7.5)\n",
            "Requirement already satisfied: prompt-toolkit!=3.0.0,!=3.0.1,<3.1.0,>=2.0.0 in /usr/local/lib/python3.10/dist-packages (from ipython>=4.0.0->ipywidgets->ax-platform) (3.0.47)\n",
            "Requirement already satisfied: pygments in /usr/local/lib/python3.10/dist-packages (from ipython>=4.0.0->ipywidgets->ax-platform) (2.18.0)\n",
            "Requirement already satisfied: backcall in /usr/local/lib/python3.10/dist-packages (from ipython>=4.0.0->ipywidgets->ax-platform) (0.2.0)\n",
            "Requirement already satisfied: matplotlib-inline in /usr/local/lib/python3.10/dist-packages (from ipython>=4.0.0->ipywidgets->ax-platform) (0.1.7)\n",
            "Requirement already satisfied: pexpect>4.3 in /usr/local/lib/python3.10/dist-packages (from ipython>=4.0.0->ipywidgets->ax-platform) (4.9.0)\n",
            "Requirement already satisfied: opt-einsum>=2.3.2 in /usr/local/lib/python3.10/dist-packages (from pyro-ppl>=1.8.4->botorch==0.12.0->ax-platform) (3.3.0)\n",
            "Collecting pyro-api>=0.1.1 (from pyro-ppl>=1.8.4->botorch==0.12.0->ax-platform)\n",
            "  Downloading pyro_api-0.1.2-py3-none-any.whl.metadata (2.5 kB)\n",
            "Requirement already satisfied: tqdm>=4.36 in /usr/local/lib/python3.10/dist-packages (from pyro-ppl>=1.8.4->botorch==0.12.0->ax-platform) (4.66.5)\n",
            "Requirement already satisfied: six>=1.5 in /usr/local/lib/python3.10/dist-packages (from python-dateutil>=2.8.2->pandas->ax-platform) (1.16.0)\n",
            "Requirement already satisfied: filelock in /usr/local/lib/python3.10/dist-packages (from torch>=2.0.1->botorch==0.12.0->ax-platform) (3.16.1)\n",
            "Requirement already satisfied: sympy in /usr/local/lib/python3.10/dist-packages (from torch>=2.0.1->botorch==0.12.0->ax-platform) (1.13.3)\n",
            "Requirement already satisfied: networkx in /usr/local/lib/python3.10/dist-packages (from torch>=2.0.1->botorch==0.12.0->ax-platform) (3.3)\n",
            "Requirement already satisfied: fsspec in /usr/local/lib/python3.10/dist-packages (from torch>=2.0.1->botorch==0.12.0->ax-platform) (2024.6.1)\n",
            "Requirement already satisfied: notebook>=4.4.1 in /usr/local/lib/python3.10/dist-packages (from widgetsnbextension~=3.6.0->ipywidgets->ax-platform) (6.5.5)\n",
            "Collecting mypy-extensions>=0.3.0 (from typing-inspect->pyre-extensions->ax-platform)\n",
            "  Downloading mypy_extensions-1.0.0-py3-none-any.whl.metadata (1.1 kB)\n",
            "Requirement already satisfied: parso<0.9.0,>=0.8.3 in /usr/local/lib/python3.10/dist-packages (from jedi>=0.16->ipython>=4.0.0->ipywidgets->ax-platform) (0.8.4)\n",
            "Requirement already satisfied: pyzmq<25,>=17 in /usr/local/lib/python3.10/dist-packages (from notebook>=4.4.1->widgetsnbextension~=3.6.0->ipywidgets->ax-platform) (24.0.1)\n",
            "Requirement already satisfied: argon2-cffi in /usr/local/lib/python3.10/dist-packages (from notebook>=4.4.1->widgetsnbextension~=3.6.0->ipywidgets->ax-platform) (23.1.0)\n",
            "Requirement already satisfied: jupyter-core>=4.6.1 in /usr/local/lib/python3.10/dist-packages (from notebook>=4.4.1->widgetsnbextension~=3.6.0->ipywidgets->ax-platform) (5.7.2)\n",
            "Requirement already satisfied: nbformat in /usr/local/lib/python3.10/dist-packages (from notebook>=4.4.1->widgetsnbextension~=3.6.0->ipywidgets->ax-platform) (5.10.4)\n",
            "Requirement already satisfied: nbconvert>=5 in /usr/local/lib/python3.10/dist-packages (from notebook>=4.4.1->widgetsnbextension~=3.6.0->ipywidgets->ax-platform) (6.5.4)\n",
            "Requirement already satisfied: nest-asyncio>=1.5 in /usr/local/lib/python3.10/dist-packages (from notebook>=4.4.1->widgetsnbextension~=3.6.0->ipywidgets->ax-platform) (1.6.0)\n",
            "Requirement already satisfied: Send2Trash>=1.8.0 in /usr/local/lib/python3.10/dist-packages (from notebook>=4.4.1->widgetsnbextension~=3.6.0->ipywidgets->ax-platform) (1.8.3)\n",
            "Requirement already satisfied: terminado>=0.8.3 in /usr/local/lib/python3.10/dist-packages (from notebook>=4.4.1->widgetsnbextension~=3.6.0->ipywidgets->ax-platform) (0.18.1)\n",
            "Requirement already satisfied: prometheus-client in /usr/local/lib/python3.10/dist-packages (from notebook>=4.4.1->widgetsnbextension~=3.6.0->ipywidgets->ax-platform) (0.21.0)\n",
            "Requirement already satisfied: nbclassic>=0.4.7 in /usr/local/lib/python3.10/dist-packages (from notebook>=4.4.1->widgetsnbextension~=3.6.0->ipywidgets->ax-platform) (1.1.0)\n",
            "Requirement already satisfied: ptyprocess>=0.5 in /usr/local/lib/python3.10/dist-packages (from pexpect>4.3->ipython>=4.0.0->ipywidgets->ax-platform) (0.7.0)\n",
            "Requirement already satisfied: wcwidth in /usr/local/lib/python3.10/dist-packages (from prompt-toolkit!=3.0.0,!=3.0.1,<3.1.0,>=2.0.0->ipython>=4.0.0->ipywidgets->ax-platform) (0.2.13)\n",
            "Requirement already satisfied: platformdirs>=2.5 in /usr/local/lib/python3.10/dist-packages (from jupyter-core>=4.6.1->notebook>=4.4.1->widgetsnbextension~=3.6.0->ipywidgets->ax-platform) (4.3.6)\n",
            "Requirement already satisfied: notebook-shim>=0.2.3 in /usr/local/lib/python3.10/dist-packages (from nbclassic>=0.4.7->notebook>=4.4.1->widgetsnbextension~=3.6.0->ipywidgets->ax-platform) (0.2.4)\n",
            "Requirement already satisfied: lxml in /usr/local/lib/python3.10/dist-packages (from nbconvert>=5->notebook>=4.4.1->widgetsnbextension~=3.6.0->ipywidgets->ax-platform) (4.9.4)\n",
            "Requirement already satisfied: beautifulsoup4 in /usr/local/lib/python3.10/dist-packages (from nbconvert>=5->notebook>=4.4.1->widgetsnbextension~=3.6.0->ipywidgets->ax-platform) (4.12.3)\n",
            "Requirement already satisfied: bleach in /usr/local/lib/python3.10/dist-packages (from nbconvert>=5->notebook>=4.4.1->widgetsnbextension~=3.6.0->ipywidgets->ax-platform) (6.1.0)\n",
            "Requirement already satisfied: defusedxml in /usr/local/lib/python3.10/dist-packages (from nbconvert>=5->notebook>=4.4.1->widgetsnbextension~=3.6.0->ipywidgets->ax-platform) (0.7.1)\n",
            "Requirement already satisfied: entrypoints>=0.2.2 in /usr/local/lib/python3.10/dist-packages (from nbconvert>=5->notebook>=4.4.1->widgetsnbextension~=3.6.0->ipywidgets->ax-platform) (0.4)\n",
            "Requirement already satisfied: jupyterlab-pygments in /usr/local/lib/python3.10/dist-packages (from nbconvert>=5->notebook>=4.4.1->widgetsnbextension~=3.6.0->ipywidgets->ax-platform) (0.3.0)\n",
            "Requirement already satisfied: mistune<2,>=0.8.1 in /usr/local/lib/python3.10/dist-packages (from nbconvert>=5->notebook>=4.4.1->widgetsnbextension~=3.6.0->ipywidgets->ax-platform) (0.8.4)\n",
            "Requirement already satisfied: nbclient>=0.5.0 in /usr/local/lib/python3.10/dist-packages (from nbconvert>=5->notebook>=4.4.1->widgetsnbextension~=3.6.0->ipywidgets->ax-platform) (0.10.0)\n",
            "Requirement already satisfied: pandocfilters>=1.4.1 in /usr/local/lib/python3.10/dist-packages (from nbconvert>=5->notebook>=4.4.1->widgetsnbextension~=3.6.0->ipywidgets->ax-platform) (1.5.1)\n",
            "Requirement already satisfied: tinycss2 in /usr/local/lib/python3.10/dist-packages (from nbconvert>=5->notebook>=4.4.1->widgetsnbextension~=3.6.0->ipywidgets->ax-platform) (1.3.0)\n",
            "Requirement already satisfied: fastjsonschema>=2.15 in /usr/local/lib/python3.10/dist-packages (from nbformat->notebook>=4.4.1->widgetsnbextension~=3.6.0->ipywidgets->ax-platform) (2.20.0)\n",
            "Requirement already satisfied: jsonschema>=2.6 in /usr/local/lib/python3.10/dist-packages (from nbformat->notebook>=4.4.1->widgetsnbextension~=3.6.0->ipywidgets->ax-platform) (4.23.0)\n",
            "Requirement already satisfied: argon2-cffi-bindings in /usr/local/lib/python3.10/dist-packages (from argon2-cffi->notebook>=4.4.1->widgetsnbextension~=3.6.0->ipywidgets->ax-platform) (21.2.0)\n",
            "Requirement already satisfied: attrs>=22.2.0 in /usr/local/lib/python3.10/dist-packages (from jsonschema>=2.6->nbformat->notebook>=4.4.1->widgetsnbextension~=3.6.0->ipywidgets->ax-platform) (24.2.0)\n",
            "Requirement already satisfied: jsonschema-specifications>=2023.03.6 in /usr/local/lib/python3.10/dist-packages (from jsonschema>=2.6->nbformat->notebook>=4.4.1->widgetsnbextension~=3.6.0->ipywidgets->ax-platform) (2023.12.1)\n",
            "Requirement already satisfied: referencing>=0.28.4 in /usr/local/lib/python3.10/dist-packages (from jsonschema>=2.6->nbformat->notebook>=4.4.1->widgetsnbextension~=3.6.0->ipywidgets->ax-platform) (0.35.1)\n",
            "Requirement already satisfied: rpds-py>=0.7.1 in /usr/local/lib/python3.10/dist-packages (from jsonschema>=2.6->nbformat->notebook>=4.4.1->widgetsnbextension~=3.6.0->ipywidgets->ax-platform) (0.20.0)\n",
            "Requirement already satisfied: jupyter-server<3,>=1.8 in /usr/local/lib/python3.10/dist-packages (from notebook-shim>=0.2.3->nbclassic>=0.4.7->notebook>=4.4.1->widgetsnbextension~=3.6.0->ipywidgets->ax-platform) (1.24.0)\n",
            "Requirement already satisfied: cffi>=1.0.1 in /usr/local/lib/python3.10/dist-packages (from argon2-cffi-bindings->argon2-cffi->notebook>=4.4.1->widgetsnbextension~=3.6.0->ipywidgets->ax-platform) (1.17.1)\n",
            "Requirement already satisfied: soupsieve>1.2 in /usr/local/lib/python3.10/dist-packages (from beautifulsoup4->nbconvert>=5->notebook>=4.4.1->widgetsnbextension~=3.6.0->ipywidgets->ax-platform) (2.6)\n",
            "Requirement already satisfied: webencodings in /usr/local/lib/python3.10/dist-packages (from bleach->nbconvert>=5->notebook>=4.4.1->widgetsnbextension~=3.6.0->ipywidgets->ax-platform) (0.5.1)\n",
            "Requirement already satisfied: pycparser in /usr/local/lib/python3.10/dist-packages (from cffi>=1.0.1->argon2-cffi-bindings->argon2-cffi->notebook>=4.4.1->widgetsnbextension~=3.6.0->ipywidgets->ax-platform) (2.22)\n",
            "Requirement already satisfied: anyio<4,>=3.1.0 in /usr/local/lib/python3.10/dist-packages (from jupyter-server<3,>=1.8->notebook-shim>=0.2.3->nbclassic>=0.4.7->notebook>=4.4.1->widgetsnbextension~=3.6.0->ipywidgets->ax-platform) (3.7.1)\n",
            "Requirement already satisfied: websocket-client in /usr/local/lib/python3.10/dist-packages (from jupyter-server<3,>=1.8->notebook-shim>=0.2.3->nbclassic>=0.4.7->notebook>=4.4.1->widgetsnbextension~=3.6.0->ipywidgets->ax-platform) (1.8.0)\n",
            "Requirement already satisfied: idna>=2.8 in /usr/local/lib/python3.10/dist-packages (from anyio<4,>=3.1.0->jupyter-server<3,>=1.8->notebook-shim>=0.2.3->nbclassic>=0.4.7->notebook>=4.4.1->widgetsnbextension~=3.6.0->ipywidgets->ax-platform) (3.10)\n",
            "Requirement already satisfied: sniffio>=1.1 in /usr/local/lib/python3.10/dist-packages (from anyio<4,>=3.1.0->jupyter-server<3,>=1.8->notebook-shim>=0.2.3->nbclassic>=0.4.7->notebook>=4.4.1->widgetsnbextension~=3.6.0->ipywidgets->ax-platform) (1.3.1)\n",
            "Requirement already satisfied: exceptiongroup in /usr/local/lib/python3.10/dist-packages (from anyio<4,>=3.1.0->jupyter-server<3,>=1.8->notebook-shim>=0.2.3->nbclassic>=0.4.7->notebook>=4.4.1->widgetsnbextension~=3.6.0->ipywidgets->ax-platform) (1.2.2)\n",
            "Downloading ax_platform-0.4.3-py3-none-any.whl (1.3 MB)\n",
            "\u001b[2K   \u001b[90m━━━━━━━━━━━━━━━━━━━━━━━━━━━━━━━━━━━━━━━━\u001b[0m \u001b[32m1.3/1.3 MB\u001b[0m \u001b[31m55.6 MB/s\u001b[0m eta \u001b[36m0:00:00\u001b[0m\n",
            "\u001b[?25hDownloading botorch-0.12.0-py3-none-any.whl (644 kB)\n",
            "\u001b[2K   \u001b[90m━━━━━━━━━━━━━━━━━━━━━━━━━━━━━━━━━━━━━━━━\u001b[0m \u001b[32m644.8/644.8 kB\u001b[0m \u001b[31m39.4 MB/s\u001b[0m eta \u001b[36m0:00:00\u001b[0m\n",
            "\u001b[?25hDownloading gpytorch-1.13-py3-none-any.whl (277 kB)\n",
            "\u001b[2K   \u001b[90m━━━━━━━━━━━━━━━━━━━━━━━━━━━━━━━━━━━━━━━━\u001b[0m \u001b[32m277.8/277.8 kB\u001b[0m \u001b[31m20.8 MB/s\u001b[0m eta \u001b[36m0:00:00\u001b[0m\n",
            "\u001b[?25hDownloading linear_operator-0.5.3-py3-none-any.whl (176 kB)\n",
            "\u001b[2K   \u001b[90m━━━━━━━━━━━━━━━━━━━━━━━━━━━━━━━━━━━━━━━━\u001b[0m \u001b[32m176.4/176.4 kB\u001b[0m \u001b[31m14.4 MB/s\u001b[0m eta \u001b[36m0:00:00\u001b[0m\n",
            "\u001b[?25hDownloading jaxtyping-0.2.19-py3-none-any.whl (24 kB)\n",
            "Downloading pyre_extensions-0.0.31-py3-none-any.whl (12 kB)\n",
            "Downloading pyro_ppl-1.9.1-py3-none-any.whl (755 kB)\n",
            "\u001b[2K   \u001b[90m━━━━━━━━━━━━━━━━━━━━━━━━━━━━━━━━━━━━━━━━\u001b[0m \u001b[32m756.0/756.0 kB\u001b[0m \u001b[31m48.8 MB/s\u001b[0m eta \u001b[36m0:00:00\u001b[0m\n",
            "\u001b[?25hDownloading typing_inspect-0.9.0-py3-none-any.whl (8.8 kB)\n",
            "Using cached jedi-0.19.1-py2.py3-none-any.whl (1.6 MB)\n",
            "Downloading mypy_extensions-1.0.0-py3-none-any.whl (4.7 kB)\n",
            "Downloading pyro_api-0.1.2-py3-none-any.whl (11 kB)\n",
            "Installing collected packages: pyro-api, mypy-extensions, jedi, typing-inspect, jaxtyping, pyro-ppl, pyre-extensions, linear-operator, gpytorch, botorch, ax-platform\n",
            "Successfully installed ax-platform-0.4.3 botorch-0.12.0 gpytorch-1.13 jaxtyping-0.2.19 jedi-0.19.1 linear-operator-0.5.3 mypy-extensions-1.0.0 pyre-extensions-0.0.31 pyro-api-0.1.2 pyro-ppl-1.9.1 typing-inspect-0.9.0\n"
          ]
        }
      ]
    },
    {
      "cell_type": "code",
      "source": [
        "import matplotlib.pyplot as plt\n",
        "import numpy as np\n",
        "import torch\n",
        "import torchvision\n",
        "import torchvision.transforms as transforms\n",
        "import torch.optim as optim\n",
        "import torch.nn as nn\n",
        "import torch.nn.functional as F\n",
        "\n",
        "from torch.utils.data import Dataset, DataLoader, random_split\n",
        "from torch.optim.lr_scheduler import ReduceLROnPlateau\n",
        "from tqdm import tqdm\n",
        "import tempfile\n",
        "import pickle\n",
        "from pathlib import Path\n",
        "\n",
        "from ax.plot.contour import plot_contour\n",
        "from ax.plot.trace import optimization_trace_single_method\n",
        "from ax.service.managed_loop import optimize"
      ],
      "metadata": {
        "id": "IRCuZwIskbdC"
      },
      "execution_count": null,
      "outputs": []
    },
    {
      "cell_type": "code",
      "source": [
        "from ax.service.ax_client import AxClient, ObjectiveProperties\n",
        "from ax.service.utils.report_utils import exp_to_df\n",
        "from ax.utils.notebook.plotting import init_notebook_plotting, render\n",
        "from ax.utils.tutorials.cnn_utils import evaluate, load_mnist, train"
      ],
      "metadata": {
        "colab": {
          "base_uri": "https://localhost:8080/"
        },
        "id": "LKeITaqkzq-V",
        "outputId": "ea67e3b1-01d4-4743-cbb8-50e1ec7c0059"
      },
      "execution_count": null,
      "outputs": [
        {
          "output_type": "stream",
          "name": "stderr",
          "text": [
            "[WARNING 09-30 09:51:17] ax.service.utils.with_db_settings_base: Ax currently requires a sqlalchemy version below 2.0. This will be addressed in a future release. Disabling SQL storage in Ax for now, if you would like to use SQL storage please install Ax with mysql extras via `pip install ax-platform[mysql]`.\n"
          ]
        }
      ]
    },
    {
      "cell_type": "code",
      "source": [
        "from google.colab import drive\n",
        "drive.mount('/content/drive')"
      ],
      "metadata": {
        "colab": {
          "base_uri": "https://localhost:8080/"
        },
        "id": "F-Ax8B4TuN2v",
        "outputId": "945cfba1-ed88-4559-f267-a2f22c2e53ec"
      },
      "execution_count": null,
      "outputs": [
        {
          "output_type": "stream",
          "name": "stdout",
          "text": [
            "Mounted at /content/drive\n"
          ]
        }
      ]
    },
    {
      "cell_type": "markdown",
      "source": [
        "### Loading data"
      ],
      "metadata": {
        "id": "BllR0Laqenwu"
      }
    },
    {
      "cell_type": "code",
      "execution_count": null,
      "metadata": {
        "id": "lFglMUnuegAa"
      },
      "outputs": [],
      "source": [
        "\n",
        "# from scipy.fft import dst\n",
        "\n",
        "class SlidingWindowDataset(Dataset):\n",
        "    def __init__(self, data):\n",
        "        self.data = data\n",
        "\n",
        "    def __len__(self):\n",
        "        return len(self.data)\n",
        "\n",
        "    def __getitem__(self, idx):\n",
        "        f = self.data[idx].reshape(10, 10)\n",
        "\n",
        "        return f # Reshape to (10, 1) to verify for our new data"
      ]
    },
    {
      "cell_type": "code",
      "source": [
        "def data_loading(data_path, batch_size):\n",
        "\n",
        "    data = np.load(data_path)\n",
        "\n",
        "    # Normalize only the RGB features (last 5 features)\n",
        "    # Compute mean and std for RGB features across all samples and time steps\n",
        "    rgb_features = data[:, :, 5:]\n",
        "    rgb_mean = np.mean(rgb_features, axis=(0, 1))\n",
        "    rgb_std = np.std(rgb_features, axis=(0, 1))\n",
        "    # Avoid division by zero\n",
        "    rgb_std[rgb_std == 0] = 1.0\n",
        "\n",
        "    # Normalize the RGB features\n",
        "    data[:, :, 5:] = (data[:, :, 5:] - rgb_mean) / rgb_std\n",
        "\n",
        "    # NOTE: Optional, maybe for later: Scale the normalized RGB features to match the scale of motion features\n",
        "    # For example, you can scale them to have the same standard deviation as the motion features\n",
        "    motion_features = data[:, :, :5]\n",
        "    motion_std = np.std(motion_features, axis=(0, 1))\n",
        "    scaling_factor = motion_std.mean()\n",
        "    data[:, :, 5:] *= scaling_factor\n",
        "\n",
        "    print(data[215080:265080].shape)\n",
        "    # Create the dataset\n",
        "    dataset = SlidingWindowDataset(data[215080:265080])\n",
        "\n",
        "    train_size = int(0.8 * len(dataset))\n",
        "    val_size = len(dataset) - train_size\n",
        "\n",
        "    # Split the dataset\n",
        "    train_dataset, val_dataset = random_split(dataset, [train_size, val_size])\n",
        "\n",
        "    # Set up data loaders\n",
        "    train_loader = DataLoader(train_dataset, batch_size=batch_size, shuffle=True)\n",
        "    val_loader = DataLoader(val_dataset, batch_size=batch_size, shuffle=False)\n",
        "    return train_loader, val_loader\n"
      ],
      "metadata": {
        "id": "c_O2tD2yl6JI"
      },
      "execution_count": null,
      "outputs": []
    },
    {
      "cell_type": "code",
      "source": [
        "data_path = '/content/drive/MyDrive/Dataset_d14_d15/combined_d14_d15.npy'\n",
        "batch_size = 2048\n",
        "train_loader,val_loader = data_loading(data_path,batch_size)"
      ],
      "metadata": {
        "colab": {
          "base_uri": "https://localhost:8080/"
        },
        "id": "mCs9RKATuXYF",
        "outputId": "a3388e1e-cf11-4210-a150-6449599173f7"
      },
      "execution_count": null,
      "outputs": [
        {
          "output_type": "stream",
          "name": "stdout",
          "text": [
            "(50000, 10, 10)\n"
          ]
        }
      ]
    },
    {
      "cell_type": "markdown",
      "source": [
        "### Model Loading"
      ],
      "metadata": {
        "id": "5Gx-TT93eqLb"
      }
    },
    {
      "cell_type": "code",
      "source": [
        "class Encoder_Decoder(nn.Module):\n",
        "  def __init__(self,in_size,hidden_size,no_layers):\n",
        "    super(Encoder_Decoder,self).__init__()\n",
        "    ### layer1 is the encoder part, which is bidirectional\n",
        "\n",
        "    self.layer1 = nn.GRU(input_size=in_size,\n",
        "                                         hidden_size=hidden_size//2,\n",
        "                                         num_layers=no_layers,\n",
        "                                         batch_first=True,\n",
        "                                         bidirectional=True)\n",
        "    ### layer 2 is decoder unidirectional we are doing fixed state\n",
        "    self.layer2 = nn.GRU(input_size=hidden_size,hidden_size=hidden_size,num_layers=1,batch_first=True)\n",
        "\n",
        "    self.layer3 = nn.Sequential(\n",
        "                                nn.Tanh(),\n",
        "                                nn.Linear(hidden_size,in_size) ) # adding batchnormalization at the end\n",
        "\n",
        "    # self.constant_hidden = constant_hidden.unsqueeze(0).unsqueeze(0)\n",
        "  def forward(self,x):\n",
        "    # x = nn.BatchNorm1d(x.shape[1]).to(device)(x)\n",
        "    # x = nn.BatchNorm1d(x.shape[1])\n",
        "    x,_ = self.layer1(x) # output is hideen state\n",
        "    # print(x.shape)\n",
        "    outputs = []\n",
        "    input_vector = torch.zeros_like(x[:,0,:]).unsqueeze(dim=1)\n",
        "    # cell_state = torch.zeros_like(x[:,0,:]).unsqueeze(dim=0)\n",
        "    # print(input_vector.shape)\n",
        "    # print( x[:,-1,:].unsqueeze(1).shape)\n",
        "    for t in range(x.size(1)):\n",
        "            # print( x[:,-1,:].squeeze(1).unsqueeze(0).shape,input_vector.shape)\n",
        "            # Perform GRU step with constant hidden state\n",
        "            # out, (hidden_state, cell_state) = self.layer2(input_vector, (x[:,-1,:].squeeze(1).unsqueeze(0), cell_state))\n",
        "            out, _ = self.layer2(input_vector # current state\n",
        "                                 , x[:,-1,:].squeeze(1).unsqueeze(0) # last hidden state\n",
        "                                 )\n",
        "            # print(out.shape)\n",
        "            # print(out.shape)\n",
        "            # Pass the GRU output through a fully connected layer\n",
        "            # print(out.shape)\n",
        "            prediction = self.layer3(out.squeeze(1)) # fc is to get back to pose dimension\n",
        "\n",
        "            # Store the prediction and use it as the input for the next step\n",
        "            outputs.append(prediction)\n",
        "            input_vector = out\n",
        "\n",
        "\n",
        "        # Stack all the outputs to form the final output sequence\n",
        "    outputs = torch.stack(outputs, dim=1)\n",
        "        # return outputs\n",
        "    # x,_ = self.layer2(x)\n",
        "    return outputs"
      ],
      "metadata": {
        "id": "ZGJBGZuaencC"
      },
      "execution_count": null,
      "outputs": []
    },
    {
      "cell_type": "code",
      "source": [
        "\n",
        "device = torch.device(\"cuda\" if torch.cuda.is_available() else \"cpu\")\n",
        "in_size = 1\n",
        "hidden_size = 32\n",
        "no_layers=2 ## number of bi grus in encoder\n",
        "enc_dec_model = Encoder_Decoder(in_size,hidden_size,no_layers)\n",
        "enc_dec_model = enc_dec_model.to(device)"
      ],
      "metadata": {
        "id": "4UcIdA9ifWkb"
      },
      "execution_count": null,
      "outputs": []
    },
    {
      "cell_type": "code",
      "source": [
        "\n",
        "count = 0\n",
        "count+=(sum(param.numel() for param in enc_dec_model.parameters() if param.requires_grad))\n",
        "print(f\"Number of parameters in the Encoder Decoder model {count}\")"
      ],
      "metadata": {
        "colab": {
          "base_uri": "https://localhost:8080/"
        },
        "id": "8SE6lcccfYPt",
        "outputId": "76da27ec-bafd-495c-a46e-46f25f4d8809"
      },
      "execution_count": null,
      "outputs": [
        {
          "output_type": "stream",
          "name": "stdout",
          "text": [
            "Number of parameters in the Encoder Decoder model 12993\n"
          ]
        }
      ]
    },
    {
      "cell_type": "markdown",
      "source": [
        "### Bayesian_optimization"
      ],
      "metadata": {
        "id": "yN7oHmxsfep6"
      }
    },
    {
      "cell_type": "code",
      "source": [
        "def net_train(net, train_loader, parameters, dtype, device):\n",
        "  net.to( device=device)\n",
        "\n",
        "  # Define loss and optimizer\n",
        "  criterion = nn.MSELoss()\n",
        "  # optimizer = optim.SGD(net.parameters(), # or any optimizer you prefer\n",
        "  #                       lr=parameters.get(\"lr\", 0.001), # 0.001 is used if no lr is specified\n",
        "  #                       momentum=parameters.get(\"momentum\", 0.9)\n",
        "  # )\n",
        "  optimizer = optim.Adam(net.parameters(), lr=parameters.get('lr',0.001),\n",
        "                         weight_decay=parameters.get(\"weight_decay\",0.00039147384191798724))\n",
        "  scheduler = ReduceLROnPlateau(optimizer, 'min',\n",
        "                                patience=parameters.get(\"patience\",5),\n",
        "                                factor=0.5)\n",
        "  # scheduler = optim.lr_scheduler.StepLR(\n",
        "  #     optimizer,\n",
        "  #     step_size=int(parameters.get(\"step_size\", 30)),\n",
        "  #     gamma=parameters.get(\"gamma\", 1.0),  # default is no learning rate decay\n",
        "  # )\n",
        "  best_val_loss = float('inf')\n",
        "  num_epochs = 15 # Play around with epoch number\n",
        "\n",
        "  net.train()\n",
        "  # Train Network\n",
        "  for _ in range(num_epochs):\n",
        "\n",
        "      for inputs in train_loader:\n",
        "          # move data to proper dtype and device\n",
        "          inputs = inputs.to(dtype=dtype, device=device)\n",
        "\n",
        "          # zero the parameter gradient\n",
        "          optimizer.zero_grad()\n",
        "\n",
        "          # forward + backward + optimize\n",
        "          outputs = net(inputs)\n",
        "          loss = criterion(outputs, inputs)\n",
        "          loss.backward()\n",
        "          torch.nn.utils.clip_grad_norm_(net.parameters(), parameters.get(\"clip_value\", 10.47314254460227))\n",
        "          optimizer.step()\n",
        "      val_loss = 0\n",
        "      # Evaluate Network\n",
        "      for inputs in val_loader:\n",
        "          inputs = inputs.to(dtype=dtype, device=device)\n",
        "          outputs = net(inputs)\n",
        "          loss = criterion(outputs, inputs)\n",
        "          val_loss += loss.item()\n",
        "          # if loss.item() < best_val_loss:\n",
        "          #     best_val_loss = loss.item()\n",
        "          #     torch.save(net.state_dict(), 'best_model.pth')\n",
        "\n",
        "      scheduler.step(val_loss)\n",
        "  return net"
      ],
      "metadata": {
        "id": "02hLf2ejkzEr"
      },
      "execution_count": null,
      "outputs": []
    },
    {
      "cell_type": "code",
      "source": [
        "def init_net(parameterization):\n",
        "\n",
        "    model = Encoder_Decoder(10,parameterization.get(\"hidden_dim\",512),parameterization.get(\"no_layers\",5))\n",
        "\n",
        "    print(\"Number of parameters to train: {}\".format(sum(p.numel() for p in model.parameters())))\n",
        "    return model # return untrained model"
      ],
      "metadata": {
        "id": "dSmdynatk2dn"
      },
      "execution_count": null,
      "outputs": []
    },
    {
      "cell_type": "code",
      "source": [
        "def evaluate(net, data_loader, dtype, device, parametrization): # changed model to net, val_loader to data_loader\n",
        "    net.eval()\n",
        "    total_loss = 0\n",
        "    criterion = nn.MSELoss() #Moved criterion outside of the loop\n",
        "    with torch.no_grad():\n",
        "        for batch in data_loader: # Changed batch to batch,_ to fit the expected output from train_loader\n",
        "            batch = batch.to(dtype=dtype, device=device) #Added dtype and device\n",
        "            outputs = net(batch)\n",
        "            loss = criterion(outputs, batch)  # Changed inputs to batch\n",
        "            total_loss += loss.item()\n",
        "    # parametrization.get(\"loss\", total_loss / len(data_loader)) # Removed - Incorrect behavior\n",
        "    return total_loss / len(data_loader) # Return the calculated loss"
      ],
      "metadata": {
        "id": "q3YKl-d5t-U4"
      },
      "execution_count": null,
      "outputs": []
    },
    {
      "cell_type": "code",
      "source": [
        "def train_evaluate(parameterization):\n",
        "\n",
        "    # constructing a new training data loader allows us to tune the batch size\n",
        "    # train_loader = torch.utils.data.DataLoader(train_set,\n",
        "    #                             batch_size=parameterization.get(\"batchsize\", 32),\n",
        "    #                             shuffle=True,\n",
        "    #                             num_workers=1,\n",
        "    #                             pin_memory=True)\n",
        "\n",
        "    # Get neural net\n",
        "    untrained_net = init_net(parameterization)\n",
        "\n",
        "    # train\n",
        "    trained_net = net_train(net=untrained_net, train_loader=train_loader,\n",
        "                            parameters=parameterization, dtype=dtype, device=device)\n",
        "\n",
        "    # return the accuracy of the model as it was trained in this run\n",
        "    loss = evaluate(\n",
        "        net=trained_net,\n",
        "        data_loader=val_loader,\n",
        "        dtype=dtype,\n",
        "        device=device,\n",
        "        parametrization=parameterization\n",
        "    )\n",
        "\n",
        "    return {\"loss\": loss} # Return the loss as a dictionary for AxClient"
      ],
      "metadata": {
        "id": "WYATUOnOk5RN"
      },
      "execution_count": null,
      "outputs": []
    },
    {
      "cell_type": "code",
      "source": [
        "\n",
        "# best_parameters, values, experiment, model = optimize\n",
        "ax_client = AxClient()"
      ],
      "metadata": {
        "colab": {
          "base_uri": "https://localhost:8080/"
        },
        "id": "VmeU1_5izYwx",
        "outputId": "bb9f77ed-aab9-4c16-ca5e-d8e11004058e"
      },
      "execution_count": null,
      "outputs": [
        {
          "output_type": "stream",
          "name": "stderr",
          "text": [
            "[INFO 09-30 09:51:42] ax.service.ax_client: Starting optimization with verbose logging. To disable logging, set the `verbose_logging` argument to `False`. Note that float values in the logs are rounded to 6 decimal points.\n"
          ]
        }
      ]
    },
    {
      "cell_type": "code",
      "source": [
        "#torch.cuda.set_device(0) #this is sometimes necessary for me\n",
        "from ax.modelbridge.registry import Models\n",
        "dtype = torch.float\n",
        "device = torch.device('cuda' if torch.cuda.is_available() else 'cpu')\n",
        "ax_client.create_experiment(\n",
        "    name='hyper_parameters_tuning',\n",
        "    parameters=[\n",
        "        {\"name\": \"lr\", \"type\": \"range\", \"bounds\": [1e-6, 0.4],'value_type':\"float\", \"log_scale\": True},\n",
        "        {\"name\": \"hidden_dim\", \"type\": \"choice\", \"values\": [256,512,1024],'value_type':\"int\"},\n",
        "        {\"name\": \"no_layers\", \"type\": \"range\", \"bounds\": [3, 5],'value_type':\"int\"},\n",
        "        {\"name\": \"weight_decay\", \"type\": \"range\", \"bounds\": [1e-5, 0.001],'value_type':\"float\"},\n",
        "        {\"name\": \"patience\", \"type\": \"range\", \"bounds\": [1, 10],'value_type':\"int\"},\n",
        "        # {\"name\": \"num_epochs\", \"type\": \"range\", \"bounds\": [10, 100],'value_type':\"int\"},\n",
        "        {\"name\": \"clip_value\", \"type\": \"range\", \"bounds\": [5.1, 100.0],'value_type':\"float\"},\n",
        "        #{\"name\": \"max_epoch\", \"type\": \"range\", \"bounds\": [1, 30]},\n",
        "        #{\"name\": \"stepsize\", \"type\": \"range\", \"bounds\": [20, 40]},\n",
        "    ],\n",
        "    objectives={\"loss\": ObjectiveProperties(minimize=True)},\n",
        "    overwrite_existing_experiment=True\n",
        "    # evaluation_function=train_evaluate,\n",
        "\n",
        "    # objective_name='loss',\n",
        "    # minimize=True,\n",
        "    # experiment_name='hyper_parameters_tuning',\n",
        "    # total_trials=10\n",
        ")\n",
        "\n",
        "# print(best_parameters)\n",
        "# means, covariances = values\n",
        "# print(means)\n",
        "# print(covariances)"
      ],
      "metadata": {
        "colab": {
          "base_uri": "https://localhost:8080/"
        },
        "id": "PUEbV06Yz1gx",
        "outputId": "53e1b312-ce02-4392-9f0e-db42571577d5"
      },
      "execution_count": null,
      "outputs": [
        {
          "output_type": "stream",
          "name": "stderr",
          "text": [
            "/usr/local/lib/python3.10/dist-packages/ax/service/utils/instantiation.py:248: AxParameterWarning:\n",
            "\n",
            "`is_ordered` is not specified for `ChoiceParameter` \"hidden_dim\". Defaulting to `True`  since the parameter is not of type string.. To override this behavior (or avoid this warning), specify `is_ordered` during `ChoiceParameter` construction. Note that choice parameters with exactly 2 choices are always considered ordered and that the user-supplied `is_ordered` has no effect in this particular case.\n",
            "\n",
            "/usr/local/lib/python3.10/dist-packages/ax/service/utils/instantiation.py:248: AxParameterWarning:\n",
            "\n",
            "`sort_values` is not specified for `ChoiceParameter` \"hidden_dim\". Defaulting to `True` for parameters of `ParameterType` INT. To override this behavior (or avoid this warning), specify `sort_values` during `ChoiceParameter` construction.\n",
            "\n",
            "[INFO 09-30 09:51:46] ax.service.utils.instantiation: Created search space: SearchSpace(parameters=[RangeParameter(name='lr', parameter_type=FLOAT, range=[1e-06, 0.4], log_scale=True), ChoiceParameter(name='hidden_dim', parameter_type=INT, values=[256, 512, 1024], is_ordered=True, sort_values=True), RangeParameter(name='no_layers', parameter_type=INT, range=[3, 5]), RangeParameter(name='weight_decay', parameter_type=FLOAT, range=[1e-05, 0.001]), RangeParameter(name='patience', parameter_type=INT, range=[1, 10]), RangeParameter(name='clip_value', parameter_type=FLOAT, range=[5.1, 100.0])], parameter_constraints=[]).\n",
            "[INFO 09-30 09:51:46] ax.modelbridge.dispatch_utils: Using Models.BOTORCH_MODULAR since there is at least one ordered parameter and there are no unordered categorical parameters.\n",
            "[INFO 09-30 09:51:46] ax.modelbridge.dispatch_utils: Calculating the number of remaining initialization trials based on num_initialization_trials=None max_initialization_trials=None num_tunable_parameters=6 num_trials=None use_batch_trials=False\n",
            "[INFO 09-30 09:51:46] ax.modelbridge.dispatch_utils: calculated num_initialization_trials=12\n",
            "[INFO 09-30 09:51:46] ax.modelbridge.dispatch_utils: num_completed_initialization_trials=0 num_remaining_initialization_trials=12\n",
            "[INFO 09-30 09:51:46] ax.modelbridge.dispatch_utils: `verbose`, `disable_progbar`, and `jit_compile` are not yet supported when using `choose_generation_strategy` with ModularBoTorchModel, dropping these arguments.\n",
            "[INFO 09-30 09:51:46] ax.modelbridge.dispatch_utils: Using Bayesian Optimization generation strategy: GenerationStrategy(name='Sobol+BoTorch', steps=[Sobol for 12 trials, BoTorch for subsequent trials]). Iterations after 12 will take longer to generate due to model-fitting.\n"
          ]
        }
      ]
    },
    {
      "cell_type": "code",
      "source": [
        "for i in range(50):\n",
        "    parameters, trial_index = ax_client.get_next_trial()\n",
        "    # Local evaluation here can be replaced with deployment to external system.\n",
        "    ax_client.complete_trial(trial_index=trial_index, raw_data=train_evaluate(parameters))"
      ],
      "metadata": {
        "colab": {
          "base_uri": "https://localhost:8080/"
        },
        "id": "IzgwSGal0ml7",
        "outputId": "8d3e6868-cc96-4d06-b838-dd793de7664d"
      },
      "execution_count": null,
      "outputs": [
        {
          "metadata": {
            "tags": null
          },
          "name": "stderr",
          "output_type": "stream",
          "text": [
            "/usr/local/lib/python3.10/dist-packages/ax/modelbridge/cross_validation.py:463: UserWarning:\n",
            "\n",
            "Encountered exception in computing model fit quality: RandomModelBridge does not support prediction.\n",
            "\n",
            "[INFO 09-30 09:52:07] ax.service.ax_client: Generated new trial 0 with parameters {'lr': 0.013386, 'hidden_dim': 256, 'no_layers': 3, 'weight_decay': 0.000302, 'patience': 6, 'clip_value': 83.631474} using model Sobol.\n"
          ]
        },
        {
          "metadata": {
            "tags": null
          },
          "name": "stdout",
          "output_type": "stream",
          "text": [
            "Number of parameters to train: 1097738\n"
          ]
        },
        {
          "metadata": {
            "tags": null
          },
          "name": "stderr",
          "output_type": "stream",
          "text": [
            "[INFO 09-30 09:52:35] ax.service.ax_client: Completed trial 0 with data: {'loss': (493.722241, None)}.\n",
            "/usr/local/lib/python3.10/dist-packages/ax/modelbridge/cross_validation.py:463: UserWarning:\n",
            "\n",
            "Encountered exception in computing model fit quality: RandomModelBridge does not support prediction.\n",
            "\n",
            "[INFO 09-30 09:52:35] ax.service.ax_client: Generated new trial 1 with parameters {'lr': 0.000369, 'hidden_dim': 1024, 'no_layers': 5, 'weight_decay': 0.000648, 'patience': 4, 'clip_value': 41.444931} using model Sobol.\n"
          ]
        },
        {
          "metadata": {
            "tags": null
          },
          "name": "stdout",
          "output_type": "stream",
          "text": [
            "Number of parameters to train: 26816522\n"
          ]
        },
        {
          "metadata": {
            "tags": null
          },
          "name": "stderr",
          "output_type": "stream",
          "text": [
            "[INFO 09-30 09:58:12] ax.service.ax_client: Completed trial 1 with data: {'loss': (2505.885742, None)}.\n",
            "/usr/local/lib/python3.10/dist-packages/ax/modelbridge/cross_validation.py:463: UserWarning:\n",
            "\n",
            "Encountered exception in computing model fit quality: RandomModelBridge does not support prediction.\n",
            "\n",
            "[INFO 09-30 09:58:12] ax.service.ax_client: Generated new trial 2 with parameters {'lr': 1e-06, 'hidden_dim': 256, 'no_layers': 4, 'weight_decay': 0.000196, 'patience': 1, 'clip_value': 22.814624} using model Sobol.\n"
          ]
        },
        {
          "metadata": {
            "tags": null
          },
          "name": "stdout",
          "output_type": "stream",
          "text": [
            "Number of parameters to train: 1394186\n"
          ]
        },
        {
          "metadata": {
            "tags": null
          },
          "name": "stderr",
          "output_type": "stream",
          "text": [
            "[INFO 09-30 09:58:47] ax.service.ax_client: Completed trial 2 with data: {'loss': (5583.086914, None)}.\n",
            "/usr/local/lib/python3.10/dist-packages/ax/modelbridge/cross_validation.py:463: UserWarning:\n",
            "\n",
            "Encountered exception in computing model fit quality: RandomModelBridge does not support prediction.\n",
            "\n",
            "[INFO 09-30 09:58:47] ax.service.ax_client: Generated new trial 3 with parameters {'lr': 0.029183, 'hidden_dim': 512, 'no_layers': 4, 'weight_decay': 0.000871, 'patience': 9, 'clip_value': 63.70938} using model Sobol.\n"
          ]
        },
        {
          "metadata": {
            "tags": null
          },
          "name": "stdout",
          "output_type": "stream",
          "text": [
            "Number of parameters to train: 5540874\n"
          ]
        },
        {
          "metadata": {
            "tags": null
          },
          "name": "stderr",
          "output_type": "stream",
          "text": [
            "[INFO 09-30 09:59:59] ax.service.ax_client: Completed trial 3 with data: {'loss': (223.146011, None)}.\n",
            "/usr/local/lib/python3.10/dist-packages/ax/modelbridge/cross_validation.py:463: UserWarning:\n",
            "\n",
            "Encountered exception in computing model fit quality: RandomModelBridge does not support prediction.\n",
            "\n",
            "[INFO 09-30 09:59:59] ax.service.ax_client: Generated new trial 4 with parameters {'lr': 0.089323, 'hidden_dim': 512, 'no_layers': 5, 'weight_decay': 0.000932, 'patience': 10, 'clip_value': 92.988826} using model Sobol.\n"
          ]
        },
        {
          "metadata": {
            "tags": null
          },
          "name": "stdout",
          "output_type": "stream",
          "text": [
            "Number of parameters to train: 6723594\n"
          ]
        },
        {
          "metadata": {
            "tags": null
          },
          "name": "stderr",
          "output_type": "stream",
          "text": [
            "[INFO 09-30 10:01:22] ax.service.ax_client: Completed trial 4 with data: {'loss': (2309.062256, None)}.\n",
            "/usr/local/lib/python3.10/dist-packages/ax/modelbridge/cross_validation.py:463: UserWarning:\n",
            "\n",
            "Encountered exception in computing model fit quality: RandomModelBridge does not support prediction.\n",
            "\n",
            "[INFO 09-30 10:01:22] ax.service.ax_client: Generated new trial 5 with parameters {'lr': 9e-06, 'hidden_dim': 512, 'no_layers': 3, 'weight_decay': 1.4e-05, 'patience': 2, 'clip_value': 39.490056} using model Sobol.\n"
          ]
        },
        {
          "metadata": {
            "tags": null
          },
          "name": "stdout",
          "output_type": "stream",
          "text": [
            "Number of parameters to train: 4358154\n"
          ]
        },
        {
          "metadata": {
            "tags": null
          },
          "name": "stderr",
          "output_type": "stream",
          "text": [
            "[INFO 09-30 10:02:23] ax.service.ax_client: Completed trial 5 with data: {'loss': (5295.864355, None)}.\n",
            "/usr/local/lib/python3.10/dist-packages/ax/modelbridge/cross_validation.py:463: UserWarning:\n",
            "\n",
            "Encountered exception in computing model fit quality: RandomModelBridge does not support prediction.\n",
            "\n",
            "[INFO 09-30 10:02:23] ax.service.ax_client: Generated new trial 6 with parameters {'lr': 0.0001, 'hidden_dim': 256, 'no_layers': 5, 'weight_decay': 0.00059, 'patience': 5, 'clip_value': 11.412602} using model Sobol.\n"
          ]
        },
        {
          "metadata": {
            "tags": null
          },
          "name": "stdout",
          "output_type": "stream",
          "text": [
            "Number of parameters to train: 1690634\n"
          ]
        },
        {
          "metadata": {
            "tags": null
          },
          "name": "stderr",
          "output_type": "stream",
          "text": [
            "[INFO 09-30 10:03:06] ax.service.ax_client: Completed trial 6 with data: {'loss': (4969.165234, None)}.\n",
            "/usr/local/lib/python3.10/dist-packages/ax/modelbridge/cross_validation.py:463: UserWarning:\n",
            "\n",
            "Encountered exception in computing model fit quality: RandomModelBridge does not support prediction.\n",
            "\n",
            "[INFO 09-30 10:03:06] ax.service.ax_client: Generated new trial 7 with parameters {'lr': 0.001619, 'hidden_dim': 1024, 'no_layers': 3, 'weight_decay': 0.000487, 'patience': 7, 'clip_value': 64.72013} using model Sobol.\n"
          ]
        },
        {
          "metadata": {
            "tags": null
          },
          "name": "stdout",
          "output_type": "stream",
          "text": [
            "Number of parameters to train: 17367050\n"
          ]
        },
        {
          "metadata": {
            "tags": null
          },
          "name": "stderr",
          "output_type": "stream",
          "text": [
            "[INFO 09-30 10:06:39] ax.service.ax_client: Completed trial 7 with data: {'loss': (795.276331, None)}.\n",
            "/usr/local/lib/python3.10/dist-packages/ax/modelbridge/cross_validation.py:463: UserWarning:\n",
            "\n",
            "Encountered exception in computing model fit quality: RandomModelBridge does not support prediction.\n",
            "\n",
            "[INFO 09-30 10:06:39] ax.service.ax_client: Generated new trial 8 with parameters {'lr': 0.000656, 'hidden_dim': 512, 'no_layers': 4, 'weight_decay': 0.000104, 'patience': 3, 'clip_value': 55.378168} using model Sobol.\n"
          ]
        },
        {
          "metadata": {
            "tags": null
          },
          "name": "stdout",
          "output_type": "stream",
          "text": [
            "Number of parameters to train: 5540874\n"
          ]
        },
        {
          "metadata": {
            "tags": null
          },
          "name": "stderr",
          "output_type": "stream",
          "text": [
            "[INFO 09-30 10:07:56] ax.service.ax_client: Completed trial 8 with data: {'loss': (2648.862061, None)}.\n",
            "/usr/local/lib/python3.10/dist-packages/ax/modelbridge/cross_validation.py:463: UserWarning:\n",
            "\n",
            "Encountered exception in computing model fit quality: RandomModelBridge does not support prediction.\n",
            "\n",
            "[INFO 09-30 10:07:56] ax.service.ax_client: Generated new trial 9 with parameters {'lr': 4.1e-05, 'hidden_dim': 1024, 'no_layers': 3, 'weight_decay': 0.000965, 'patience': 7, 'clip_value': 25.283368} using model Sobol.\n"
          ]
        },
        {
          "metadata": {
            "tags": null
          },
          "name": "stdout",
          "output_type": "stream",
          "text": [
            "Number of parameters to train: 17367050\n"
          ]
        },
        {
          "metadata": {
            "tags": null
          },
          "name": "stderr",
          "output_type": "stream",
          "text": [
            "[INFO 09-30 10:11:30] ax.service.ax_client: Completed trial 9 with data: {'loss': (4539.784668, None)}.\n",
            "/usr/local/lib/python3.10/dist-packages/ax/modelbridge/cross_validation.py:463: UserWarning:\n",
            "\n",
            "Encountered exception in computing model fit quality: RandomModelBridge does not support prediction.\n",
            "\n",
            "[INFO 09-30 10:11:30] ax.service.ax_client: Generated new trial 10 with parameters {'lr': 1.8e-05, 'hidden_dim': 256, 'no_layers': 5, 'weight_decay': 0.000396, 'patience': 8, 'clip_value': 50.951998} using model Sobol.\n"
          ]
        },
        {
          "metadata": {
            "tags": null
          },
          "name": "stdout",
          "output_type": "stream",
          "text": [
            "Number of parameters to train: 1690634\n"
          ]
        },
        {
          "metadata": {
            "tags": null
          },
          "name": "stderr",
          "output_type": "stream",
          "text": [
            "[INFO 09-30 10:12:13] ax.service.ax_client: Completed trial 10 with data: {'loss': (5346.679004, None)}.\n",
            "/usr/local/lib/python3.10/dist-packages/ax/modelbridge/cross_validation.py:463: UserWarning:\n",
            "\n",
            "Encountered exception in computing model fit quality: RandomModelBridge does not support prediction.\n",
            "\n",
            "[INFO 09-30 10:12:13] ax.service.ax_client: Generated new trial 11 with parameters {'lr': 0.179779, 'hidden_dim': 1024, 'no_layers': 3, 'weight_decay': 0.000557, 'patience': 1, 'clip_value': 80.125888} using model Sobol.\n"
          ]
        },
        {
          "metadata": {
            "tags": null
          },
          "name": "stdout",
          "output_type": "stream",
          "text": [
            "Number of parameters to train: 17367050\n"
          ]
        },
        {
          "metadata": {
            "tags": null
          },
          "name": "stderr",
          "output_type": "stream",
          "text": [
            "[INFO 09-30 10:15:19] ax.service.ax_client: Completed trial 11 with data: {'loss': (490.937604, None)}.\n",
            "[INFO 09-30 10:15:21] ax.service.ax_client: Generated new trial 12 with parameters {'lr': 0.025613, 'hidden_dim': 1024, 'no_layers': 3, 'weight_decay': 0.000677, 'patience': 2, 'clip_value': 54.075773} using model BoTorch.\n"
          ]
        },
        {
          "metadata": {
            "tags": null
          },
          "name": "stdout",
          "output_type": "stream",
          "text": [
            "Number of parameters to train: 17367050\n"
          ]
        },
        {
          "metadata": {
            "tags": null
          },
          "name": "stderr",
          "output_type": "stream",
          "text": [
            "[INFO 09-30 10:18:39] ax.service.ax_client: Completed trial 12 with data: {'loss': (122.560612, None)}.\n",
            "[INFO 09-30 10:18:41] ax.service.ax_client: Generated new trial 13 with parameters {'lr': 0.04213, 'hidden_dim': 1024, 'no_layers': 3, 'weight_decay': 0.000435, 'patience': 10, 'clip_value': 63.021066} using model BoTorch.\n"
          ]
        },
        {
          "metadata": {
            "tags": null
          },
          "name": "stdout",
          "output_type": "stream",
          "text": [
            "Number of parameters to train: 17367050\n"
          ]
        },
        {
          "metadata": {
            "tags": null
          },
          "name": "stderr",
          "output_type": "stream",
          "text": [
            "[INFO 09-30 10:21:53] ax.service.ax_client: Completed trial 13 with data: {'loss': (291.532794, None)}.\n",
            "[INFO 09-30 10:21:55] ax.service.ax_client: Generated new trial 14 with parameters {'lr': 0.01272, 'hidden_dim': 1024, 'no_layers': 3, 'weight_decay': 0.000983, 'patience': 1, 'clip_value': 73.48672} using model BoTorch.\n"
          ]
        },
        {
          "metadata": {
            "tags": null
          },
          "name": "stdout",
          "output_type": "stream",
          "text": [
            "Number of parameters to train: 17367050\n"
          ]
        },
        {
          "metadata": {
            "tags": null
          },
          "name": "stderr",
          "output_type": "stream",
          "text": [
            "[INFO 09-30 10:25:17] ax.service.ax_client: Completed trial 14 with data: {'loss': (154.966718, None)}.\n",
            "[INFO 09-30 10:25:19] ax.service.ax_client: Generated new trial 15 with parameters {'lr': 0.01761, 'hidden_dim': 1024, 'no_layers': 3, 'weight_decay': 0.000635, 'patience': 1, 'clip_value': 70.299251} using model BoTorch.\n"
          ]
        },
        {
          "metadata": {
            "tags": null
          },
          "name": "stdout",
          "output_type": "stream",
          "text": [
            "Number of parameters to train: 17367050\n"
          ]
        },
        {
          "metadata": {
            "tags": null
          },
          "name": "stderr",
          "output_type": "stream",
          "text": [
            "[INFO 09-30 10:28:38] ax.service.ax_client: Completed trial 15 with data: {'loss': (129.137242, None)}.\n",
            "[INFO 09-30 10:28:41] ax.service.ax_client: Generated new trial 16 with parameters {'lr': 0.03724, 'hidden_dim': 256, 'no_layers': 3, 'weight_decay': 0.000917, 'patience': 6, 'clip_value': 62.635968} using model BoTorch.\n"
          ]
        },
        {
          "metadata": {
            "tags": null
          },
          "name": "stdout",
          "output_type": "stream",
          "text": [
            "Number of parameters to train: 1097738\n"
          ]
        },
        {
          "metadata": {
            "tags": null
          },
          "name": "stderr",
          "output_type": "stream",
          "text": [
            "[INFO 09-30 10:29:08] ax.service.ax_client: Completed trial 16 with data: {'loss': (224.145938, None)}.\n",
            "[INFO 09-30 10:29:11] ax.service.ax_client: Generated new trial 17 with parameters {'lr': 0.013626, 'hidden_dim': 1024, 'no_layers': 3, 'weight_decay': 0.000954, 'patience': 7, 'clip_value': 60.498779} using model BoTorch.\n"
          ]
        },
        {
          "metadata": {
            "tags": null
          },
          "name": "stdout",
          "output_type": "stream",
          "text": [
            "Number of parameters to train: 17367050\n"
          ]
        },
        {
          "metadata": {
            "tags": null
          },
          "name": "stderr",
          "output_type": "stream",
          "text": [
            "[INFO 09-30 10:32:32] ax.service.ax_client: Completed trial 17 with data: {'loss': (168.221121, None)}.\n",
            "[INFO 09-30 10:32:34] ax.service.ax_client: Generated new trial 18 with parameters {'lr': 0.101852, 'hidden_dim': 1024, 'no_layers': 5, 'weight_decay': 0.001, 'patience': 1, 'clip_value': 23.330479} using model BoTorch.\n"
          ]
        },
        {
          "metadata": {
            "tags": null
          },
          "name": "stdout",
          "output_type": "stream",
          "text": [
            "Number of parameters to train: 26816522\n"
          ]
        },
        {
          "metadata": {
            "tags": null
          },
          "name": "stderr",
          "output_type": "stream",
          "text": [
            "[INFO 09-30 10:37:34] ax.service.ax_client: Completed trial 18 with data: {'loss': (337.852448, None)}.\n",
            "[INFO 09-30 10:37:36] ax.modelbridge.base: Untransformed parameter 0.40000000000000013 greater than upper bound 0.4, clamping\n",
            "[INFO 09-30 10:37:36] ax.service.ax_client: Generated new trial 19 with parameters {'lr': 0.4, 'hidden_dim': 256, 'no_layers': 4, 'weight_decay': 0.000303, 'patience': 1, 'clip_value': 37.260116} using model BoTorch.\n"
          ]
        },
        {
          "metadata": {
            "tags": null
          },
          "name": "stdout",
          "output_type": "stream",
          "text": [
            "Number of parameters to train: 1394186\n"
          ]
        },
        {
          "metadata": {
            "tags": null
          },
          "name": "stderr",
          "output_type": "stream",
          "text": [
            "[INFO 09-30 10:38:10] ax.service.ax_client: Completed trial 19 with data: {'loss': (1189.79104, None)}.\n",
            "[INFO 09-30 10:38:13] ax.service.ax_client: Generated new trial 20 with parameters {'lr': 0.021486, 'hidden_dim': 1024, 'no_layers': 4, 'weight_decay': 0.001, 'patience': 1, 'clip_value': 47.385565} using model BoTorch.\n"
          ]
        },
        {
          "metadata": {
            "tags": null
          },
          "name": "stdout",
          "output_type": "stream",
          "text": [
            "Number of parameters to train: 22091786\n"
          ]
        },
        {
          "metadata": {
            "tags": null
          },
          "name": "stderr",
          "output_type": "stream",
          "text": [
            "[INFO 09-30 10:42:29] ax.service.ax_client: Completed trial 20 with data: {'loss': (132.976883, None)}.\n",
            "[INFO 09-30 10:42:31] ax.modelbridge.base: Untransformed parameter 0.40000000000000013 greater than upper bound 0.4, clamping\n",
            "[INFO 09-30 10:42:31] ax.service.ax_client: Generated new trial 21 with parameters {'lr': 0.4, 'hidden_dim': 1024, 'no_layers': 3, 'weight_decay': 0.001, 'patience': 10, 'clip_value': 38.595204} using model BoTorch.\n"
          ]
        },
        {
          "metadata": {
            "tags": null
          },
          "name": "stdout",
          "output_type": "stream",
          "text": [
            "Number of parameters to train: 17367050\n"
          ]
        },
        {
          "metadata": {
            "tags": null
          },
          "name": "stderr",
          "output_type": "stream",
          "text": [
            "[INFO 09-30 10:45:39] ax.service.ax_client: Completed trial 21 with data: {'loss': (1546.452344, None)}.\n",
            "[INFO 09-30 10:45:41] ax.service.ax_client: Generated new trial 22 with parameters {'lr': 0.021544, 'hidden_dim': 1024, 'no_layers': 5, 'weight_decay': 0.001, 'patience': 10, 'clip_value': 33.201767} using model BoTorch.\n"
          ]
        },
        {
          "metadata": {
            "tags": null
          },
          "name": "stdout",
          "output_type": "stream",
          "text": [
            "Number of parameters to train: 26816522\n"
          ]
        },
        {
          "metadata": {
            "tags": null
          },
          "name": "stderr",
          "output_type": "stream",
          "text": [
            "[INFO 09-30 10:50:55] ax.service.ax_client: Completed trial 22 with data: {'loss': (260.887109, None)}.\n",
            "[INFO 09-30 10:50:58] ax.service.ax_client: Generated new trial 23 with parameters {'lr': 0.03668, 'hidden_dim': 256, 'no_layers': 5, 'weight_decay': 0.001, 'patience': 1, 'clip_value': 34.758825} using model BoTorch.\n"
          ]
        },
        {
          "metadata": {
            "tags": null
          },
          "name": "stdout",
          "output_type": "stream",
          "text": [
            "Number of parameters to train: 1690634\n"
          ]
        },
        {
          "metadata": {
            "tags": null
          },
          "name": "stderr",
          "output_type": "stream",
          "text": [
            "[INFO 09-30 10:51:40] ax.service.ax_client: Completed trial 23 with data: {'loss': (237.700714, None)}.\n",
            "[INFO 09-30 10:51:43] ax.service.ax_client: Generated new trial 24 with parameters {'lr': 0.035432, 'hidden_dim': 1024, 'no_layers': 5, 'weight_decay': 0.000781, 'patience': 1, 'clip_value': 37.930906} using model BoTorch.\n"
          ]
        },
        {
          "metadata": {
            "tags": null
          },
          "name": "stdout",
          "output_type": "stream",
          "text": [
            "Number of parameters to train: 26816522\n"
          ]
        },
        {
          "metadata": {
            "tags": null
          },
          "name": "stderr",
          "output_type": "stream",
          "text": [
            "[INFO 09-30 10:56:48] ax.service.ax_client: Completed trial 24 with data: {'loss': (198.554385, None)}.\n",
            "[INFO 09-30 10:56:51] ax.service.ax_client: Generated new trial 25 with parameters {'lr': 0.015234, 'hidden_dim': 256, 'no_layers': 3, 'weight_decay': 0.000695, 'patience': 1, 'clip_value': 71.161692} using model BoTorch.\n"
          ]
        },
        {
          "metadata": {
            "tags": null
          },
          "name": "stdout",
          "output_type": "stream",
          "text": [
            "Number of parameters to train: 1097738\n"
          ]
        },
        {
          "metadata": {
            "tags": null
          },
          "name": "stderr",
          "output_type": "stream",
          "text": [
            "[INFO 09-30 10:57:19] ax.service.ax_client: Completed trial 25 with data: {'loss': (395.283881, None)}.\n",
            "[INFO 09-30 10:57:22] ax.service.ax_client: Generated new trial 26 with parameters {'lr': 0.011794, 'hidden_dim': 1024, 'no_layers': 3, 'weight_decay': 0.000613, 'patience': 10, 'clip_value': 81.532153} using model BoTorch.\n"
          ]
        },
        {
          "metadata": {
            "tags": null
          },
          "name": "stdout",
          "output_type": "stream",
          "text": [
            "Number of parameters to train: 17367050\n"
          ]
        },
        {
          "metadata": {
            "tags": null
          },
          "name": "stderr",
          "output_type": "stream",
          "text": [
            "[INFO 09-30 11:00:42] ax.service.ax_client: Completed trial 26 with data: {'loss': (144.558246, None)}.\n",
            "[INFO 09-30 11:00:46] ax.service.ax_client: Generated new trial 27 with parameters {'lr': 0.024501, 'hidden_dim': 1024, 'no_layers': 5, 'weight_decay': 0.001, 'patience': 1, 'clip_value': 36.927431} using model BoTorch.\n"
          ]
        },
        {
          "metadata": {
            "tags": null
          },
          "name": "stdout",
          "output_type": "stream",
          "text": [
            "Number of parameters to train: 26816522\n"
          ]
        },
        {
          "metadata": {
            "tags": null
          },
          "name": "stderr",
          "output_type": "stream",
          "text": [
            "[INFO 09-30 11:05:57] ax.service.ax_client: Completed trial 27 with data: {'loss': (229.558109, None)}.\n",
            "[INFO 09-30 11:06:00] ax.service.ax_client: Generated new trial 28 with parameters {'lr': 0.02521, 'hidden_dim': 1024, 'no_layers': 5, 'weight_decay': 0.001, 'patience': 1, 'clip_value': 5.1} using model BoTorch.\n"
          ]
        },
        {
          "metadata": {
            "tags": null
          },
          "name": "stdout",
          "output_type": "stream",
          "text": [
            "Number of parameters to train: 26816522\n"
          ]
        },
        {
          "metadata": {
            "tags": null
          },
          "name": "stderr",
          "output_type": "stream",
          "text": [
            "[INFO 09-30 11:11:22] ax.service.ax_client: Completed trial 28 with data: {'loss': (250.521939, None)}.\n",
            "[INFO 09-30 11:11:25] ax.service.ax_client: Generated new trial 29 with parameters {'lr': 0.045861, 'hidden_dim': 256, 'no_layers': 5, 'weight_decay': 0.001, 'patience': 9, 'clip_value': 5.1} using model BoTorch.\n"
          ]
        },
        {
          "metadata": {
            "tags": null
          },
          "name": "stdout",
          "output_type": "stream",
          "text": [
            "Number of parameters to train: 1690634\n"
          ]
        },
        {
          "metadata": {
            "tags": null
          },
          "name": "stderr",
          "output_type": "stream",
          "text": [
            "[INFO 09-30 11:12:07] ax.service.ax_client: Completed trial 29 with data: {'loss': (403.97052, None)}.\n",
            "[INFO 09-30 11:12:10] ax.service.ax_client: Generated new trial 30 with parameters {'lr': 0.002506, 'hidden_dim': 1024, 'no_layers': 3, 'weight_decay': 0.001, 'patience': 10, 'clip_value': 100.0} using model BoTorch.\n"
          ]
        },
        {
          "metadata": {
            "tags": null
          },
          "name": "stdout",
          "output_type": "stream",
          "text": [
            "Number of parameters to train: 17367050\n"
          ]
        },
        {
          "metadata": {
            "tags": null
          },
          "name": "stderr",
          "output_type": "stream",
          "text": [
            "[INFO 09-30 11:15:43] ax.service.ax_client: Completed trial 30 with data: {'loss': (452.569379, None)}.\n",
            "[INFO 09-30 11:15:46] ax.service.ax_client: Generated new trial 31 with parameters {'lr': 0.042653, 'hidden_dim': 1024, 'no_layers': 5, 'weight_decay': 0.000334, 'patience': 1, 'clip_value': 5.1} using model BoTorch.\n"
          ]
        },
        {
          "metadata": {
            "tags": null
          },
          "name": "stdout",
          "output_type": "stream",
          "text": [
            "Number of parameters to train: 26816522\n"
          ]
        },
        {
          "metadata": {
            "tags": null
          },
          "name": "stderr",
          "output_type": "stream",
          "text": [
            "[INFO 09-30 11:20:58] ax.service.ax_client: Completed trial 31 with data: {'loss': (201.556631, None)}.\n",
            "[INFO 09-30 11:21:01] ax.service.ax_client: Generated new trial 32 with parameters {'lr': 0.039051, 'hidden_dim': 512, 'no_layers': 4, 'weight_decay': 1e-05, 'patience': 1, 'clip_value': 34.644315} using model BoTorch.\n"
          ]
        },
        {
          "metadata": {
            "tags": null
          },
          "name": "stdout",
          "output_type": "stream",
          "text": [
            "Number of parameters to train: 5540874\n"
          ]
        },
        {
          "metadata": {
            "tags": null
          },
          "name": "stderr",
          "output_type": "stream",
          "text": [
            "[INFO 09-30 11:22:11] ax.service.ax_client: Completed trial 32 with data: {'loss': (194.759232, None)}.\n",
            "[INFO 09-30 11:22:14] ax.service.ax_client: Generated new trial 33 with parameters {'lr': 0.034304, 'hidden_dim': 1024, 'no_layers': 3, 'weight_decay': 0.001, 'patience': 1, 'clip_value': 61.959941} using model BoTorch.\n"
          ]
        },
        {
          "metadata": {
            "tags": null
          },
          "name": "stdout",
          "output_type": "stream",
          "text": [
            "Number of parameters to train: 17367050\n"
          ]
        },
        {
          "metadata": {
            "tags": null
          },
          "name": "stderr",
          "output_type": "stream",
          "text": [
            "[INFO 09-30 11:25:30] ax.service.ax_client: Completed trial 33 with data: {'loss': (193.924908, None)}.\n",
            "[INFO 09-30 11:25:33] ax.service.ax_client: Generated new trial 34 with parameters {'lr': 0.032839, 'hidden_dim': 1024, 'no_layers': 5, 'weight_decay': 1e-05, 'patience': 1, 'clip_value': 27.857323} using model BoTorch.\n"
          ]
        },
        {
          "metadata": {
            "tags": null
          },
          "name": "stdout",
          "output_type": "stream",
          "text": [
            "Number of parameters to train: 26816522\n"
          ]
        },
        {
          "metadata": {
            "tags": null
          },
          "name": "stderr",
          "output_type": "stream",
          "text": [
            "[INFO 09-30 11:30:19] ax.service.ax_client: Completed trial 34 with data: {'loss': (301.309174, None)}.\n",
            "[INFO 09-30 11:30:23] ax.service.ax_client: Generated new trial 35 with parameters {'lr': 0.036945, 'hidden_dim': 1024, 'no_layers': 4, 'weight_decay': 0.001, 'patience': 1, 'clip_value': 28.073911} using model BoTorch.\n"
          ]
        },
        {
          "metadata": {
            "tags": null
          },
          "name": "stdout",
          "output_type": "stream",
          "text": [
            "Number of parameters to train: 22091786\n"
          ]
        },
        {
          "metadata": {
            "tags": null
          },
          "name": "stderr",
          "output_type": "stream",
          "text": [
            "[INFO 09-30 11:34:35] ax.service.ax_client: Completed trial 35 with data: {'loss': (266.32048, None)}.\n",
            "[INFO 09-30 11:34:37] ax.service.ax_client: Generated new trial 36 with parameters {'lr': 0.012457, 'hidden_dim': 256, 'no_layers': 3, 'weight_decay': 1e-05, 'patience': 1, 'clip_value': 5.1} using model BoTorch.\n"
          ]
        },
        {
          "metadata": {
            "tags": null
          },
          "name": "stdout",
          "output_type": "stream",
          "text": [
            "Number of parameters to train: 1097738\n"
          ]
        },
        {
          "metadata": {
            "tags": null
          },
          "name": "stderr",
          "output_type": "stream",
          "text": [
            "[INFO 09-30 11:35:05] ax.service.ax_client: Completed trial 36 with data: {'loss': (468.229285, None)}.\n",
            "[INFO 09-30 11:35:10] ax.service.ax_client: Generated new trial 37 with parameters {'lr': 0.026446, 'hidden_dim': 1024, 'no_layers': 3, 'weight_decay': 1e-05, 'patience': 10, 'clip_value': 5.1} using model BoTorch.\n"
          ]
        },
        {
          "metadata": {
            "tags": null
          },
          "name": "stdout",
          "output_type": "stream",
          "text": [
            "Number of parameters to train: 17367050\n"
          ]
        },
        {
          "metadata": {
            "tags": null
          },
          "name": "stderr",
          "output_type": "stream",
          "text": [
            "[INFO 09-30 11:38:23] ax.service.ax_client: Completed trial 37 with data: {'loss': (167.835748, None)}.\n",
            "[INFO 09-30 11:38:27] ax.service.ax_client: Generated new trial 38 with parameters {'lr': 0.007016, 'hidden_dim': 1024, 'no_layers': 3, 'weight_decay': 0.001, 'patience': 10, 'clip_value': 5.1} using model BoTorch.\n"
          ]
        },
        {
          "metadata": {
            "tags": null
          },
          "name": "stdout",
          "output_type": "stream",
          "text": [
            "Number of parameters to train: 17367050\n"
          ]
        },
        {
          "metadata": {
            "tags": null
          },
          "name": "stderr",
          "output_type": "stream",
          "text": [
            "[INFO 09-30 11:42:01] ax.service.ax_client: Completed trial 38 with data: {'loss': (201.574963, None)}.\n",
            "[INFO 09-30 11:42:09] ax.service.ax_client: Generated new trial 39 with parameters {'lr': 0.00335, 'hidden_dim': 1024, 'no_layers': 3, 'weight_decay': 1e-05, 'patience': 2, 'clip_value': 100.0} using model BoTorch.\n"
          ]
        },
        {
          "metadata": {
            "tags": null
          },
          "name": "stdout",
          "output_type": "stream",
          "text": [
            "Number of parameters to train: 17367050\n"
          ]
        },
        {
          "output_type": "stream",
          "name": "stderr",
          "text": [
            "[INFO 09-30 11:45:40] ax.service.ax_client: Completed trial 39 with data: {'loss': (284.635883, None)}.\n",
            "[INFO 09-30 11:45:46] ax.service.ax_client: Generated new trial 40 with parameters {'lr': 0.002998, 'hidden_dim': 256, 'no_layers': 5, 'weight_decay': 1e-05, 'patience': 5, 'clip_value': 5.1} using model BoTorch.\n"
          ]
        },
        {
          "output_type": "stream",
          "name": "stdout",
          "text": [
            "Number of parameters to train: 1690634\n"
          ]
        },
        {
          "output_type": "stream",
          "name": "stderr",
          "text": [
            "[INFO 09-30 11:46:29] ax.service.ax_client: Completed trial 40 with data: {'loss': (1951.931055, None)}.\n",
            "[INFO 09-30 11:46:33] ax.service.ax_client: Generated new trial 41 with parameters {'lr': 0.017206, 'hidden_dim': 1024, 'no_layers': 3, 'weight_decay': 1e-05, 'patience': 1, 'clip_value': 100.0} using model BoTorch.\n"
          ]
        },
        {
          "output_type": "stream",
          "name": "stdout",
          "text": [
            "Number of parameters to train: 17367050\n"
          ]
        },
        {
          "output_type": "stream",
          "name": "stderr",
          "text": [
            "[INFO 09-30 11:49:47] ax.service.ax_client: Completed trial 41 with data: {'loss': (134.060826, None)}.\n",
            "[INFO 09-30 11:49:50] ax.service.ax_client: Generated new trial 42 with parameters {'lr': 0.042897, 'hidden_dim': 256, 'no_layers': 4, 'weight_decay': 0.001, 'patience': 1, 'clip_value': 50.949384} using model BoTorch.\n"
          ]
        },
        {
          "output_type": "stream",
          "name": "stdout",
          "text": [
            "Number of parameters to train: 1394186\n"
          ]
        },
        {
          "output_type": "stream",
          "name": "stderr",
          "text": [
            "[INFO 09-30 11:50:25] ax.service.ax_client: Completed trial 42 with data: {'loss': (272.484296, None)}.\n",
            "[INFO 09-30 11:50:28] ax.service.ax_client: Generated new trial 43 with parameters {'lr': 0.009596, 'hidden_dim': 1024, 'no_layers': 3, 'weight_decay': 1e-05, 'patience': 1, 'clip_value': 5.1} using model BoTorch.\n"
          ]
        },
        {
          "output_type": "stream",
          "name": "stdout",
          "text": [
            "Number of parameters to train: 17367050\n"
          ]
        },
        {
          "output_type": "stream",
          "name": "stderr",
          "text": [
            "[INFO 09-30 11:53:48] ax.service.ax_client: Completed trial 43 with data: {'loss': (121.281316, None)}.\n",
            "[INFO 09-30 11:53:52] ax.modelbridge.base: Untransformed parameter 0.40000000000000013 greater than upper bound 0.4, clamping\n",
            "[INFO 09-30 11:53:53] ax.service.ax_client: Generated new trial 44 with parameters {'lr': 0.4, 'hidden_dim': 256, 'no_layers': 3, 'weight_decay': 1e-05, 'patience': 1, 'clip_value': 100.0} using model BoTorch.\n"
          ]
        },
        {
          "output_type": "stream",
          "name": "stdout",
          "text": [
            "Number of parameters to train: 1097738\n"
          ]
        },
        {
          "output_type": "stream",
          "name": "stderr",
          "text": [
            "[INFO 09-30 11:54:19] ax.service.ax_client: Completed trial 44 with data: {'loss': (679.383167, None)}.\n",
            "[INFO 09-30 11:54:23] ax.service.ax_client: Generated new trial 45 with parameters {'lr': 0.011515, 'hidden_dim': 1024, 'no_layers': 3, 'weight_decay': 0.000197, 'patience': 1, 'clip_value': 5.1} using model BoTorch.\n"
          ]
        },
        {
          "output_type": "stream",
          "name": "stdout",
          "text": [
            "Number of parameters to train: 17367050\n"
          ]
        },
        {
          "output_type": "stream",
          "name": "stderr",
          "text": [
            "[INFO 09-30 11:57:51] ax.service.ax_client: Completed trial 45 with data: {'loss': (102.500356, None)}.\n",
            "[INFO 09-30 11:57:54] ax.service.ax_client: Generated new trial 46 with parameters {'lr': 0.011732, 'hidden_dim': 1024, 'no_layers': 3, 'weight_decay': 1e-05, 'patience': 1, 'clip_value': 11.608371} using model BoTorch.\n"
          ]
        },
        {
          "output_type": "stream",
          "name": "stdout",
          "text": [
            "Number of parameters to train: 17367050\n"
          ]
        },
        {
          "output_type": "stream",
          "name": "stderr",
          "text": [
            "[INFO 09-30 12:01:12] ax.service.ax_client: Completed trial 46 with data: {'loss': (149.213266, None)}.\n",
            "[INFO 09-30 12:01:16] ax.service.ax_client: Generated new trial 47 with parameters {'lr': 0.011804, 'hidden_dim': 1024, 'no_layers': 3, 'weight_decay': 0.001, 'patience': 1, 'clip_value': 5.1} using model BoTorch.\n"
          ]
        },
        {
          "output_type": "stream",
          "name": "stdout",
          "text": [
            "Number of parameters to train: 17367050\n"
          ]
        },
        {
          "output_type": "stream",
          "name": "stderr",
          "text": [
            "[INFO 09-30 12:04:46] ax.service.ax_client: Completed trial 47 with data: {'loss': (179.230341, None)}.\n",
            "[INFO 09-30 12:04:49] ax.service.ax_client: Generated new trial 48 with parameters {'lr': 0.011824, 'hidden_dim': 1024, 'no_layers': 3, 'weight_decay': 1e-05, 'patience': 1, 'clip_value': 84.308101} using model BoTorch.\n"
          ]
        },
        {
          "output_type": "stream",
          "name": "stdout",
          "text": [
            "Number of parameters to train: 17367050\n"
          ]
        },
        {
          "output_type": "stream",
          "name": "stderr",
          "text": [
            "[INFO 09-30 12:08:04] ax.service.ax_client: Completed trial 48 with data: {'loss': (155.004431, None)}.\n",
            "[INFO 09-30 12:08:10] ax.service.ax_client: Generated new trial 49 with parameters {'lr': 0.011379, 'hidden_dim': 1024, 'no_layers': 4, 'weight_decay': 0.001, 'patience': 10, 'clip_value': 43.320846} using model BoTorch.\n"
          ]
        },
        {
          "output_type": "stream",
          "name": "stdout",
          "text": [
            "Number of parameters to train: 22091786\n"
          ]
        },
        {
          "output_type": "stream",
          "name": "stderr",
          "text": [
            "[INFO 09-30 12:12:32] ax.service.ax_client: Completed trial 49 with data: {'loss': (215.310403, None)}.\n"
          ]
        }
      ]
    },
    {
      "cell_type": "code",
      "source": [
        "ax_client.get_trials_data_frame()"
      ],
      "metadata": {
        "colab": {
          "base_uri": "https://localhost:8080/",
          "height": 1000
        },
        "id": "A_eBmieb7Xkd",
        "outputId": "9d6e89e7-326a-4e0a-d60e-3adf03939ebb"
      },
      "execution_count": null,
      "outputs": [
        {
          "metadata": {
            "tags": null
          },
          "name": "stderr",
          "output_type": "stream",
          "text": [
            "[WARNING 09-30 12:12:32] ax.service.utils.report_utils: Column reason missing for all trials. Not appending column.\n"
          ]
        },
        {
          "output_type": "execute_result",
          "data": {
            "text/plain": [
              "    trial_index arm_name trial_status  ... weight_decay  patience  clip_value\n",
              "0             0      0_0    COMPLETED  ...     0.000302         6   83.631474\n",
              "1             1      1_0    COMPLETED  ...     0.000648         4   41.444931\n",
              "2             2      2_0    COMPLETED  ...     0.000196         1   22.814624\n",
              "3             3      3_0    COMPLETED  ...     0.000871         9   63.709380\n",
              "4             4      4_0    COMPLETED  ...     0.000932        10   92.988826\n",
              "5             5      5_0    COMPLETED  ...     0.000014         2   39.490056\n",
              "6             6      6_0    COMPLETED  ...     0.000590         5   11.412602\n",
              "7             7      7_0    COMPLETED  ...     0.000487         7   64.720130\n",
              "8             8      8_0    COMPLETED  ...     0.000104         3   55.378168\n",
              "9             9      9_0    COMPLETED  ...     0.000965         7   25.283368\n",
              "10           10     10_0    COMPLETED  ...     0.000396         8   50.951998\n",
              "11           11     11_0    COMPLETED  ...     0.000557         1   80.125888\n",
              "12           12     12_0    COMPLETED  ...     0.000677         2   54.075773\n",
              "13           13     13_0    COMPLETED  ...     0.000435        10   63.021066\n",
              "14           14     14_0    COMPLETED  ...     0.000983         1   73.486720\n",
              "15           15     15_0    COMPLETED  ...     0.000635         1   70.299251\n",
              "16           16     16_0    COMPLETED  ...     0.000917         6   62.635968\n",
              "17           17     17_0    COMPLETED  ...     0.000954         7   60.498779\n",
              "18           18     18_0    COMPLETED  ...     0.001000         1   23.330479\n",
              "19           19     19_0    COMPLETED  ...     0.000303         1   37.260116\n",
              "20           20     20_0    COMPLETED  ...     0.001000         1   47.385565\n",
              "21           21     21_0    COMPLETED  ...     0.001000        10   38.595204\n",
              "22           22     22_0    COMPLETED  ...     0.001000        10   33.201767\n",
              "23           23     23_0    COMPLETED  ...     0.001000         1   34.758825\n",
              "24           24     24_0    COMPLETED  ...     0.000781         1   37.930906\n",
              "25           25     25_0    COMPLETED  ...     0.000695         1   71.161692\n",
              "26           26     26_0    COMPLETED  ...     0.000613        10   81.532153\n",
              "27           27     27_0    COMPLETED  ...     0.001000         1   36.927431\n",
              "28           28     28_0    COMPLETED  ...     0.001000         1    5.100000\n",
              "29           29     29_0    COMPLETED  ...     0.001000         9    5.100000\n",
              "30           30     30_0    COMPLETED  ...     0.001000        10  100.000000\n",
              "31           31     31_0    COMPLETED  ...     0.000334         1    5.100000\n",
              "32           32     32_0    COMPLETED  ...     0.000010         1   34.644315\n",
              "33           33     33_0    COMPLETED  ...     0.001000         1   61.959941\n",
              "34           34     34_0    COMPLETED  ...     0.000010         1   27.857323\n",
              "35           35     35_0    COMPLETED  ...     0.001000         1   28.073911\n",
              "36           36     36_0    COMPLETED  ...     0.000010         1    5.100000\n",
              "37           37     37_0    COMPLETED  ...     0.000010        10    5.100000\n",
              "38           38     38_0    COMPLETED  ...     0.001000        10    5.100000\n",
              "39           39     39_0    COMPLETED  ...     0.000010         2  100.000000\n",
              "40           40     40_0    COMPLETED  ...     0.000010         5    5.100000\n",
              "41           41     41_0    COMPLETED  ...     0.000010         1  100.000000\n",
              "42           42     42_0    COMPLETED  ...     0.001000         1   50.949384\n",
              "43           43     43_0    COMPLETED  ...     0.000010         1    5.100000\n",
              "44           44     44_0    COMPLETED  ...     0.000010         1  100.000000\n",
              "45           45     45_0    COMPLETED  ...     0.000197         1    5.100000\n",
              "46           46     46_0    COMPLETED  ...     0.000010         1   11.608371\n",
              "47           47     47_0    COMPLETED  ...     0.001000         1    5.100000\n",
              "48           48     48_0    COMPLETED  ...     0.000010         1   84.308101\n",
              "49           49     49_0    COMPLETED  ...     0.001000        10   43.320846\n",
              "\n",
              "[50 rows x 11 columns]"
            ],
            "text/html": [
              "\n",
              "  <div id=\"df-8bac2d67-a8ba-4a37-be2b-41fe25b2191d\" class=\"colab-df-container\">\n",
              "    <div>\n",
              "<style scoped>\n",
              "    .dataframe tbody tr th:only-of-type {\n",
              "        vertical-align: middle;\n",
              "    }\n",
              "\n",
              "    .dataframe tbody tr th {\n",
              "        vertical-align: top;\n",
              "    }\n",
              "\n",
              "    .dataframe thead th {\n",
              "        text-align: right;\n",
              "    }\n",
              "</style>\n",
              "<table border=\"1\" class=\"dataframe\">\n",
              "  <thead>\n",
              "    <tr style=\"text-align: right;\">\n",
              "      <th></th>\n",
              "      <th>trial_index</th>\n",
              "      <th>arm_name</th>\n",
              "      <th>trial_status</th>\n",
              "      <th>generation_method</th>\n",
              "      <th>loss</th>\n",
              "      <th>lr</th>\n",
              "      <th>hidden_dim</th>\n",
              "      <th>no_layers</th>\n",
              "      <th>weight_decay</th>\n",
              "      <th>patience</th>\n",
              "      <th>clip_value</th>\n",
              "    </tr>\n",
              "  </thead>\n",
              "  <tbody>\n",
              "    <tr>\n",
              "      <th>0</th>\n",
              "      <td>0</td>\n",
              "      <td>0_0</td>\n",
              "      <td>COMPLETED</td>\n",
              "      <td>Sobol</td>\n",
              "      <td>493.722241</td>\n",
              "      <td>0.013386</td>\n",
              "      <td>256</td>\n",
              "      <td>3</td>\n",
              "      <td>0.000302</td>\n",
              "      <td>6</td>\n",
              "      <td>83.631474</td>\n",
              "    </tr>\n",
              "    <tr>\n",
              "      <th>1</th>\n",
              "      <td>1</td>\n",
              "      <td>1_0</td>\n",
              "      <td>COMPLETED</td>\n",
              "      <td>Sobol</td>\n",
              "      <td>2505.885742</td>\n",
              "      <td>0.000369</td>\n",
              "      <td>1024</td>\n",
              "      <td>5</td>\n",
              "      <td>0.000648</td>\n",
              "      <td>4</td>\n",
              "      <td>41.444931</td>\n",
              "    </tr>\n",
              "    <tr>\n",
              "      <th>2</th>\n",
              "      <td>2</td>\n",
              "      <td>2_0</td>\n",
              "      <td>COMPLETED</td>\n",
              "      <td>Sobol</td>\n",
              "      <td>5583.086914</td>\n",
              "      <td>0.000001</td>\n",
              "      <td>256</td>\n",
              "      <td>4</td>\n",
              "      <td>0.000196</td>\n",
              "      <td>1</td>\n",
              "      <td>22.814624</td>\n",
              "    </tr>\n",
              "    <tr>\n",
              "      <th>3</th>\n",
              "      <td>3</td>\n",
              "      <td>3_0</td>\n",
              "      <td>COMPLETED</td>\n",
              "      <td>Sobol</td>\n",
              "      <td>223.146011</td>\n",
              "      <td>0.029183</td>\n",
              "      <td>512</td>\n",
              "      <td>4</td>\n",
              "      <td>0.000871</td>\n",
              "      <td>9</td>\n",
              "      <td>63.709380</td>\n",
              "    </tr>\n",
              "    <tr>\n",
              "      <th>4</th>\n",
              "      <td>4</td>\n",
              "      <td>4_0</td>\n",
              "      <td>COMPLETED</td>\n",
              "      <td>Sobol</td>\n",
              "      <td>2309.062256</td>\n",
              "      <td>0.089323</td>\n",
              "      <td>512</td>\n",
              "      <td>5</td>\n",
              "      <td>0.000932</td>\n",
              "      <td>10</td>\n",
              "      <td>92.988826</td>\n",
              "    </tr>\n",
              "    <tr>\n",
              "      <th>5</th>\n",
              "      <td>5</td>\n",
              "      <td>5_0</td>\n",
              "      <td>COMPLETED</td>\n",
              "      <td>Sobol</td>\n",
              "      <td>5295.864355</td>\n",
              "      <td>0.000009</td>\n",
              "      <td>512</td>\n",
              "      <td>3</td>\n",
              "      <td>0.000014</td>\n",
              "      <td>2</td>\n",
              "      <td>39.490056</td>\n",
              "    </tr>\n",
              "    <tr>\n",
              "      <th>6</th>\n",
              "      <td>6</td>\n",
              "      <td>6_0</td>\n",
              "      <td>COMPLETED</td>\n",
              "      <td>Sobol</td>\n",
              "      <td>4969.165234</td>\n",
              "      <td>0.000100</td>\n",
              "      <td>256</td>\n",
              "      <td>5</td>\n",
              "      <td>0.000590</td>\n",
              "      <td>5</td>\n",
              "      <td>11.412602</td>\n",
              "    </tr>\n",
              "    <tr>\n",
              "      <th>7</th>\n",
              "      <td>7</td>\n",
              "      <td>7_0</td>\n",
              "      <td>COMPLETED</td>\n",
              "      <td>Sobol</td>\n",
              "      <td>795.276331</td>\n",
              "      <td>0.001619</td>\n",
              "      <td>1024</td>\n",
              "      <td>3</td>\n",
              "      <td>0.000487</td>\n",
              "      <td>7</td>\n",
              "      <td>64.720130</td>\n",
              "    </tr>\n",
              "    <tr>\n",
              "      <th>8</th>\n",
              "      <td>8</td>\n",
              "      <td>8_0</td>\n",
              "      <td>COMPLETED</td>\n",
              "      <td>Sobol</td>\n",
              "      <td>2648.862061</td>\n",
              "      <td>0.000656</td>\n",
              "      <td>512</td>\n",
              "      <td>4</td>\n",
              "      <td>0.000104</td>\n",
              "      <td>3</td>\n",
              "      <td>55.378168</td>\n",
              "    </tr>\n",
              "    <tr>\n",
              "      <th>9</th>\n",
              "      <td>9</td>\n",
              "      <td>9_0</td>\n",
              "      <td>COMPLETED</td>\n",
              "      <td>Sobol</td>\n",
              "      <td>4539.784668</td>\n",
              "      <td>0.000041</td>\n",
              "      <td>1024</td>\n",
              "      <td>3</td>\n",
              "      <td>0.000965</td>\n",
              "      <td>7</td>\n",
              "      <td>25.283368</td>\n",
              "    </tr>\n",
              "    <tr>\n",
              "      <th>10</th>\n",
              "      <td>10</td>\n",
              "      <td>10_0</td>\n",
              "      <td>COMPLETED</td>\n",
              "      <td>Sobol</td>\n",
              "      <td>5346.679004</td>\n",
              "      <td>0.000018</td>\n",
              "      <td>256</td>\n",
              "      <td>5</td>\n",
              "      <td>0.000396</td>\n",
              "      <td>8</td>\n",
              "      <td>50.951998</td>\n",
              "    </tr>\n",
              "    <tr>\n",
              "      <th>11</th>\n",
              "      <td>11</td>\n",
              "      <td>11_0</td>\n",
              "      <td>COMPLETED</td>\n",
              "      <td>Sobol</td>\n",
              "      <td>490.937604</td>\n",
              "      <td>0.179779</td>\n",
              "      <td>1024</td>\n",
              "      <td>3</td>\n",
              "      <td>0.000557</td>\n",
              "      <td>1</td>\n",
              "      <td>80.125888</td>\n",
              "    </tr>\n",
              "    <tr>\n",
              "      <th>12</th>\n",
              "      <td>12</td>\n",
              "      <td>12_0</td>\n",
              "      <td>COMPLETED</td>\n",
              "      <td>BoTorch</td>\n",
              "      <td>122.560612</td>\n",
              "      <td>0.025613</td>\n",
              "      <td>1024</td>\n",
              "      <td>3</td>\n",
              "      <td>0.000677</td>\n",
              "      <td>2</td>\n",
              "      <td>54.075773</td>\n",
              "    </tr>\n",
              "    <tr>\n",
              "      <th>13</th>\n",
              "      <td>13</td>\n",
              "      <td>13_0</td>\n",
              "      <td>COMPLETED</td>\n",
              "      <td>BoTorch</td>\n",
              "      <td>291.532794</td>\n",
              "      <td>0.042130</td>\n",
              "      <td>1024</td>\n",
              "      <td>3</td>\n",
              "      <td>0.000435</td>\n",
              "      <td>10</td>\n",
              "      <td>63.021066</td>\n",
              "    </tr>\n",
              "    <tr>\n",
              "      <th>14</th>\n",
              "      <td>14</td>\n",
              "      <td>14_0</td>\n",
              "      <td>COMPLETED</td>\n",
              "      <td>BoTorch</td>\n",
              "      <td>154.966718</td>\n",
              "      <td>0.012720</td>\n",
              "      <td>1024</td>\n",
              "      <td>3</td>\n",
              "      <td>0.000983</td>\n",
              "      <td>1</td>\n",
              "      <td>73.486720</td>\n",
              "    </tr>\n",
              "    <tr>\n",
              "      <th>15</th>\n",
              "      <td>15</td>\n",
              "      <td>15_0</td>\n",
              "      <td>COMPLETED</td>\n",
              "      <td>BoTorch</td>\n",
              "      <td>129.137242</td>\n",
              "      <td>0.017610</td>\n",
              "      <td>1024</td>\n",
              "      <td>3</td>\n",
              "      <td>0.000635</td>\n",
              "      <td>1</td>\n",
              "      <td>70.299251</td>\n",
              "    </tr>\n",
              "    <tr>\n",
              "      <th>16</th>\n",
              "      <td>16</td>\n",
              "      <td>16_0</td>\n",
              "      <td>COMPLETED</td>\n",
              "      <td>BoTorch</td>\n",
              "      <td>224.145938</td>\n",
              "      <td>0.037240</td>\n",
              "      <td>256</td>\n",
              "      <td>3</td>\n",
              "      <td>0.000917</td>\n",
              "      <td>6</td>\n",
              "      <td>62.635968</td>\n",
              "    </tr>\n",
              "    <tr>\n",
              "      <th>17</th>\n",
              "      <td>17</td>\n",
              "      <td>17_0</td>\n",
              "      <td>COMPLETED</td>\n",
              "      <td>BoTorch</td>\n",
              "      <td>168.221121</td>\n",
              "      <td>0.013626</td>\n",
              "      <td>1024</td>\n",
              "      <td>3</td>\n",
              "      <td>0.000954</td>\n",
              "      <td>7</td>\n",
              "      <td>60.498779</td>\n",
              "    </tr>\n",
              "    <tr>\n",
              "      <th>18</th>\n",
              "      <td>18</td>\n",
              "      <td>18_0</td>\n",
              "      <td>COMPLETED</td>\n",
              "      <td>BoTorch</td>\n",
              "      <td>337.852448</td>\n",
              "      <td>0.101852</td>\n",
              "      <td>1024</td>\n",
              "      <td>5</td>\n",
              "      <td>0.001000</td>\n",
              "      <td>1</td>\n",
              "      <td>23.330479</td>\n",
              "    </tr>\n",
              "    <tr>\n",
              "      <th>19</th>\n",
              "      <td>19</td>\n",
              "      <td>19_0</td>\n",
              "      <td>COMPLETED</td>\n",
              "      <td>BoTorch</td>\n",
              "      <td>1189.791040</td>\n",
              "      <td>0.400000</td>\n",
              "      <td>256</td>\n",
              "      <td>4</td>\n",
              "      <td>0.000303</td>\n",
              "      <td>1</td>\n",
              "      <td>37.260116</td>\n",
              "    </tr>\n",
              "    <tr>\n",
              "      <th>20</th>\n",
              "      <td>20</td>\n",
              "      <td>20_0</td>\n",
              "      <td>COMPLETED</td>\n",
              "      <td>BoTorch</td>\n",
              "      <td>132.976883</td>\n",
              "      <td>0.021486</td>\n",
              "      <td>1024</td>\n",
              "      <td>4</td>\n",
              "      <td>0.001000</td>\n",
              "      <td>1</td>\n",
              "      <td>47.385565</td>\n",
              "    </tr>\n",
              "    <tr>\n",
              "      <th>21</th>\n",
              "      <td>21</td>\n",
              "      <td>21_0</td>\n",
              "      <td>COMPLETED</td>\n",
              "      <td>BoTorch</td>\n",
              "      <td>1546.452344</td>\n",
              "      <td>0.400000</td>\n",
              "      <td>1024</td>\n",
              "      <td>3</td>\n",
              "      <td>0.001000</td>\n",
              "      <td>10</td>\n",
              "      <td>38.595204</td>\n",
              "    </tr>\n",
              "    <tr>\n",
              "      <th>22</th>\n",
              "      <td>22</td>\n",
              "      <td>22_0</td>\n",
              "      <td>COMPLETED</td>\n",
              "      <td>BoTorch</td>\n",
              "      <td>260.887109</td>\n",
              "      <td>0.021544</td>\n",
              "      <td>1024</td>\n",
              "      <td>5</td>\n",
              "      <td>0.001000</td>\n",
              "      <td>10</td>\n",
              "      <td>33.201767</td>\n",
              "    </tr>\n",
              "    <tr>\n",
              "      <th>23</th>\n",
              "      <td>23</td>\n",
              "      <td>23_0</td>\n",
              "      <td>COMPLETED</td>\n",
              "      <td>BoTorch</td>\n",
              "      <td>237.700714</td>\n",
              "      <td>0.036680</td>\n",
              "      <td>256</td>\n",
              "      <td>5</td>\n",
              "      <td>0.001000</td>\n",
              "      <td>1</td>\n",
              "      <td>34.758825</td>\n",
              "    </tr>\n",
              "    <tr>\n",
              "      <th>24</th>\n",
              "      <td>24</td>\n",
              "      <td>24_0</td>\n",
              "      <td>COMPLETED</td>\n",
              "      <td>BoTorch</td>\n",
              "      <td>198.554385</td>\n",
              "      <td>0.035432</td>\n",
              "      <td>1024</td>\n",
              "      <td>5</td>\n",
              "      <td>0.000781</td>\n",
              "      <td>1</td>\n",
              "      <td>37.930906</td>\n",
              "    </tr>\n",
              "    <tr>\n",
              "      <th>25</th>\n",
              "      <td>25</td>\n",
              "      <td>25_0</td>\n",
              "      <td>COMPLETED</td>\n",
              "      <td>BoTorch</td>\n",
              "      <td>395.283881</td>\n",
              "      <td>0.015234</td>\n",
              "      <td>256</td>\n",
              "      <td>3</td>\n",
              "      <td>0.000695</td>\n",
              "      <td>1</td>\n",
              "      <td>71.161692</td>\n",
              "    </tr>\n",
              "    <tr>\n",
              "      <th>26</th>\n",
              "      <td>26</td>\n",
              "      <td>26_0</td>\n",
              "      <td>COMPLETED</td>\n",
              "      <td>BoTorch</td>\n",
              "      <td>144.558246</td>\n",
              "      <td>0.011794</td>\n",
              "      <td>1024</td>\n",
              "      <td>3</td>\n",
              "      <td>0.000613</td>\n",
              "      <td>10</td>\n",
              "      <td>81.532153</td>\n",
              "    </tr>\n",
              "    <tr>\n",
              "      <th>27</th>\n",
              "      <td>27</td>\n",
              "      <td>27_0</td>\n",
              "      <td>COMPLETED</td>\n",
              "      <td>BoTorch</td>\n",
              "      <td>229.558109</td>\n",
              "      <td>0.024501</td>\n",
              "      <td>1024</td>\n",
              "      <td>5</td>\n",
              "      <td>0.001000</td>\n",
              "      <td>1</td>\n",
              "      <td>36.927431</td>\n",
              "    </tr>\n",
              "    <tr>\n",
              "      <th>28</th>\n",
              "      <td>28</td>\n",
              "      <td>28_0</td>\n",
              "      <td>COMPLETED</td>\n",
              "      <td>BoTorch</td>\n",
              "      <td>250.521939</td>\n",
              "      <td>0.025210</td>\n",
              "      <td>1024</td>\n",
              "      <td>5</td>\n",
              "      <td>0.001000</td>\n",
              "      <td>1</td>\n",
              "      <td>5.100000</td>\n",
              "    </tr>\n",
              "    <tr>\n",
              "      <th>29</th>\n",
              "      <td>29</td>\n",
              "      <td>29_0</td>\n",
              "      <td>COMPLETED</td>\n",
              "      <td>BoTorch</td>\n",
              "      <td>403.970520</td>\n",
              "      <td>0.045861</td>\n",
              "      <td>256</td>\n",
              "      <td>5</td>\n",
              "      <td>0.001000</td>\n",
              "      <td>9</td>\n",
              "      <td>5.100000</td>\n",
              "    </tr>\n",
              "    <tr>\n",
              "      <th>30</th>\n",
              "      <td>30</td>\n",
              "      <td>30_0</td>\n",
              "      <td>COMPLETED</td>\n",
              "      <td>BoTorch</td>\n",
              "      <td>452.569379</td>\n",
              "      <td>0.002506</td>\n",
              "      <td>1024</td>\n",
              "      <td>3</td>\n",
              "      <td>0.001000</td>\n",
              "      <td>10</td>\n",
              "      <td>100.000000</td>\n",
              "    </tr>\n",
              "    <tr>\n",
              "      <th>31</th>\n",
              "      <td>31</td>\n",
              "      <td>31_0</td>\n",
              "      <td>COMPLETED</td>\n",
              "      <td>BoTorch</td>\n",
              "      <td>201.556631</td>\n",
              "      <td>0.042653</td>\n",
              "      <td>1024</td>\n",
              "      <td>5</td>\n",
              "      <td>0.000334</td>\n",
              "      <td>1</td>\n",
              "      <td>5.100000</td>\n",
              "    </tr>\n",
              "    <tr>\n",
              "      <th>32</th>\n",
              "      <td>32</td>\n",
              "      <td>32_0</td>\n",
              "      <td>COMPLETED</td>\n",
              "      <td>BoTorch</td>\n",
              "      <td>194.759232</td>\n",
              "      <td>0.039051</td>\n",
              "      <td>512</td>\n",
              "      <td>4</td>\n",
              "      <td>0.000010</td>\n",
              "      <td>1</td>\n",
              "      <td>34.644315</td>\n",
              "    </tr>\n",
              "    <tr>\n",
              "      <th>33</th>\n",
              "      <td>33</td>\n",
              "      <td>33_0</td>\n",
              "      <td>COMPLETED</td>\n",
              "      <td>BoTorch</td>\n",
              "      <td>193.924908</td>\n",
              "      <td>0.034304</td>\n",
              "      <td>1024</td>\n",
              "      <td>3</td>\n",
              "      <td>0.001000</td>\n",
              "      <td>1</td>\n",
              "      <td>61.959941</td>\n",
              "    </tr>\n",
              "    <tr>\n",
              "      <th>34</th>\n",
              "      <td>34</td>\n",
              "      <td>34_0</td>\n",
              "      <td>COMPLETED</td>\n",
              "      <td>BoTorch</td>\n",
              "      <td>301.309174</td>\n",
              "      <td>0.032839</td>\n",
              "      <td>1024</td>\n",
              "      <td>5</td>\n",
              "      <td>0.000010</td>\n",
              "      <td>1</td>\n",
              "      <td>27.857323</td>\n",
              "    </tr>\n",
              "    <tr>\n",
              "      <th>35</th>\n",
              "      <td>35</td>\n",
              "      <td>35_0</td>\n",
              "      <td>COMPLETED</td>\n",
              "      <td>BoTorch</td>\n",
              "      <td>266.320480</td>\n",
              "      <td>0.036945</td>\n",
              "      <td>1024</td>\n",
              "      <td>4</td>\n",
              "      <td>0.001000</td>\n",
              "      <td>1</td>\n",
              "      <td>28.073911</td>\n",
              "    </tr>\n",
              "    <tr>\n",
              "      <th>36</th>\n",
              "      <td>36</td>\n",
              "      <td>36_0</td>\n",
              "      <td>COMPLETED</td>\n",
              "      <td>BoTorch</td>\n",
              "      <td>468.229285</td>\n",
              "      <td>0.012457</td>\n",
              "      <td>256</td>\n",
              "      <td>3</td>\n",
              "      <td>0.000010</td>\n",
              "      <td>1</td>\n",
              "      <td>5.100000</td>\n",
              "    </tr>\n",
              "    <tr>\n",
              "      <th>37</th>\n",
              "      <td>37</td>\n",
              "      <td>37_0</td>\n",
              "      <td>COMPLETED</td>\n",
              "      <td>BoTorch</td>\n",
              "      <td>167.835748</td>\n",
              "      <td>0.026446</td>\n",
              "      <td>1024</td>\n",
              "      <td>3</td>\n",
              "      <td>0.000010</td>\n",
              "      <td>10</td>\n",
              "      <td>5.100000</td>\n",
              "    </tr>\n",
              "    <tr>\n",
              "      <th>38</th>\n",
              "      <td>38</td>\n",
              "      <td>38_0</td>\n",
              "      <td>COMPLETED</td>\n",
              "      <td>BoTorch</td>\n",
              "      <td>201.574963</td>\n",
              "      <td>0.007016</td>\n",
              "      <td>1024</td>\n",
              "      <td>3</td>\n",
              "      <td>0.001000</td>\n",
              "      <td>10</td>\n",
              "      <td>5.100000</td>\n",
              "    </tr>\n",
              "    <tr>\n",
              "      <th>39</th>\n",
              "      <td>39</td>\n",
              "      <td>39_0</td>\n",
              "      <td>COMPLETED</td>\n",
              "      <td>BoTorch</td>\n",
              "      <td>284.635883</td>\n",
              "      <td>0.003350</td>\n",
              "      <td>1024</td>\n",
              "      <td>3</td>\n",
              "      <td>0.000010</td>\n",
              "      <td>2</td>\n",
              "      <td>100.000000</td>\n",
              "    </tr>\n",
              "    <tr>\n",
              "      <th>40</th>\n",
              "      <td>40</td>\n",
              "      <td>40_0</td>\n",
              "      <td>COMPLETED</td>\n",
              "      <td>BoTorch</td>\n",
              "      <td>1951.931055</td>\n",
              "      <td>0.002998</td>\n",
              "      <td>256</td>\n",
              "      <td>5</td>\n",
              "      <td>0.000010</td>\n",
              "      <td>5</td>\n",
              "      <td>5.100000</td>\n",
              "    </tr>\n",
              "    <tr>\n",
              "      <th>41</th>\n",
              "      <td>41</td>\n",
              "      <td>41_0</td>\n",
              "      <td>COMPLETED</td>\n",
              "      <td>BoTorch</td>\n",
              "      <td>134.060826</td>\n",
              "      <td>0.017206</td>\n",
              "      <td>1024</td>\n",
              "      <td>3</td>\n",
              "      <td>0.000010</td>\n",
              "      <td>1</td>\n",
              "      <td>100.000000</td>\n",
              "    </tr>\n",
              "    <tr>\n",
              "      <th>42</th>\n",
              "      <td>42</td>\n",
              "      <td>42_0</td>\n",
              "      <td>COMPLETED</td>\n",
              "      <td>BoTorch</td>\n",
              "      <td>272.484296</td>\n",
              "      <td>0.042897</td>\n",
              "      <td>256</td>\n",
              "      <td>4</td>\n",
              "      <td>0.001000</td>\n",
              "      <td>1</td>\n",
              "      <td>50.949384</td>\n",
              "    </tr>\n",
              "    <tr>\n",
              "      <th>43</th>\n",
              "      <td>43</td>\n",
              "      <td>43_0</td>\n",
              "      <td>COMPLETED</td>\n",
              "      <td>BoTorch</td>\n",
              "      <td>121.281316</td>\n",
              "      <td>0.009596</td>\n",
              "      <td>1024</td>\n",
              "      <td>3</td>\n",
              "      <td>0.000010</td>\n",
              "      <td>1</td>\n",
              "      <td>5.100000</td>\n",
              "    </tr>\n",
              "    <tr>\n",
              "      <th>44</th>\n",
              "      <td>44</td>\n",
              "      <td>44_0</td>\n",
              "      <td>COMPLETED</td>\n",
              "      <td>BoTorch</td>\n",
              "      <td>679.383167</td>\n",
              "      <td>0.400000</td>\n",
              "      <td>256</td>\n",
              "      <td>3</td>\n",
              "      <td>0.000010</td>\n",
              "      <td>1</td>\n",
              "      <td>100.000000</td>\n",
              "    </tr>\n",
              "    <tr>\n",
              "      <th>45</th>\n",
              "      <td>45</td>\n",
              "      <td>45_0</td>\n",
              "      <td>COMPLETED</td>\n",
              "      <td>BoTorch</td>\n",
              "      <td>102.500356</td>\n",
              "      <td>0.011515</td>\n",
              "      <td>1024</td>\n",
              "      <td>3</td>\n",
              "      <td>0.000197</td>\n",
              "      <td>1</td>\n",
              "      <td>5.100000</td>\n",
              "    </tr>\n",
              "    <tr>\n",
              "      <th>46</th>\n",
              "      <td>46</td>\n",
              "      <td>46_0</td>\n",
              "      <td>COMPLETED</td>\n",
              "      <td>BoTorch</td>\n",
              "      <td>149.213266</td>\n",
              "      <td>0.011732</td>\n",
              "      <td>1024</td>\n",
              "      <td>3</td>\n",
              "      <td>0.000010</td>\n",
              "      <td>1</td>\n",
              "      <td>11.608371</td>\n",
              "    </tr>\n",
              "    <tr>\n",
              "      <th>47</th>\n",
              "      <td>47</td>\n",
              "      <td>47_0</td>\n",
              "      <td>COMPLETED</td>\n",
              "      <td>BoTorch</td>\n",
              "      <td>179.230341</td>\n",
              "      <td>0.011804</td>\n",
              "      <td>1024</td>\n",
              "      <td>3</td>\n",
              "      <td>0.001000</td>\n",
              "      <td>1</td>\n",
              "      <td>5.100000</td>\n",
              "    </tr>\n",
              "    <tr>\n",
              "      <th>48</th>\n",
              "      <td>48</td>\n",
              "      <td>48_0</td>\n",
              "      <td>COMPLETED</td>\n",
              "      <td>BoTorch</td>\n",
              "      <td>155.004431</td>\n",
              "      <td>0.011824</td>\n",
              "      <td>1024</td>\n",
              "      <td>3</td>\n",
              "      <td>0.000010</td>\n",
              "      <td>1</td>\n",
              "      <td>84.308101</td>\n",
              "    </tr>\n",
              "    <tr>\n",
              "      <th>49</th>\n",
              "      <td>49</td>\n",
              "      <td>49_0</td>\n",
              "      <td>COMPLETED</td>\n",
              "      <td>BoTorch</td>\n",
              "      <td>215.310403</td>\n",
              "      <td>0.011379</td>\n",
              "      <td>1024</td>\n",
              "      <td>4</td>\n",
              "      <td>0.001000</td>\n",
              "      <td>10</td>\n",
              "      <td>43.320846</td>\n",
              "    </tr>\n",
              "  </tbody>\n",
              "</table>\n",
              "</div>\n",
              "    <div class=\"colab-df-buttons\">\n",
              "\n",
              "  <div class=\"colab-df-container\">\n",
              "    <button class=\"colab-df-convert\" onclick=\"convertToInteractive('df-8bac2d67-a8ba-4a37-be2b-41fe25b2191d')\"\n",
              "            title=\"Convert this dataframe to an interactive table.\"\n",
              "            style=\"display:none;\">\n",
              "\n",
              "  <svg xmlns=\"http://www.w3.org/2000/svg\" height=\"24px\" viewBox=\"0 -960 960 960\">\n",
              "    <path d=\"M120-120v-720h720v720H120Zm60-500h600v-160H180v160Zm220 220h160v-160H400v160Zm0 220h160v-160H400v160ZM180-400h160v-160H180v160Zm440 0h160v-160H620v160ZM180-180h160v-160H180v160Zm440 0h160v-160H620v160Z\"/>\n",
              "  </svg>\n",
              "    </button>\n",
              "\n",
              "  <style>\n",
              "    .colab-df-container {\n",
              "      display:flex;\n",
              "      gap: 12px;\n",
              "    }\n",
              "\n",
              "    .colab-df-convert {\n",
              "      background-color: #E8F0FE;\n",
              "      border: none;\n",
              "      border-radius: 50%;\n",
              "      cursor: pointer;\n",
              "      display: none;\n",
              "      fill: #1967D2;\n",
              "      height: 32px;\n",
              "      padding: 0 0 0 0;\n",
              "      width: 32px;\n",
              "    }\n",
              "\n",
              "    .colab-df-convert:hover {\n",
              "      background-color: #E2EBFA;\n",
              "      box-shadow: 0px 1px 2px rgba(60, 64, 67, 0.3), 0px 1px 3px 1px rgba(60, 64, 67, 0.15);\n",
              "      fill: #174EA6;\n",
              "    }\n",
              "\n",
              "    .colab-df-buttons div {\n",
              "      margin-bottom: 4px;\n",
              "    }\n",
              "\n",
              "    [theme=dark] .colab-df-convert {\n",
              "      background-color: #3B4455;\n",
              "      fill: #D2E3FC;\n",
              "    }\n",
              "\n",
              "    [theme=dark] .colab-df-convert:hover {\n",
              "      background-color: #434B5C;\n",
              "      box-shadow: 0px 1px 3px 1px rgba(0, 0, 0, 0.15);\n",
              "      filter: drop-shadow(0px 1px 2px rgba(0, 0, 0, 0.3));\n",
              "      fill: #FFFFFF;\n",
              "    }\n",
              "  </style>\n",
              "\n",
              "    <script>\n",
              "      const buttonEl =\n",
              "        document.querySelector('#df-8bac2d67-a8ba-4a37-be2b-41fe25b2191d button.colab-df-convert');\n",
              "      buttonEl.style.display =\n",
              "        google.colab.kernel.accessAllowed ? 'block' : 'none';\n",
              "\n",
              "      async function convertToInteractive(key) {\n",
              "        const element = document.querySelector('#df-8bac2d67-a8ba-4a37-be2b-41fe25b2191d');\n",
              "        const dataTable =\n",
              "          await google.colab.kernel.invokeFunction('convertToInteractive',\n",
              "                                                    [key], {});\n",
              "        if (!dataTable) return;\n",
              "\n",
              "        const docLinkHtml = 'Like what you see? Visit the ' +\n",
              "          '<a target=\"_blank\" href=https://colab.research.google.com/notebooks/data_table.ipynb>data table notebook</a>'\n",
              "          + ' to learn more about interactive tables.';\n",
              "        element.innerHTML = '';\n",
              "        dataTable['output_type'] = 'display_data';\n",
              "        await google.colab.output.renderOutput(dataTable, element);\n",
              "        const docLink = document.createElement('div');\n",
              "        docLink.innerHTML = docLinkHtml;\n",
              "        element.appendChild(docLink);\n",
              "      }\n",
              "    </script>\n",
              "  </div>\n",
              "\n",
              "\n",
              "<div id=\"df-ed7d36c0-7f66-47b0-b632-8066e9f8ea1a\">\n",
              "  <button class=\"colab-df-quickchart\" onclick=\"quickchart('df-ed7d36c0-7f66-47b0-b632-8066e9f8ea1a')\"\n",
              "            title=\"Suggest charts\"\n",
              "            style=\"display:none;\">\n",
              "\n",
              "<svg xmlns=\"http://www.w3.org/2000/svg\" height=\"24px\"viewBox=\"0 0 24 24\"\n",
              "     width=\"24px\">\n",
              "    <g>\n",
              "        <path d=\"M19 3H5c-1.1 0-2 .9-2 2v14c0 1.1.9 2 2 2h14c1.1 0 2-.9 2-2V5c0-1.1-.9-2-2-2zM9 17H7v-7h2v7zm4 0h-2V7h2v10zm4 0h-2v-4h2v4z\"/>\n",
              "    </g>\n",
              "</svg>\n",
              "  </button>\n",
              "\n",
              "<style>\n",
              "  .colab-df-quickchart {\n",
              "      --bg-color: #E8F0FE;\n",
              "      --fill-color: #1967D2;\n",
              "      --hover-bg-color: #E2EBFA;\n",
              "      --hover-fill-color: #174EA6;\n",
              "      --disabled-fill-color: #AAA;\n",
              "      --disabled-bg-color: #DDD;\n",
              "  }\n",
              "\n",
              "  [theme=dark] .colab-df-quickchart {\n",
              "      --bg-color: #3B4455;\n",
              "      --fill-color: #D2E3FC;\n",
              "      --hover-bg-color: #434B5C;\n",
              "      --hover-fill-color: #FFFFFF;\n",
              "      --disabled-bg-color: #3B4455;\n",
              "      --disabled-fill-color: #666;\n",
              "  }\n",
              "\n",
              "  .colab-df-quickchart {\n",
              "    background-color: var(--bg-color);\n",
              "    border: none;\n",
              "    border-radius: 50%;\n",
              "    cursor: pointer;\n",
              "    display: none;\n",
              "    fill: var(--fill-color);\n",
              "    height: 32px;\n",
              "    padding: 0;\n",
              "    width: 32px;\n",
              "  }\n",
              "\n",
              "  .colab-df-quickchart:hover {\n",
              "    background-color: var(--hover-bg-color);\n",
              "    box-shadow: 0 1px 2px rgba(60, 64, 67, 0.3), 0 1px 3px 1px rgba(60, 64, 67, 0.15);\n",
              "    fill: var(--button-hover-fill-color);\n",
              "  }\n",
              "\n",
              "  .colab-df-quickchart-complete:disabled,\n",
              "  .colab-df-quickchart-complete:disabled:hover {\n",
              "    background-color: var(--disabled-bg-color);\n",
              "    fill: var(--disabled-fill-color);\n",
              "    box-shadow: none;\n",
              "  }\n",
              "\n",
              "  .colab-df-spinner {\n",
              "    border: 2px solid var(--fill-color);\n",
              "    border-color: transparent;\n",
              "    border-bottom-color: var(--fill-color);\n",
              "    animation:\n",
              "      spin 1s steps(1) infinite;\n",
              "  }\n",
              "\n",
              "  @keyframes spin {\n",
              "    0% {\n",
              "      border-color: transparent;\n",
              "      border-bottom-color: var(--fill-color);\n",
              "      border-left-color: var(--fill-color);\n",
              "    }\n",
              "    20% {\n",
              "      border-color: transparent;\n",
              "      border-left-color: var(--fill-color);\n",
              "      border-top-color: var(--fill-color);\n",
              "    }\n",
              "    30% {\n",
              "      border-color: transparent;\n",
              "      border-left-color: var(--fill-color);\n",
              "      border-top-color: var(--fill-color);\n",
              "      border-right-color: var(--fill-color);\n",
              "    }\n",
              "    40% {\n",
              "      border-color: transparent;\n",
              "      border-right-color: var(--fill-color);\n",
              "      border-top-color: var(--fill-color);\n",
              "    }\n",
              "    60% {\n",
              "      border-color: transparent;\n",
              "      border-right-color: var(--fill-color);\n",
              "    }\n",
              "    80% {\n",
              "      border-color: transparent;\n",
              "      border-right-color: var(--fill-color);\n",
              "      border-bottom-color: var(--fill-color);\n",
              "    }\n",
              "    90% {\n",
              "      border-color: transparent;\n",
              "      border-bottom-color: var(--fill-color);\n",
              "    }\n",
              "  }\n",
              "</style>\n",
              "\n",
              "  <script>\n",
              "    async function quickchart(key) {\n",
              "      const quickchartButtonEl =\n",
              "        document.querySelector('#' + key + ' button');\n",
              "      quickchartButtonEl.disabled = true;  // To prevent multiple clicks.\n",
              "      quickchartButtonEl.classList.add('colab-df-spinner');\n",
              "      try {\n",
              "        const charts = await google.colab.kernel.invokeFunction(\n",
              "            'suggestCharts', [key], {});\n",
              "      } catch (error) {\n",
              "        console.error('Error during call to suggestCharts:', error);\n",
              "      }\n",
              "      quickchartButtonEl.classList.remove('colab-df-spinner');\n",
              "      quickchartButtonEl.classList.add('colab-df-quickchart-complete');\n",
              "    }\n",
              "    (() => {\n",
              "      let quickchartButtonEl =\n",
              "        document.querySelector('#df-ed7d36c0-7f66-47b0-b632-8066e9f8ea1a button');\n",
              "      quickchartButtonEl.style.display =\n",
              "        google.colab.kernel.accessAllowed ? 'block' : 'none';\n",
              "    })();\n",
              "  </script>\n",
              "</div>\n",
              "\n",
              "    </div>\n",
              "  </div>\n"
            ],
            "application/vnd.google.colaboratory.intrinsic+json": {
              "type": "dataframe",
              "summary": "{\n  \"name\": \"ax_client\",\n  \"rows\": 50,\n  \"fields\": [\n    {\n      \"column\": \"trial_index\",\n      \"properties\": {\n        \"dtype\": \"number\",\n        \"std\": 14,\n        \"min\": 0,\n        \"max\": 49,\n        \"num_unique_values\": 50,\n        \"samples\": [\n          13,\n          39,\n          30\n        ],\n        \"semantic_type\": \"\",\n        \"description\": \"\"\n      }\n    },\n    {\n      \"column\": \"arm_name\",\n      \"properties\": {\n        \"dtype\": \"string\",\n        \"num_unique_values\": 50,\n        \"samples\": [\n          \"13_0\",\n          \"39_0\",\n          \"30_0\"\n        ],\n        \"semantic_type\": \"\",\n        \"description\": \"\"\n      }\n    },\n    {\n      \"column\": \"trial_status\",\n      \"properties\": {\n        \"dtype\": \"category\",\n        \"num_unique_values\": 1,\n        \"samples\": [\n          \"COMPLETED\"\n        ],\n        \"semantic_type\": \"\",\n        \"description\": \"\"\n      }\n    },\n    {\n      \"column\": \"generation_method\",\n      \"properties\": {\n        \"dtype\": \"category\",\n        \"num_unique_values\": 2,\n        \"samples\": [\n          \"BoTorch\"\n        ],\n        \"semantic_type\": \"\",\n        \"description\": \"\"\n      }\n    },\n    {\n      \"column\": \"loss\",\n      \"properties\": {\n        \"dtype\": \"number\",\n        \"std\": 1541.0115602099604,\n        \"min\": 102.50035552978515,\n        \"max\": 5583.0869140625,\n        \"num_unique_values\": 50,\n        \"samples\": [\n          291.5327941894531\n        ],\n        \"semantic_type\": \"\",\n        \"description\": \"\"\n      }\n    },\n    {\n      \"column\": \"lr\",\n      \"properties\": {\n        \"dtype\": \"number\",\n        \"std\": 0.0949475935069175,\n        \"min\": 1.3394099510552863e-06,\n        \"max\": 0.4,\n        \"num_unique_values\": 48,\n        \"samples\": [\n          0.02520965977064923\n        ],\n        \"semantic_type\": \"\",\n        \"description\": \"\"\n      }\n    },\n    {\n      \"column\": \"hidden_dim\",\n      \"properties\": {\n        \"dtype\": \"number\",\n        \"std\": 344,\n        \"min\": 256,\n        \"max\": 1024,\n        \"num_unique_values\": 3,\n        \"samples\": [\n          256\n        ],\n        \"semantic_type\": \"\",\n        \"description\": \"\"\n      }\n    },\n    {\n      \"column\": \"no_layers\",\n      \"properties\": {\n        \"dtype\": \"number\",\n        \"std\": 0,\n        \"min\": 3,\n        \"max\": 5,\n        \"num_unique_values\": 3,\n        \"samples\": [\n          3\n        ],\n        \"semantic_type\": \"\",\n        \"description\": \"\"\n      }\n    },\n    {\n      \"column\": \"weight_decay\",\n      \"properties\": {\n        \"dtype\": \"number\",\n        \"std\": 0.0004086208849938343,\n        \"min\": 1e-05,\n        \"max\": 0.001,\n        \"num_unique_values\": 26,\n        \"samples\": [\n          0.00010418986395001411\n        ],\n        \"semantic_type\": \"\",\n        \"description\": \"\"\n      }\n    },\n    {\n      \"column\": \"patience\",\n      \"properties\": {\n        \"dtype\": \"number\",\n        \"std\": 3,\n        \"min\": 1,\n        \"max\": 10,\n        \"num_unique_values\": 10,\n        \"samples\": [\n          3\n        ],\n        \"semantic_type\": \"\",\n        \"description\": \"\"\n      }\n    },\n    {\n      \"column\": \"clip_value\",\n      \"properties\": {\n        \"dtype\": \"number\",\n        \"std\": 30.31172213689237,\n        \"min\": 5.1,\n        \"max\": 100.0,\n        \"num_unique_values\": 38,\n        \"samples\": [\n          28.073910602393653\n        ],\n        \"semantic_type\": \"\",\n        \"description\": \"\"\n      }\n    }\n  ]\n}"
            }
          },
          "metadata": {},
          "execution_count": 16
        }
      ]
    },
    {
      "cell_type": "code",
      "source": [
        "best_parameters, values = ax_client.get_best_parameters()\n",
        "best_parameters"
      ],
      "metadata": {
        "colab": {
          "base_uri": "https://localhost:8080/"
        },
        "id": "mhKESW3JRWpX",
        "outputId": "5cf06041-0688-4caa-a2d4-c4c7b7d8c23a"
      },
      "execution_count": null,
      "outputs": [
        {
          "output_type": "execute_result",
          "data": {
            "text/plain": [
              "{'lr': 0.009595835793707791,\n",
              " 'hidden_dim': 1024,\n",
              " 'no_layers': 3,\n",
              " 'weight_decay': 1e-05,\n",
              " 'patience': 1,\n",
              " 'clip_value': 5.1}"
            ]
          },
          "metadata": {},
          "execution_count": 17
        }
      ]
    },
    {
      "cell_type": "code",
      "source": [
        "render(ax_client.get_contour_plot(param_x=\"lr\", param_y=\"weight_decay\", metric_name=\"loss\"))"
      ],
      "metadata": {
        "colab": {
          "base_uri": "https://localhost:8080/",
          "height": 504
        },
        "id": "R6CAFxgtWHmA",
        "outputId": "dde47c81-d3f8-40db-eed8-92c4e203f670"
      },
      "execution_count": null,
      "outputs": [
        {
          "output_type": "stream",
          "name": "stderr",
          "text": [
            "[INFO 09-30 12:13:15] ax.service.ax_client: Retrieving contour plot with parameter 'lr' on X-axis and 'weight_decay' on Y-axis, for metric 'loss'. Remaining parameters are affixed to the middle of their range.\n"
          ]
        },
        {
          "output_type": "display_data",
          "data": {
            "text/html": [
              "<html>\n",
              "<head><meta charset=\"utf-8\" /></head>\n",
              "<body>\n",
              "    <div>            <script src=\"https://cdnjs.cloudflare.com/ajax/libs/mathjax/2.7.5/MathJax.js?config=TeX-AMS-MML_SVG\"></script><script type=\"text/javascript\">if (window.MathJax && window.MathJax.Hub && window.MathJax.Hub.Config) {window.MathJax.Hub.Config({SVG: {font: \"STIX-Web\"}});}</script>                <script type=\"text/javascript\">window.PlotlyConfig = {MathJaxConfig: 'local'};</script>\n",
              "        <script charset=\"utf-8\" src=\"https://cdn.plot.ly/plotly-2.35.2.min.js\"></script>                <div id=\"6a7fe130-2bb8-4b05-98ee-984444d8e586\" class=\"plotly-graph-div\" style=\"height:450px; width:950px;\"></div>            <script type=\"text/javascript\">                                    window.PLOTLYENV=window.PLOTLYENV || {};                                    if (document.getElementById(\"6a7fe130-2bb8-4b05-98ee-984444d8e586\")) {                    Plotly.newPlot(                        \"6a7fe130-2bb8-4b05-98ee-984444d8e586\",                        [{\"autocolorscale\":false,\"autocontour\":true,\"colorbar\":{\"tickfont\":{\"size\":8},\"ticksuffix\":\"\",\"x\":0.45,\"y\":0.5},\"colorscale\":[[0.0,\"rgb(247,252,253)\"],[0.125,\"rgb(229,245,249)\"],[0.25,\"rgb(204,236,230)\"],[0.375,\"rgb(153,216,201)\"],[0.5,\"rgb(102,194,164)\"],[0.625,\"rgb(65,174,118)\"],[0.75,\"rgb(35,139,69)\"],[0.875,\"rgb(0,109,44)\"],[1.0,\"rgb(0,68,27)\"]],\"contours\":{\"coloring\":\"heatmap\"},\"hoverinfo\":\"x+y+z\",\"ncontours\":25,\"x\":[1e-06,1.3011511650442548e-06,1.6929943542960217e-06,2.2028415765056147e-06,2.866229883678204e-06,3.729398352432554e-06,4.852511011181743e-06,6.3138503555892e-06,8.215273746089953e-06,1.0689313005882422e-05,1.390841207112662e-05,1.809694657026198e-05,2.354686311364001e-05,3.063802837345029e-05,3.986470631277378e-05,5.1870009063012666e-05,6.749072272319499e-05,8.781563250096393e-05,0.00011426141253772723,0.00014867137004306603,0.00019344392634026088,0.0002516997901283655,0.0003274994751669172,0.00042612632366481585,0.0005544547624925005,0.0007214294601814526,0.000938688782612345,0.0012213760031100258,0.0015891948094037057,0.002067782677737912,0.002690497840197013,0.0035007443993213955,0.004554997653699184,0.005926740503884541,0.007711585311544345,0.010033938212454076,0.01305567039511669,0.01698740074503987,0.02210317627048227,0.028759573555516532,0.03742055263793628,0.04868979566145066,0.06335278435066323,0.0824315491666629,0.10725590623460621,0.13955614735503497,0.18158364372009145,0.23626776957937787,0.3074200836506151,0.39999999999999997],\"xaxis\":\"x\",\"y\":[1e-05,3.020408163265306e-05,5.040816326530612e-05,7.061224489795919e-05,9.081632653061225e-05,0.00011102040816326532,0.00013122448979591839,0.00015142857142857143,0.0001716326530612245,0.00019183673469387756,0.00021204081632653063,0.00023224489795918368,0.00025244897959183674,0.0002726530612244898,0.0002928571428571429,0.00031306122448979595,0.000333265306122449,0.0003534693877551021,0.00037367346938775516,0.0003938775510204082,0.0004140816326530613,0.0004342857142857143,0.0004544897959183674,0.00047469387755102045,0.0004948979591836735,0.0005151020408163266,0.0005353061224489796,0.0005555102040816327,0.0005757142857142857,0.0005959183673469389,0.0006161224489795919,0.000636326530612245,0.000656530612244898,0.000676734693877551,0.0006969387755102042,0.0007171428571428572,0.0007373469387755103,0.0007575510204081633,0.0007777551020408164,0.0007979591836734694,0.0008181632653061226,0.0008383673469387756,0.0008585714285714286,0.0008787755102040817,0.0008989795918367347,0.0009191836734693879,0.0009393877551020409,0.000959591836734694,0.000979795918367347,0.001],\"yaxis\":\"y\",\"z\":[[1308.092756049912,1333.966310782023,1354.93827893145,1371.3517284114068,1384.1100570596932,1394.3541963646392,1403.1030319921624,1410.9618388131214,1417.9771802211785,1423.6694608335592,1427.2253007204204,1427.7965859125165,1424.8365414935906,1418.4001204735116,1409.336809746145,1399.3034970473177,1390.5287836344673,1385.2836783421867,1385.0745502691882,1389.6784795768515,1396.2695995344186,1398.988255377149,1389.3137157535953,1357.4560393977208,1294.6733307832883,1196.0185511441935,1062.6781969931062,902.9688383837613,731.3352285020793,565.3263493442664,421.30973917971187,310.28942884580897,235.30737807493733,191.40873918321205,168.19816991392958,154.00654034749516,140.07827896763507,123.25740219374353,106.34953642034623,96.32204455843265,101.31290521766681,127.71368376678635,178.31779262694164,251.9035302980073,343.9980368462789,448.2189865183384,557.5969360760528,665.5327458103682,766.3433803510991,855.5349053211883],[1308.1852188606624,1334.0667533211786,1355.0462967337273,1371.4680931998228,1384.237118438999,1394.4960050087916,1403.265085960626,1411.1504268055642,1418.1983878499902,1423.9279991018002,1427.5233870843733,1428.1331357871077,1425.2068963423906,1418.7964439009436,1409.749136986714,1399.721253870082,1390.9424386903029,1385.686104227936,1385.4616827672976,1390.049001616831,1396.6236232156607,1399.3252771949733,1389.6303850809388,1357.7444031180755,1294.92012261849,1196.205786186339,1062.78491851516,902.9735329084681,731.2183583950058,565.0727115453891,420.9108073323405,309.74616620284047,234.63389545697976,190.63649378152456,167.37939197415614,153.2147907822677,139.40409550955553,122.79818557681597,106.19488281352926,96.53782055574663,101.92847920632164,128.71620645713665,179.6553260648804,253.49597509561943,345.75238526924164,450.0444073446097,559.4158818568737,667.286206900252,767.9906585767266,857.0499162652551],[1308.2661839516722,1334.1546662494388,1355.140953890017,1371.5704550445969,1384.3496888422053,1394.6229447630876,1403.4119634648143,1411.3235769357466,1418.4039392525747,1424.1707221216861,1427.8055865655206,1428.4538426615866,1425.5615829817261,1419.1773962732123,1410.1464733203495,1400.1244128271485,1391.3418106549452,1386.0743923595514,1385.8345942001845,1390.4050018159578,1396.962723750487,1399.647115208345,1389.9321031829259,1358.018952167871,1295.1555183135902,1196.3855609908987,1062.8896295224451,902.9828921767385,731.1135125893891,564.8384598653549,420.5379674071611,309.23457535155393,233.99636340476172,189.9033044862411,166.6019401213265,152.46619097431238,138.77471832992677,122.38532915303165,106.08787751916327,96.80195016726003,102.59218188142654,129.76544684441978,181.03689455047294,255.12860292113908,347.54215027651117,451.8999075689173,561.2593651444106,669.0587960031557,769.6520650939524,858.5746693484068],[1308.335641577452,1334.2300389967404,1355.222239037729,1371.658801685065,1384.4477548218642,1394.735000507444,1403.5436470581144,1411.4812686841628,1418.5938101125353,1424.3976012142994,1428.0718658457392,1428.7586686860075,1425.9005595543017,1419.542932622423,1410.5287718161005,1400.5129262455953,1391.726852213852,1386.4484965985005,1386.1932400587098,1390.7464374155438,1397.2868600699894,1399.9537300360319,1390.218832693026,1358.2796520777902,1295.3794878507733,1196.5578521899806,1062.9923159773944,902.996914391039,731.0207043737604,564.6236251508128,420.19126955753734,308.7547263392671,233.39487073422254,189.20927544116051,165.86592759637853,151.76085415931004,138.19024924046352,122.01891085797376,106.0285629593285,97.11443148020027,103.30396260373499,130.8613063539894,182.4623572220686,256.80123985217506,349.3671358705347,453.78528004285636,563.1271771374238,670.85031005695,771.327407835079,860.1089870044948],[1308.3935833775172,1334.2928625016243,1355.2901424218044,1371.7331225436305,1384.531304669712,1394.8321589028083,1403.660121107209,1411.623483370196,1418.7679779718064,1424.6086095707003,1428.3221934778614,1429.0475778689274,1426.2237860343002,1419.8930097722737,1410.8959872871794,1400.8867481505422,1392.097517716898,1386.8083724605522,1386.5375775084601,1391.0732673810248,1397.5959928932862,1400.2450841334899,1390.4905380710886,1358.5264700840166,1295.5920026375395,1196.7226373688177,1063.0929641266553,903.0155972018365,730.939945541889,564.4282357839638,419.8707605553059,308.30668502737205,232.82950141112775,188.55450540888415,165.17146183028512,151.09888739897116,137.65078355470894,121.69900184415991,106.0169745526307,97.4752554646069,104.06376365337286,132.00367954744507,183.93156675802192,258.5137060781626,351.22714086582744,455.70031320733216,565.0191054244074,672.660543164184,773.0164926077475,861.6526901620379],[1308.4400023780654,1334.3431292130522,1355.3446558966652,1371.7934087278732,1384.600328418997,1394.9144083938086,1403.7613717951767,1411.7502041558087,1418.9264222350835,1424.803722257212,1428.5565398918643,1429.3205360844913,1426.5312242352575,1420.227586346552,1411.2480762998634,1401.2458342742189,1392.453763187394,1387.153977124592,1386.8675653982732,1391.3854524101778,1397.8900847354548,1400.5211418005201,1390.7471856106727,1358.7593751350828,1295.7930355127637,1196.8798950706023,1063.1915605041224,903.038937708199,730.8712463902979,564.2523176763447,419.57648378038186,307.89051307648356,232.30033453187497,187.9390877480339,164.51864441880394,150.4803915552281,137.15641006404985,121.42566646145735,106.05314070165133,97.88440596964404,104.87152023596059,133.1924541385735,185.44436940146835,260.2658159321593,353.12195892568684,457.64479113198485,566.9349340237613,674.4892866314825,774.7191231324194,863.2055982790376],[1308.4748929933726,1334.3808330919178,1355.3857729278425,1371.839653032324,1384.6548178464627,1394.9817392110413,1403.8473871242163,1411.861416048864,1419.0691241738778,1424.9829162203255,1428.7748774006895,1429.5775110791449,1426.8228378175827,1420.5466227772863,1411.5849971820558,1401.5901420646996,1392.795546330782,1387.4852694411134,1387.1831642684356,1391.6829549409995,1398.1690999151042,1400.7818691885564,1390.9887434460084,1358.978337898362,1295.9825607524504,1197.029604801101,1063.288091933904,903.0669324585116,730.8146157160766,564.09589426318,419.30847921113,307.5062679325756,231.80744430549225,187.36311039163166,163.907571098475,149.90546126576686,136.7072110151163,121.19896223898206,106.137082781738,98.34185972125465,105.72716049026093,134.4275110108312,187.0006049865881,262.05737792406194,355.0513786001004,459.6184935556027,568.8744434247899,676.3363290095698,776.4351010803542,864.7675293781447],[1308.4982510269183,1334.405969612259,1355.413488593285,1371.8718499399006,1384.6947664739814,1395.0341433730086,1403.9181569180232,1411.9571059060825,1419.1960669302061,1425.1461702912407,1428.9771802056953,1429.818472477989,1427.0985922957132,1420.850081312543,1411.906710031505,1401.919630694307,1393.1228265430036,1387.8022099403838,1387.484336358545,1391.965739159237,1398.4330045615916,1401.0272343075776,1391.2151815585783,1359.1833307662107,1296.1605540752053,1197.1717470330877,1063.382545533229,903.0995774512922,730.7700608150069,563.9589864982386,419.0667834154373,307.1540028140149,231.35090003668074,186.82665582671024,163.33833172408288,149.37418492107435,136.30326208882997,121.01893986874848,106.26881513170684,98.84758632177846,106.63060549762258,135.70872423653032,188.60010696639307,263.8881947751847,357.01518336488175,461.62119592758046,570.837410629539,678.2014561339912,778.1642261120911,866.338300082198],[1308.5100736722216,1334.41853576216,1355.4277995843368,1371.889995623004,1384.720169569835,1395.0716146876907,1403.9736728237895,1412.0372624356294,1419.3072355199122,1425.2934651900337,1429.163424401736,1430.0433917907617,1427.3584550449136,1421.1379260238702,1412.21317672368,1402.2342610676803,1393.4355649185395,1388.1047608402805,1387.7710456150417,1392.2337710055745,1398.6817666218699,1401.257207032644,1391.4264717833319,1359.3743278617562,1296.3269926473897,1197.3063032105467,1063.474908715275,903.13686813612,730.7375874800232,563.8416128491739,418.8514295425159,306.83376669944874,230.93076610989243,186.3298010751863,162.81101024739405,148.8866446429201,135.94463238094954,120.88564319083639,106.44834504618728,99.40154825127132,107.58176929308468,137.03596109763754,190.2427024420847,265.7580634542187,359.0131516620287,463.65266945043794,572.823609195493,680.0844511664694,779.9062959164306,867.917725650103],[1308.5103595134065,1334.4185300443546,1355.428704206398,1371.8940879442753,1384.7310241496511,1395.094148753767,1404.0139283138487,1412.1018761993344,1419.4026168356102,1425.4247835294498,1429.3335879818676,1430.2522424174492,1427.6023953077047,1421.4101228133877,1412.504360919298,1402.5339958295058,1393.733724258117,1388.3928860537997,1388.043257698401,1392.487018182468,1398.9153558669773,1401.4717591100593,1391.6225878145106,1359.5513050443226,1296.4818550879852,1197.433255752695,1063.565169191941,903.1787994146728,730.7171999999485,563.7437892934641,418.66244731544936,306.545604316737,230.5471019745903,185.8726176758894,162.32568469722457,148.44291626423126,135.63138438412597,120.79910918023103,106.6756727694613,100.00370087020434,108.58055887802459,138.40908210806862,191.9282121937598,267.6667752144781,361.0450569411753,465.7126811232109,574.8328092790016,681.9850946368499,781.6611062498224,869.5056200130052],[1308.4991085254837,1334.4059524765246,1355.4162023792608,1371.8841264570196,1384.7273289769882,1395.1017429614799,1404.0389186869584,1412.1509396145466,1419.4821996492633,1425.540109818326,1429.4876508416842,1430.4449996535322,1427.8303841999318,1421.6666394205163,1412.7802280715073,1402.8187993719073,1394.0172690760833,1388.6665511962262,1388.300939989988,1392.7254501606335,1399.1337438981582,1401.6708641631515,1391.803505211102,1359.7142399145064,1296.6251214731487,1197.552588057774,1063.653314976541,903.225365641867,730.7089011585655,563.6655293148305,418.4998630245021,306.2895561327218,230.19996213154428,185.45517166796935,161.8824271609202,148.04306931055055,135.3635739715362,120.75936793526517,106.95079149114918,100.65399242419198,109.626874234625,139.8279410377158,193.65645071276532,269.61411563258395,363.1106677023221,467.8009937859589,576.864777679597,683.9031644857426,783.4284509763017,871.1017958108466],[1308.4763220743534,1334.380804591289,1355.3902956371153,1371.8601124052796,1384.7090845635653,1395.094396493133,1404.0486410692076,1412.1844469556115,1419.545974614382,1425.639430464632,1429.6255947832715,1430.621640694851,1428.0423947164636,1421.907445428351,1413.0407454327155,1403.0886378414975,1394.2861656074456,1388.9257235919763,1388.5440615985713,1392.9490381851783,1399.3369041526144,1401.8544976976732,1391.9692014019065,1359.8631118188823,1296.7567733404633,1197.6642845066476,1063.739334386435,903.2765606271188,730.7126922339883,563.6068439001688,418.3636995211006,306.0656583439676,229.88939612021568,185.0775235753946,161.4813037672265,147.68716698285385,135.14125038213376,120.76644266762054,107.27368734353013,101.35236405028309,110.72060834191956,141.29238493797698,195.4272262354633,271.59986464840495,365.20974753966004,469.9173661651925,578.9192778850476,685.8384361077143,785.2081221078117,872.7060644291902],[1308.442002916529,1334.3430894358978,1355.3509871282404,1371.8220487235842,1384.676293169151,1395.07211032324,1404.0430944145728,1412.2023943549893,1419.5939342678557,1425.722733778143,1429.7474035187931,1430.7821446421049,1428.2384017365239,1422.1325122696712,1413.2858820610709,1403.3434791460822,1394.5403818145694,1389.1703722810962,1388.772593366497,1393.1577552813833,1399.52481190889,1402.0226371068215,1392.119655690224,1359.9979018543622,1296.8767936928857,1197.7683304661828,1063.823216045579,903.3323776356888,730.728572998364,563.5677415370652,418.2539762126276,305.873942868428,229.61544850732776,184.73972839277496,161.12237467039063,147.37526614184748,134.96445620727002,120.82034969409364,107.64433940039896,102.09874978476694,111.86164719345163,142.80225416888618,197.24034077842225,273.6237966064016,367.34205518658393,472.06155292026733,580.9960701172049,687.7906823951088,786.9999098449845,874.3182360363544],[1308.3961551985813,1334.2928115716127,1355.2982816143633,1371.7699400363458,1384.628958801094,1395.034887218309,1404.0222795050995,1412.2047798039944,1419.6260730314066,1425.7900099727294,1429.8530626736906,1430.9264925049702,1428.4183820286485,1422.3418132325876,1413.5156088265826,1403.5832929610224,1394.7798873935437,1389.4004680254297,1388.986507875514,1393.351576260123,1399.6974442918843,1402.1752616758736,1392.2548492581554,1360.118592872173,1296.9851670023859,1197.864712292424,1063.9049488870246,903.3928093901618,730.7565417178567,563.5482282118076,418.17070905792394,305.7144373380756,229.37815887647588,184.44183557247118,160.80569403581814,147.10741729383943,134.83322737911504,120.92109842980983,108.06271967776121,102.89307657294046,113.04986981669867,144.3573824278322,199.0955901751637,275.6856802981901,369.5073445618067,474.23330469071817,583.094911378595,689.7596737824412,788.803602618354,875.9381196208519],[1308.3387844563053,1334.2299770727907,1355.2321854697007,1371.7037926569283,1384.5670872135106,1394.982731736272,1403.9861989507235,1412.1916031531678,1419.6423872126693,1425.841251168273,1429.9425597895133,1431.0546672058447,1428.5823142552765,1422.5353234658257,1413.7298984168933,1403.8080507352474,1395.0046537801986,1389.6159833144386,1389.1857794522589,1393.5304777229358,1399.8547802774913,1402.312352586434,1392.3747651705207,1360.225169481489,1297.081879213275,1197.9534173335528,1063.9845221553173,903.4578480720097,730.7965951529704,563.5483074079036,418.11391056352943,305.58716509241805,229.17756181887387,184.18388901288233,160.53131002697944,146.88366457796673,134.7475931604796,121.06869138324515,108.52879313616972,103.7352642803994,114.28514829405236,145.9575967798795,200.99276411430333,277.7852790064644,371.7053648166271,476.43236814456156,585.2155554998019,691.7451782913753,790.6189871299939,877.5655230291093],[1308.269897613602,1334.1545935256572,1355.1527066796705,1371.623614586367,1384.490685906113,1394.915650225555,1403.934857188728,1412.1628661122832,1419.6428750058976,1425.876451392206,1430.0158843263653,1431.1666535832153,1428.7301789769654,1422.7130199836438,1413.928725342688,1404.0177256969198,1395.2146541557838,1389.8168923706867,1389.3703841733904,1393.694438066729,1399.9968006968656,1402.4338929203043,1392.4793883783855,1360.3176180526873,1297.166917745229,1198.0344339326357,1064.0619254088465,903.5274853232668,730.8487285591741,563.5679801051872,418.08358978068765,305.4921451730289,229.01368692519105,183.96592704807398,160.29926479377758,146.70404575502005,134.70757613630468,121.26312415277812,109.04251768463286,104.62522570597798,115.56734778548457,147.60271768960212,202.93164617916597,279.9223505502449,373.93586038331955,478.65848602751794,587.3577531875484,693.7469615762657,792.4458483955211,879.200253003432],[1308.1895029810917,1334.0666700267852,1355.0598548392884,1371.5294155117622,1384.3997641227022,1394.8336508237885,1403.8682604828302,1412.1185722499742,1419.6275364922933,1425.895606580666,1430.0730276649706,1431.2624383946447,1428.86195865623,1422.8748816703812,1414.112065942748,1404.2122928587496,1395.4098634523011,1390.003171154977,1389.5402998703753,1393.8434374881267,1400.1234882403146,1402.5398676629552,1392.5687057222035,1360.395926720245,1297.240271495998,1198.1077514301567,1064.1371485221111,903.6017122483202,730.9129356878329,563.6072447794156,418.0797523030999,305.4293923189585,228.88655877859503,183.78798243861615,160.10959446222677,146.5685921976666,134.71319220657966,121.50438542494726,109.6038441862762,105.56286659643769,116.89632655280633,149.29255905445729,204.91201388878056,282.09664733129,376.19857102458286,480.9113972130936,589.521252073514,695.7647869702251,794.283969786549,880.8421152202695],[1308.0976102544364,1333.9662171812595,1354.9536411512331,1371.4212068043228,1384.2943328492975,1394.7367434561647,1403.7864169219147,1412.058726993002,1419.5963736399647,1425.8987145792826,1430.1139831083658,1431.3420103193826,1428.9776376610127,1423.0208892846417,1414.2798983886437,1404.3917290229579,1395.590258357492,1390.1747973711465,1389.6955061339272,1393.977457987457,1400.2348274608153,1402.630263706619,1392.6427059345701,1360.4600853852617,1297.3019308438083,1198.1733601663373,1064.2101816879108,903.6805194157937,730.9892087874613,563.666097402394,418.10240026539464,305.3989169631368,228.79619694878738,183.6500823637004,159.9623291256649,146.47732888228745,134.76445058113728,121.79245697426626,110.21271646577338,106.5480856629332,118.27193598568198,151.02692823984688,206.93363874042734,284.3079163819166,378.49323188414314,483.19083675366227,591.7057967638938,697.7984155317814,796.1331330734844,882.4909143287045],[1307.9942305123964,1333.8532471005497,1354.8340784235966,1371.299001517082,1384.174404811928,1394.6249398334337,1403.689336418388,1411.9833376251418,1419.5493903035044,1425.8857751435726,1430.1387458832023,1431.4053599605927,1429.0772022677693,1423.1510254631035,1414.4322026890638,1404.5560127858846,1395.7558173194775,1390.3317504705135,1389.8359843180904,1394.0964833723758,1400.3308047771493,1402.7050698529865,1392.7013796425863,1360.5100857176276,1297.3518876494509,1198.2312514832438,1064.2810154194644,903.7638968605402,731.0775386052856,563.7445314426673,418.15153234238005,305.40072522969035,228.7426159872395,183.55224841458153,159.85749283717092,146.4302743821383,134.86135377563727,122.12731366472286,110.86907131820817,107.58077459882014,119.6940206290605,152.8056261155087,208.9962862534066,286.55589941395885,380.81957353834207,485.49653593233825,593.9111288896006,699.8476060919884,797.9931184686927,884.1464539891838],[1307.879376214601,1333.7277734000734,1354.7011810673082,1371.1628143822713,1384.0399944740707,1394.4982534495468,1403.5770307061857,1411.8924132857107,1419.486592223198,1425.856789938969,1430.147313140677,1431.4524798472048,1429.1606406641845,1423.2652747239622,1414.5689606937863,1404.7051245422447,1395.9065205510492,1390.4740116559776,1389.9617175439744,1394.2004992611257,1400.411408476666,1402.7642768155192,1392.7447193698308,1360.5459211578077,1297.3901352580547,1198.2814177266748,1064.3496405524547,903.8518340857302,731.1779143891077,563.8425378667087,418.22714374903217,305.43481893226175,228.72582542358754,183.49449658922498,159.79510360351077,146.42744086217556,135.00389760943216,122.50892345298843,111.57283851979315,108.66081809944575,121.16241821241147,154.6284470935896,211.0997160143773,288.84033286902434,383.1773220488665,487.82822231574744,596.1369871571981,701.9121153021089,799.8637046700431,885.8085369124819],[1307.7530611990492,1333.5898111964648,1354.5549650932423,1371.012661808364,1383.891118033745,1394.356699578941,1403.4495133384048,1411.7859649677193,1419.4079870238538,1425.8117625404632,1430.139683957074,1431.4833644353785,1429.227942951507,1423.363623469998,1414.6901560972813,1404.8390464890272,1396.0423500336105,1390.601563885772,1390.0726907031328,1394.289493085435,1400.476628717663,1402.807877221368,1392.7727195379432,1360.567586918272,1297.4166685005544,1198.323852247832,1064.4160482469888,903.9443200650612,731.2903238894937,563.9601051406423,418.3292262412187,305.50119557318294,228.74582976304072,183.47683728823012,159.77517338049427,146.46883407532522,135.19207120490955,122.93724739310147,112.3239408402668,109.78809388353466,122.67695968049588,156.49517916819337,213.24368172398732,291.16094796996924,385.5661990164866,490.185619807691,598.3831074004942,703.9916976817674,801.7446689047933,887.4769648988943],[1307.6153006793256,1333.4393771045343,1354.3954481089997,1370.8485618767736,1383.7277934202566,1394.2002952734697,1403.3067996845782,1411.6640055156565,1419.313584213261,1425.7506984318684,1430.1158593339314,1431.4980101095944,1429.2791011465056,1423.4460599912745,1414.7957744419518,1404.9577626290375,1396.1632895207672,1390.7143918768666,1390.1688904605912,1394.3634540930448,1400.526457531389,1402.8358656129012,1392.7853764678157,1360.5750799845478,1297.4314836948358,1198.3585494047777,1064.4802299894964,904.0413432450509,731.4147533622621,564.0972192325272,418.4577681171944,305.5998483437021,228.802628485029,183.49927531210017,159.7977080696291,146.55445336020767,135.42585698839554,123.41223964296506,113.12229405678988,110.96247271604472,124.23746922572963,158.40560395641984,215.4279312449396,293.5174707735611,387.98592163580497,492.5684487036036,600.6492226327656,706.0861056675784,803.6357869737781,889.1515388776011],[1307.466111241551,1333.2764892339383,1354.222649315377,1370.6705343382325,1383.5500402906023,1394.0290593589782,1403.1489069275863,1411.5265496229053,1419.2033951802723,1425.6736050047102,1430.0758421978203,1431.4964151833565,1429.3141091830485,1423.512574467461,1414.8858031210075,1405.061258774081,1396.2693245415653,1390.8124821080175,1390.2503052575157,1394.4223733498784,1400.5608888236661,1402.8482384488411,1392.7826883803925,1360.568399115908,1297.434578646576,1198.3855045636742,1064.542177594532,904.1428915474412,731.5511875712843,564.2538636151363,418.61275421983083,305.7307661251076,228.89621604292824,183.56180985973236,159.86270751625227,146.68429164043624,135.70523069267244,123.93384747234654,113.96780696964947,112.1838184328941,125.84376432214628,160.35949674090318,217.65220665133205,295.9096222243942,390.4362027510747,494.97642574585,602.9350630996566,708.1950896622807,805.5368332959733,890.832058946278],[1307.3055108410526,1333.101167185543,1354.0365895025125,1370.4786006088239,1383.3578800255236,1393.8430124315296,1402.975854060211,1411.373613828796,1419.0774331925154,1425.5804915567342,1430.0196373997505,1431.4785798995138,1429.332962913299,1423.5631589697819,1414.960231380973,1405.1495225477909,1396.3604424033792,1390.895822822471,1390.316925313528,1394.4662437418356,1400.5799183761305,1402.8449941050098,1392.764655397078,1360.5475448456837,1297.4259526497653,1198.404714099804,1064.6018832065174,904.2489523717015,731.6996097915919,564.4300192692657,418.7941659395839,305.89393349078443,229.0265818648664,183.6644345281851,159.9701655090962,146.8583354254012,136.0301613610879,124.50201127260237,114.8603814196353,113.45198796725612,127.49565576099133,162.35662651389015,219.91624427946397,298.3371182098973,392.916750912946,497.4092641798486,605.2403563326973,710.3183980842997,807.4475809533292,892.5183244108574],[1307.1335187987638,1332.9134320474964,1353.8372910457206,1370.272783765693,1383.1513357252247,1393.6421768532755,1402.7876618813284,1411.205216515285,1418.9357133937287,1425.4713692900357,1429.9472517141858,1431.4445064302058,1429.3356601085384,1423.5978074625932,1415.0190503238282,1405.2225433880938,1396.4366321944406,1390.9644040303087,1390.3687426286642,1394.4950599762276,1400.5835438470951,1402.826132874681,1392.7312795397524,1360.512519481217,1297.405606486912,1198.4161753983753,1064.6593393013934,904.3595125976287,731.860001812794,564.6256646876052,419.0019812182298,306.0893307092673,229.1937103557869,183.8071373137405,160.12006978115824,147.07656481250598,136.4006113532256,125.11666456800265,115.79991230693037,114.76683137740116,129.19294768781975,164.39675602270688,222.21977477990345,300.7996696166298,395.4272704362927,499.8666738109778,607.5648272034144,712.4557774177571,809.3678017359057,894.2101338254664],[1306.9501557973472,1332.713306390996,1353.6247779010016,1370.0531085424188,1382.930432204739,1393.4265767479733,1402.5843529917393,1411.0213779032765,1418.7782528007278,1425.3462513088161,1429.8586938376855,1431.3941988764168,1429.3222004596014,1423.616515804581,1415.062252908781,1405.2803125493156,1396.4978847860184,1391.0182175104462,1390.4057509849758,1394.5088185828397,1400.571764772029,1402.7916569685415,1392.6825647303974,1360.4633271034338,1297.373542428942,1198.419886855101,1064.7145386881957,904.4745585880613,732.0323439428014,564.8407758791056,419.23617455333397,306.316933748221,229.3975809004952,183.98990061427446,160.31240201202888,147.33895349099367,136.81653635213866,125.77773402864432,116.78628761170546,116.12819187624251,130.93543764116492,166.47964181669101,224.56252317081015,303.296982387595,397.9674614588706,502.3483610622465,609.9081979780444,714.606972262906,811.2972661872833,895.907285032521],[1306.7554438770517,1332.5008142657703,1353.3990756002484,1369.8196013240622,1382.6951959889648,1393.196237996161,1402.3659517896497,1410.8221200485737,1418.6050703000014,1425.2051526167595,1429.7539743871646,1431.3276632671577,1429.292585576938,1423.6192817495878,1415.0898339536725,1405.3228231039284,1396.5441928342411,1391.057256812273,1390.427945947773,1394.5075179146277,1400.5445825636548,1402.7415705142594,1392.6185167903272,1360.3999735660548,1297.3297642347748,1198.4158478765744,1064.767474510558,904.5940761916654,732.2166150118503,565.075326373868,419.4967170034529,306.57671427932394,229.63816786790784,184.2127012328129,160.54713783167352,147.64546874721105,137.27788537321885,126.48513948508685,117.81938841651464,117.53590586259378,132.7229165928722,168.60503429573305,226.9442088927924,305.82875758083475,400.5370200010997,504.85402903278884,612.2701883728855,716.7717253870345,813.2357436503015,897.609575203023],[1306.5494064312988,1332.2759811952615,1353.1602112461317,1369.5722901418858,1382.4456553073555,1392.9511882299773,1402.132484465788,1410.6074668374677,1418.4161866439322,1425.048090114031,1429.6331058977678,1431.2449075582576,1429.2468189902888,1423.6061049470609,1415.101790136012,1405.3500699439344,1396.5755507815643,1391.081517256943,1390.4353248665102,1394.4911581480474,1400.5020005116687,1402.6758795556602,1392.5391434390278,1360.3224664944344,1297.2742771505914,1198.4040588804107,1064.8181402481225,904.7180507458454,732.4127923768378,565.3292872285903,419.78357619411065,306.8686396841953,229.91544061644248,184.4755103824993,160.82424682551988,147.99607147141182,137.78460077459886,127.23879394449943,118.89908893003519,118.98980295379795,134.55516898978868,170.7726777599804,229.36454586474412,308.3946914289917,403.13563802661264,507.38337755699604,614.6505156100998,718.94977777567,815.1830023129646,899.3168008769187],[1306.3320682019937,1332.0388341715134,1352.9082135066742,1369.3112046677409,1382.1818400882728,1392.6914568276375,1401.8839789981716,1410.3774439819697,1418.2116244466579,1424.8750825939092,1429.4961028203752,1431.1459416307816,1429.1849061479888,1423.576986942127,1415.098119993645,1405.3620497818886,1396.5919548578818,1391.090995938308,1390.4278868753138,1394.459741283014,1400.4440237820759,1402.5945920515114,1392.4444542926099,1360.2308152840299,1297.2070879087862,1198.3845212951787,1064.866529717884,904.846467079737,732.6208519259548,565.6026270324984,420.0967163244752,307.1926730611667,230.2293635004405,184.77829369271103,161.1436925409809,148.39071616603297,138.33661826911532,128.0386036085277,120.0252565126425,120.48970602016612,136.4319727971572,172.98231046118457,231.82324254121477,310.9944754001159,405.76300350383656,509.93610326449783,617.0488944741817,721.1408686842656,817.1388092546631,901.0287580036376],[1306.1034552745782,1331.7894016497728,1352.643112609519,1369.0363762081392,1381.9037819530054,1392.4170749075624,1401.6204651465189,1410.1320790146708,1417.9914081795528,1424.6861507390322,1429.342981518716,1431.0307772890633,1429.1068544158807,1423.5319311752896,1415.0788239250505,1405.35876115156,1396.5934030812816,1391.0856917234983,1390.4056328931508,1394.413271142495,1400.3706594161454,1402.497717873915,1392.3344608618654,1360.1250310985051,1297.1282047266045,1198.3572375601136,1064.9126370754434,904.9793095173006,732.8407680836228,565.8953119138201,420.43609817480456,307.54877323304186,230.57989587784033,185.12101121649243,161.50543249547445,148.82935095550022,138.93386693791547,128.88446789271086,121.19775170363863,122.0354312209829,138.35309954342864,175.23366465538385,234.32000197091855,313.6277962594474,408.4188004684263,512.5118996407858,619.4650373689079,723.3447356902234,819.1029304926167,902.7452419827534],[1305.8635950728094,1331.5277135427991,1352.364940335885,1368.7478376979946,1381.6115142094518,1392.1280753221672,1401.341974446311,1409.871401283258,1417.7555641663544,1424.4813171172814,1429.1737602661165,1430.899428258358,1429.0126730758598,1423.4709429817524,1415.0439041892696,1405.3402044082309,1396.5798952584446,1391.0656052531485,1390.3685656236407,1394.3517533717368,1400.2819163289853,1402.3852688063112,1392.209176549934,1360.0051268674624,1297.0376373044712,1198.3222111246068,1064.9564568161818,905.1165618805085,733.0725138157298,566.2073055467821,420.80167911462263,307.9368947558114,230.96699211885817,185.5036174393161,161.90941818561123,149.3119175974553,139.57626924550857,129.77627944749065,122.41642824986059,123.62678804192223,140.3183143665824,177.52646665691748,236.85452185646744,316.2943361323305,411.1027090865968,515.1104570885473,621.8986543748016,725.561114745255,821.0751310285054,904.4660477047191],[1305.6125163532793,1331.2538012148843,1352.0737300142177,1368.445623694044,1381.3050718454715,1391.824492651303,1401.0485402024992,1409.595441944657,1417.5041205779162,1424.2606061772874,1428.988459241864,1430.751910182118,1428.9023733240308,1423.3940295903672,1414.9933649054665,1405.3063817286336,1396.5514329846872,1391.0307389412678,1390.3166895545078,1394.2751954371188,1400.1778053077383,1402.257258541088,1392.0686166495843,1359.8711172838116,1296.9353968239977,1198.2794464474869,1064.9979837763647,905.2582074926274,733.3160606351663,566.5385691591068,421.19341311162214,308.3569879282719,231.39060161583916,185.92606128903003,162.35559509802897,149.83835149560537,140.26374105649865,130.71392418089636,123.68113313614361,125.26357933423515,142.32737606201323,179.86043689390198,239.42649461541635,318.9937725681792,413.81440571930267,517.7314629896887,624.3494533071045,727.7897402281149,823.055174895328,906.1909695917072],[1305.3502491996683,1330.9676974755916,1351.769516513535,1368.1297703679536,1380.9844915219046,1391.5063631953644,1400.7401974828704,1409.3042339588305,1417.2371074265986,1424.0240442435643,1428.787100527195,1430.5882406188862,1428.775968268492,1423.3012001222032,1414.9272120521166,1405.2572971105242,1396.508019643648,1390.9810969747582,1390.2500109566745,1394.183606624645,1400.0583390093957,1402.113702676804,1391.9127983401015,1359.723018800768,1296.8214959456895,1198.2289489960685,1065.0372131341433,905.404229181597,733.5713786076586,566.8890615400243,421.61125074129455,308.80899880256726,231.85066879420344,186.38828614710184,162.84390272145868,150.40858171391454,140.99619165378152,131.69728128276506,124.99170661727032,126.94560135546067,144.38003713181058,182.23528996504393,242.03560744243896,321.72577860543555,416.5535629872959,520.374601768017,626.8171397742689,730.0303449976677,825.0428252044785,907.9198016385631],[1305.0768250167378,1330.6694365732,1351.4523362364673,1367.8003154990986,1380.6498115652603,1391.1737249680507,1400.4169831110587,1408.9978120822143,1416.9545565603028,1423.771659511281,1428.569708100912,1430.408439038813,1428.6334729267387,1423.1924655887487,1414.8454534658292,1405.1929563718968,1396.4496604066162,1390.9166853125735,1390.168537883,1394.0769980380683,1399.9235319582335,1401.9546187150208,1391.7417406837908,1359.560849628489,1296.6959488063312,1198.1707252449967,1065.0741404104945,905.5546092834984,733.8384363578986,567.2587390488333,422.05513919732056,309.29286919574076,232.34713312451657,186.8902298611576,163.37427456021197,151.02253099236964,141.7735237584015,132.72622325051213,126.34798225146932,128.67264381151932,146.47604383555802,184.65073469774075,244.68154237272194,324.49002283757505,419.3198498369956,523.0395549525575,629.3014172368718,732.2826604462367,827.0378441929552,909.6523374537892],[1304.792276524061,1330.3590541878755,1351.1222271119962,1367.4572984670344,1380.3010719600816,1390.826617688801,1400.07893565922,1408.676212860807,1416.6565016561362,1423.5034820406595,1428.3363078346251,1430.2125268197983,1428.4749042226886,1423.0678388897322,1414.7480988398017,1405.1133671498328,1396.376362231506,1390.83751168453,1390.0722801666577,1393.9553825966432,1399.7734005428695,1401.7800260567474,1391.5554646220903,1359.3846297303448,1296.5587710160644,1198.1047826748668,1065.108761470067,905.7093296461103,734.1172010759561,567.6475556239203,422.52502230263525,309.8085367021114,232.87992913566842,187.43182475870515,163.9466381490745,151.680115764189,142.59563355078564,133.8006159165996,127.74978693554556,130.4444899005245,148.61513624253212,187.10647420756806,247.36397634653065,327.28616948009847,422.1129316071384,525.7260012415182,631.8019870670083,734.5464165532812,829.0399932707708,911.3883703006159],[1304.4966377495011,1330.0365874245576,1350.779228587901,1367.1007602436541,1379.938314340986,1390.465082774886,1399.7260954403587,1408.3394746229028,1416.342978213726,1423.2195437510059,1428.0869274876186,1430.0005272432545,1428.3002809833356,1422.9273348105708,1414.6351597219025,1405.0185388989926,1396.2881338614739,1390.7435855897593,1389.9612494191583,1393.8187750325205,1399.6079630129434,1401.5899459984978,1391.3539929712988,1359.19438081882,1296.409979655159,1198.031129770628,1065.1410725219503,905.8683716325614,734.4076385240038,568.0554627923063,423.0208405212636,310.35593470662377,233.4489864291125,188.0129976621813,164.56091506959302,152.3812461745523,143.46241069368892,134.9203184775397,129.19694094167,132.26091635814117,150.7970482854609,189.6022059591382,250.0825812749735,330.1138784385096,424.932470096298,528.4336165668542,634.3185486081321,736.8213419393539,831.0490330685093,913.1276931381155],[1304.1899440224252,1329.7020748055634,1350.4233816228943,1366.730743385027,1379.5615819843763,1390.0891633331746,1399.3585045003156,1407.9876374714804,1416.01402354817,1422.9198784143828,1427.8215967013516,1429.7724654894957,1428.1096239350204,1422.77097001945,1414.5066495123895,1404.9084828897403,1396.1849858231803,1390.6349182948088,1389.8354590280142,1393.6671918877712,1399.4272394754198,1401.3844017279632,1391.1373504179232,1358.9901263510646,1296.249593270473,1197.9497760197753,1065.1710701203563,906.0317161250755,734.7097130433178,568.4824096797356,423.54253097085433,310.9349923991575,234.05422969426485,188.63366990524656,165.2170209676254,153.12582610069018,144.37373835658497,136.0851835242542,130.689257955453,134.12169350417798,153.02150781545907,192.1376218280165,252.8370241067691,332.97280537722884,427.7781236310877,531.1620741593744,636.8507992352851,739.1071639203069,833.0647234850205,914.8700986623508],[1303.8722319666736,1329.355556262924,1350.0547286784818,1366.3472920229406,1379.1709197998446,1389.6989041515667,1398.97620660942,1407.6207432762444,1415.6696767826384,1422.604521648912,1427.5403469935845,1429.5283686327546,1427.9029556993353,1422.5987630640275,1414.3625834612612,1404.7832122059149,1396.0669304246967,1390.5115228313894,1389.6949241540515,1393.500651511049,1399.2312518905173,1401.1634183192978,1390.9055635136356,1358.7718915240703,1296.077631871601,1197.8607319103148,1065.1987511652223,906.1993435287956,735.0233875615595,568.9283430211998,424.0900274359236,311.54563478966384,234.69557872497091,189.29375735022802,165.9148655723871,153.91375317355056,145.32949324155368,137.2950570743713,132.22654511586535,136.02658529098477,155.28823665866724,194.71240816422574,255.6269668962936,335.86260178948334,430.64954713518466,533.9110446145299,639.3984344157599,741.4036085617727,835.0868237352295,916.6153793475474],[1303.5435394932656,1328.9970731304338,1349.6733137105057,1365.9504518561212,1378.7663743212415,1389.2943516900996,1398.5792472537994,1407.2388356653191,1415.309978840616,1422.2735109117205,1427.2432117521407,1429.2682656358245,1427.6803007886479,1422.4107343677663,1414.2029786652392,1404.642741742236,1395.9339817530579,1390.3734139937703,1389.5396617283614,1393.3191740538878,1399.0200240672584,1400.9270227280222,1390.658660669853,1358.539703269499,1295.8941169267227,1197.764008928527,1065.2241129027352,906.3712337757024,735.3486236003677,569.3932071720026,424.66326038180944,312.1877827242689,235.37294843702142,189.99317040693802,166.6543527168173,154.74491880085674,146.32954561074837,138.54977860570364,133.80860305653522,137.97534935323665,157.59695067403914,197.32624585675313,258.4520668726256,338.78291506806636,433.5463921990473,536.6801959586554,641.9611477701385,743.7104007338912,837.1150923980988,918.3633274872993],[1303.2039057928637,1328.6266681354382,1349.27918216042,1365.5402701411629,1378.3479936974454,1388.8755540717327,1398.1676736263666,1406.8419600166067,1414.9349724378005,1421.9268854915276,1426.9302262283027,1428.992187344335,1427.4416856012576,1422.2069062258986,1414.0278540643892,1404.4870882013536,1395.7861556714602,1390.2206083358244,1389.3696904489038,1393.1227814666395,1398.793581658654,1400.6752437855453,1390.3966721519373,1358.2935902481436,1295.69907135814,1197.6596195565048,1065.2471529257577,906.5473663286124,735.6853812832064,569.8769441193275,425.2621569693673,312.8613529023065,236.08624888682942,190.73181405264347,167.43538035924672,155.61920819161986,147.37375931535945,139.84918109152534,135.4352259485533,139.96773705904297,159.94735981261425,199.97881039943906,261.31197650966715,341.733388577036,436.46830715038493,539.4691937157705,644.5386311336912,746.027264166221,839.1492874646469,920.1137352357562],[1302.8533713279846,1328.2443853903442,1348.8723809462635,1365.1167956831457,1377.9158276828084,1388.4425610728058,1397.7415346174644,1406.4301634487979,1414.5447020736476,1421.5646865008712,1426.6014275298412,1428.7001664806544,1427.1871384161807,1421.9873028010206,1413.8372304383738,1404.3162700905382,1395.6234698161074,1390.053124167719,1389.1850307767522,1392.911497494049,1398.5519521565084,1400.4081121933054,1390.119630073012,1358.0335828440388,1295.4925195375151,1197.5475772694845,1065.2678691741928,906.7277201852698,736.0336193435136,570.3794934942682,425.8866410703227,313.56625789418854,236.83538529111564,191.5095878532685,168.25784060650147,156.53650038208968,148.46199182603323,141.19309103712283,137.10620154483547,142.00349356268498,162.33916817812883,202.66977195803253,264.20634359739154,344.7136617242949,439.41493712527466,542.2777009749539,647.1305746181553,748.3539215029098,841.1891663860847,921.8663946488107],[1302.4919778249678,1327.850270383866,1348.452958453353,1364.6800788259611,1377.4699276272972,1387.9954241131804,1397.3008808051895,1406.003494812052,1414.1392140225698,1421.1869568679836,1426.256854613684,1428.3922376374271,1426.9166893875645,1421.75195011832,1413.6311304023443,1404.1303077180123,1395.4459435927047,1389.8709815522627,1388.9857049319903,1392.6853476704678,1398.2951648858589,1400.1256605165318,1389.8275683874067,1357.759713158212,1295.2744872807984,1197.4278965329554,1065.2862599352425,906.9122738825217,736.3932951331253,570.9007925843541,426.5366332833358,314.3024061601919,237.620258047706,192.32638598581127,169.1216197382712,157.49666826319066,149.5940942648018,142.5813285181478,138.82131122603585,144.082357858767,164.77207408896265,205.39879543846234,267.1348113140621,347.7233700349705,442.38592413999874,545.1053784581217,649.736666673808,750.6900943580199,843.2344861220085,923.6210977252778],[1302.1197682656943,1327.4443699720043,1348.0209645246914,1364.2301714423343,1377.010346466324,1387.5341962460639,1396.8457644453888,1405.5620046783383,1413.7185563247967,1420.7937413283114,1425.8965482782246,1428.0684372707456,1426.6303705387354,1421.5008760604346,1413.4095784024696,1403.9292231889285,1395.2535981725985,1389.6742023008949,1388.771736889254,1392.4443593147157,1398.0232509990435,1399.8279231776305,1389.520522883724,1357.4720150020853,1295.0450018428646,1197.3005927995691,1065.302323843603,907.1010055005615,736.7643646309615,571.4407763465927,427.2120509507946,315.0697020701987,238.44076275736256,193.1820972620527,170.0265982328475,158.4995786092465,150.76991143854224,144.01370722017862,140.5803300477637,146.20406283764822,167.24577014136077,208.16554055624664,270.0970182994615,350.7621452257142,445.38090716349814,547.9518845883626,652.3565941518998,753.0355033710497,845.285003188675,925.3776364480295],[1301.7367868790716,1327.026732368763,1347.576450451099,1363.7671269235598,1376.537138710276,1387.0589321475172,1396.3762394613302,1405.1057453314481,1413.2827787768856,1420.3850864156877,1425.5205511552713,1427.7288036929563,1426.3282157558783,1421.2341103619488,1413.1726007111042,1403.7130404009895,1395.0464564885717,1389.4628099693375,1388.543152372928,1392.1885615245758,1397.736243469406,1399.5149364491956,1389.198531177534,1357.170523890524,1294.8040919118398,1197.1656825058237,1065.3160598815666,907.2938926672796,737.1467824520171,571.9993774209527,427.91280817624374,315.8680459242156,239.29679024670992,194.07660515333572,170.9726507941723,159.54509210827433,151.9892818737939,145.49003447997848,142.38302678941056,148.3683353423978,169.75994327398274,210.96966190711356,273.09259872916596,353.82961527972293,448.3995221904681,550.8168755586795,654.9900423673422,755.3898682625902,847.3404737072792,927.1358028250761],[1301.3430791322705,1326.597407136604,1347.119468961061,1363.2910001689395,1376.0503604337373,1386.5696881056574,1395.89236143306,1404.6347707566779,1412.8319329219032,1419.9610404531556,1425.1289077016438,1427.373377065108,1426.0102607813562,1420.951684603525,1412.9202254215954,1403.481785039715,1394.8245432302847,1389.2368298528925,1388.299978851989,1391.9179851709434,1397.4341770846304,1399.1867384466436,1388.861632703699,1356.8552770345345,1294.5517876031354,1197.0231830685516,1065.3274673790393,907.4909125626707,737.5405018565864,572.5765261443332,428.638815842525,316.69733397383834,240.18822659217926,195.00978781666475,171.95964638023167,160.63306339357598,153.25203785315568,147.01011132814403,144.2291640044843,150.57489622720692,172.31427483380463,213.8108090387786,276.12118238978854,356.92540452267554,451.44140231512495,553.7000054012339,657.6366951617407,757.7529078901935,849.4006534523371,928.8953889306415],[1300.9386917217362,1326.1564451766492,1346.6500742103124,1362.8018475749404,1375.5500692644223,1386.0665220095466,1395.3941875864348,1404.1491366301818,1412.3660720392622,1419.5216535434445,1424.721664190411,1427.002199389035,1425.676543206663,1420.6536322056736,1412.6524824427345,1403.2354845733557,1394.5878848393709,1388.9962889813983,1388.0422455345051,1391.632662891615,1397.1170884397147,1398.8433691204823,1388.509868708325,1356.5263133336177,1294.2881204531855,1196.8731128811833,1065.3365460134833,907.6920419233277,737.9454747597881,573.1721505650406,429.38998163061177,317.55745844458727,241.11495314502196,195.9815181219385,172.98744823271005,161.76334107677212,154.55800545302094,148.57373253320122,146.11849807215862,152.8234604169329,174.90844064312898,216.68862652374554,279.1823947551086,360.0491336993106,454.506177805454,556.6009260569142,660.2962349666144,760.1243403042776,851.4652979000182,930.6561869461157],[1300.5236725639527,1325.7038987186188,1346.1683217711322,1362.2997270240573,1375.0363243717993,1385.5494933377765,1394.8817767818464,1403.648900308006,1411.885251134233,1419.0669775591073,1424.298868701783,1426.6153144990894,1425.3271024650167,1420.3399884221617,1412.3694034928483,1402.9741682474562,1394.3365095041875,1388.7412161138413,1387.76998336179,1391.3326290847278,1396.7850159295854,1398.4848702482063,1388.1432822403535,1356.1836733677756,1294.0131234128867,1196.7154913098177,1065.343295809766,907.8972570470257,738.3616517413419,573.7861764576871,430.16621003907926,318.44830755909743,242.07684655734585,196.99166368035696,174.0559139079757,162.93576778217624,155.9070045828463,150.18068664717356,148.05077925042002,155.1137369681942,177.54211106794935,219.60275403328365,282.2758570631963,363.20042005083155,457.59347617811136,559.5192874453987,662.9683428669252,762.5038828042206,853.5341622765166,932.4179892009618],[1300.0980707859833,1325.2398213105253,1345.674268621388,1361.7846978734024,1374.5091864554342,1385.0186631467534,1394.355189502632,1403.1341208148012,1411.3895269271175,1418.5970661323145,1423.8605711136502,1426.2127680535127,1424.9619798235967,1420.0107903330654,1412.0710220935393,1402.6978670790675,1394.070447154218,1388.4716417326258,1387.483225002211,1391.0179199018494,1396.437999741347,1398.1112854258306,1387.7619181427835,1355.8273993891767,1293.7268308407486,1196.5503386890719,1065.3477171399352,908.106533797371,738.7889820556111,574.4185273385732,430.96740240425976,319.3697655611206,243.07377880917636,198.0400868740286,175.16489530940845,164.15018018265414,157.29884902579226,151.83075605266004,150.02575173065458,157.4454291318237,180.21495108756932,222.55282641250227,285.40118639445507,366.37887739303767,460.70292227386415,562.454737535549,665.6526986648156,764.8912519945284,855.6070016064325,934.1805882135429],[1299.6619367157805,1324.764267808113,1345.167973133301,1361.2568209430108,1373.968717733037,1384.474094058684,1393.8144878431772,1402.604858832215,1410.8789578421038,1418.1119746443132,1423.4068230917796,1425.7946075254574,1424.5812183754201,1419.666076837464,1411.7573735630685,1402.406613850611,1393.789729454134,1388.187598037501,1387.1820048446566,1390.6885732407172,1396.0760818461804,1397.7226600590532,1387.365823043534,1355.4575353134787,1293.4292784957531,1196.377676317735,1065.3498107229098,908.319847608517,739.2274136419026,575.0691244815547,431.79345692108495,320.3217127404872,244.10561723655007,199.1266448867583,176.3142387208328,165.4064090366495,158.73334648072677,153.5237170111149,152.04315369341202,159.8182344163999,182.9266203652548,225.53847375638577,288.5579957504604,369.5841161951446,463.83413833353467,565.4069224161797,668.3489809435466,767.2861638410885,857.6835707611034,935.9437767318329],[1299.215321872269,1324.2772943640557,1344.6494950619585,1360.7161585038748,1373.4149819282275,1383.9158502492637,1393.2597354967165,1402.0611766869752,1410.353603995789,1417.6117602145519,1422.9376780796651,1425.3608821936587,1424.1848630308707,1419.3058886457816,1411.4284950093897,1402.1004431033982,1393.494389797515,1387.8891189391527,1386.8663589916632,1390.3446287376337,1395.6993059908823,1397.3190413540628,1386.9550453459474,1355.0741267108183,1293.1205035299208,1196.1975264542132,1065.3495776240775,908.5371734899802,739.676893135036,575.7378869343206,432.6442686645297,321.30402545879383,245.1722245606161,200.2511897359122,177.50378484140037,166.70427922673701,160.2102986057107,155.25933971282763,154.10271736570252,162.23184465329985,185.6767733202219,228.55932148691636,291.7458941337625,372.8157436592785,466.98674407446606,568.3754863671579,671.0568671316527,769.6883337274819,859.7636245069117,937.7073477740182]],\"zauto\":true,\"zmax\":1431.4980101095944,\"zmin\":-1431.4980101095944,\"type\":\"contour\"},{\"autocolorscale\":false,\"autocontour\":true,\"colorbar\":{\"tickfont\":{\"size\":8},\"ticksuffix\":\"\",\"x\":1,\"y\":0.5},\"colorscale\":[[0.0,\"rgb(255,247,251)\"],[0.14285714285714285,\"rgb(236,231,242)\"],[0.2857142857142857,\"rgb(208,209,230)\"],[0.42857142857142855,\"rgb(166,189,219)\"],[0.5714285714285714,\"rgb(116,169,207)\"],[0.7142857142857143,\"rgb(54,144,192)\"],[0.8571428571428571,\"rgb(5,112,176)\"],[1.0,\"rgb(3,78,123)\"]],\"contours\":{\"coloring\":\"heatmap\"},\"hoverinfo\":\"x+y+z\",\"ncontours\":25,\"x\":[1e-06,1.3011511650442548e-06,1.6929943542960217e-06,2.2028415765056147e-06,2.866229883678204e-06,3.729398352432554e-06,4.852511011181743e-06,6.3138503555892e-06,8.215273746089953e-06,1.0689313005882422e-05,1.390841207112662e-05,1.809694657026198e-05,2.354686311364001e-05,3.063802837345029e-05,3.986470631277378e-05,5.1870009063012666e-05,6.749072272319499e-05,8.781563250096393e-05,0.00011426141253772723,0.00014867137004306603,0.00019344392634026088,0.0002516997901283655,0.0003274994751669172,0.00042612632366481585,0.0005544547624925005,0.0007214294601814526,0.000938688782612345,0.0012213760031100258,0.0015891948094037057,0.002067782677737912,0.002690497840197013,0.0035007443993213955,0.004554997653699184,0.005926740503884541,0.007711585311544345,0.010033938212454076,0.01305567039511669,0.01698740074503987,0.02210317627048227,0.028759573555516532,0.03742055263793628,0.04868979566145066,0.06335278435066323,0.0824315491666629,0.10725590623460621,0.13955614735503497,0.18158364372009145,0.23626776957937787,0.3074200836506151,0.39999999999999997],\"xaxis\":\"x2\",\"y\":[1e-05,3.020408163265306e-05,5.040816326530612e-05,7.061224489795919e-05,9.081632653061225e-05,0.00011102040816326532,0.00013122448979591839,0.00015142857142857143,0.0001716326530612245,0.00019183673469387756,0.00021204081632653063,0.00023224489795918368,0.00025244897959183674,0.0002726530612244898,0.0002928571428571429,0.00031306122448979595,0.000333265306122449,0.0003534693877551021,0.00037367346938775516,0.0003938775510204082,0.0004140816326530613,0.0004342857142857143,0.0004544897959183674,0.00047469387755102045,0.0004948979591836735,0.0005151020408163266,0.0005353061224489796,0.0005555102040816327,0.0005757142857142857,0.0005959183673469389,0.0006161224489795919,0.000636326530612245,0.000656530612244898,0.000676734693877551,0.0006969387755102042,0.0007171428571428572,0.0007373469387755103,0.0007575510204081633,0.0007777551020408164,0.0007979591836734694,0.0008181632653061226,0.0008383673469387756,0.0008585714285714286,0.0008787755102040817,0.0008989795918367347,0.0009191836734693879,0.0009393877551020409,0.000959591836734694,0.000979795918367347,0.001],\"yaxis\":\"y2\",\"z\":[[357.9622518288141,343.0945876626033,332.6091747300269,320.9744186213479,301.6361851679579,270.2029364827256,226.7124326565872,177.283687688287,136.4757160436069,125.499742299313,146.58567546257706,177.92178502819908,205.07448278525527,225.72878764308845,244.14114749224092,265.79651686819375,292.63191291997543,321.46814086940316,346.18248445657093,360.75099015250015,361.1640061963475,346.1825072578899,317.38248484099904,278.7097413524888,235.56546719423673,193.42049881680225,156.20253413445425,125.29260331045015,100.27693987027367,81.20556390678826,69.60516491133679,65.55748886140798,64.87963272391,62.55242302945767,56.70968106843009,48.925186207889446,42.58699460816531,40.653173635662085,44.52460460936549,54.953811714481425,71.5654798176778,91.55663062998727,110.44655687047141,123.87425584402867,129.35552607295548,127.72477931357741,123.99627153875778,126.5793863343762,142.72473963369305,173.37729276430076],[357.8468631889656,342.9748648289301,332.5004744827558,320.8906386790641,301.5874441286826,270.1953218968805,226.7454598394209,177.3363476487749,136.4636474584877,125.26233150751159,146.06390029079523,177.14615165911724,204.07470735122303,224.5572703806858,242.89893614535154,264.6181829131687,291.6291257024899,320.68842007514235,345.6163752720698,360.35956293936164,360.8994134161136,345.99759216347366,317.2339216893573,278.5591772196799,235.38210904095038,193.18726982479336,155.92387376369297,124.99485509434929,99.9929985218633,80.95153918539006,69.367022723611,65.30191654401466,64.5806407131734,62.20071718366852,56.306071388957164,48.473316684648914,42.081362659712084,40.05420302047959,43.76593772558281,54.0207888121434,70.51176725853176,90.43475853561206,109.27060597013478,122.62008351450142,127.9738806904652,126.17109753515932,122.29736407675496,124.91553065970307,141.35112285601846,172.4004229077766],[357.7451287539091,342.8706052733405,332.4085918164199,320.8252581003477,301.55990081098895,270.21402399314684,226.81356647259182,177.4380720079948,136.51844009230135,125.09715619862702,145.59971148932107,176.4125036585479,203.10621383695107,223.41007646490462,241.6766515628455,263.45706789833906,290.6415784940729,319.922134177195,345.0622385578427,359.97946240176645,360.6467352291852,345.82670489823767,317.10323746356227,278.432262193875,235.23023673481535,192.99545050112388,155.69838358512067,124.7633278793903,99.7886241950181,80.78769950018699,69.21972588000696,65.12329773578391,64.3378705476618,61.886579665374775,55.92632957970788,48.03716895810836,41.589302412929214,39.47073506843526,43.02343607136429,53.10192715679929,69.47098882871283,89.3266177600006,108.11075659208699,121.38548992689262,126.615899486027,124.64507472952373,120.62981264387538,123.28773171663889,140.01720509141887,171.4609129239272],[357.65708469084313,342.7818482193629,332.33356278521177,320.7783037956568,301.5535674308121,270.2590322503455,226.91670322279606,177.5887486843479,136.6399927929101,125.00452922687688,145.19375660996323,175.72152543655548,202.16966577362328,222.28783896856635,240.4748727382509,262.3136627678078,289.6696505329904,319.16955322664364,344.5202571629612,359.61080985185936,360.40605289813203,345.6699035540497,316.990481933193,278.32905445928395,235.10994050322637,192.84519711897323,155.52632241571536,124.59839277994293,99.6642500960993,80.71443822820672,69.163567294621,65.02185234924183,64.15144200843758,61.60996240093594,55.57019367260793,47.61626945637077,41.11026595079048,38.902429474364645,42.297080564079174,52.19736347796362,68.44336204827793,88.23252736295127,106.96745846266057,120.17110330297552,125.28246757224817,123.14794402595585,118.99521642190517,121.69774476609194,138.72439834031368,170.55957174099152],[357.5827623357579,342.7086270970995,332.27541685681655,320.74979508368267,301.5684466291404,270.3303221497918,227.05479621621623,177.78821379757122,136.82809118761475,124.98462147239647,144.8466071575735,175.07387127585133,201.26571631450034,221.191189248268,239.29417987365815,261.18845910715845,288.71371999875555,318.43094503251496,343.9906111832018,359.2537235323608,360.1774440596005,345.52724143189766,316.8956977981494,278.24960077716105,235.02129078615434,192.73663011394666,155.40788330164938,124.50030204225706,99.62010353144065,80.73183046141655,69.19846985385098,64.99752366318918,64.02133357422325,61.37076280894847,55.237389088171334,47.210146564274744,40.64370753851465,38.34894895381516,41.58686678149515,51.30725722342552,67.42912627655669,87.15282555779582,105.84117827322575,118.97756876118245,123.97449170981177,121.68097358226214,117.39522797901921,120.14737274133864,137.47412140226453,169.69719153248877],[357.5221881669519,342.6509695119987,332.23417688278215,320.73974367021594,301.6045314687135,270.42785521553805,227.22774721891935,178.03625235454862,137.082409243943,125.03746032476703,144.5587551835959,174.4701630704124,200.39500686495947,220.1207560824824,238.13515380205936,260.0819487208599,287.77416370352705,317.7065749543236,343.4734778290193,358.90831853186234,359.9609826664464,345.3987669969675,316.8189206438192,278.1939364182695,234.96433808459014,192.6698336797683,155.34319249264874,124.46918693037027,99.65620286448559,80.8396308629473,69.32398616398439,65.04997716750508,63.947380962124335,61.16882368794061,54.92762999039561,46.81833293180441,40.189086293171336,37.8099616261679,40.89280699217816,50.431792676483546,66.42854429009876,86.08787061279617,104.73240001338023,117.80554815144892,122.69289966707416,120.24546562943715,115.83155214836661,118.63846346662967,136.26779576058857,168.87454540055066],[357.4753837826111,342.6088972190203,332.2098590755022,320.74815363533975,301.6618054428692,270.5515790774145,227.43543387586988,178.33259914338095,137.402511631322,125.16292941757183,144.3306102972595,173.9109881132709,199.55816568519757,219.07716477200665,236.99837537893447,258.994623190424,286.85135677463137,316.99670569205597,342.96903129379285,358.5747067016211,359.7567389323037,345.28452383768956,316.7601789037276,278.1620851119587,234.93911285148994,192.6448554830079,155.33230875912065,124.50505657423825,99.77235697818035,81.03727688942041,69.53930554813178,65.17860431275666,63.9292775203118,61.00393358579859,54.64062072987868,46.44036781095243,39.745868914310236,37.28514351723841,40.21493227369422,49.571181166679125,65.44190391193783,85.03804174661563,103.64162525520726,116.65571979465042,121.43863940095784,118.84275517643533,114.30594432945294,117.17290614337003,135.10684107619176,168.09238501903837],[357.44236588248526,342.5824261022359,332.20247299186605,320.7750214289724,301.7402424965109,270.70142755658406,227.6777100071345,178.67693982678028,137.78785684293268,125.360769619617,144.16249713674202,173.39689695062032,198.75580647103104,218.06103620403647,235.8844248431921,257.92697341344723,285.9456723285113,316.3015970738695,342.47744262253195,358.25299657397915,359.56477927867417,345.18455062883294,316.71949382975856,278.15405901204093,234.9456254257977,192.66170649914915,155.37522306070107,124.60779780282132,99.96816726068883,81.32389726277789,69.84326799528907,65.38253103584336,63.96657647865276,60.87582765425108,54.37605736360299,46.07579940847922,39.31353246519791,36.774181174206305,39.55329471086547,48.72566336819089,64.46951968678972,84.00374001081012,102.56937338085844,115.52877811718288,120.21267804351413,117.47420833946683,112.82020813909762,115.75262703712588,133.9926702955091,167.35143824991897],[357.42314625371097,342.571566159927,332.2120215236195,320.82033587478156,301.83980705912944,270.87732077330213,227.95440595956833,179.06891222408916,138.2378010248707,125.63058126246865,144.0546533369383,172.92840131964653,197.9885269187142,217.0729858814489,234.793881147731,256.8794891237439,285.05748113641926,315.6215058417766,341.99887958121946,357.9432932825222,359.38516628462287,345.0988810987181,316.69687947002353,278.1698586795789,234.98386600989377,192.72036097137146,155.4718585705428,124.77717596598366,100.24303206092212,81.6983253727602,70.23438445725438,65.66063074022216,64.05869500736273,60.78418898176484,54.13362923875934,45.724187242627316,38.89156719500063,36.27677438527122,38.90796966360577,47.89551167745431,63.51173459527054,82.98538915123073,101.51618174508094,114.42543317128471,119.01600067893628,116.14122026032435,111.37619233754296,114.37958430286231,132.92668438428123,166.65240674760952],[357.41773176078914,342.5763214951909,332.2385008944485,320.88407818245565,301.96045408979757,271.07916527646387,228.26532901198536,179.50810776955547,138.75160244912482,125.97182755870507,144.00722802387025,172.50597218746626,197.25690728026504,216.11362291923194,233.7273212600916,255.85265839290543,284.18715128222897,314.95668543561777,341.53350652698487,357.6456984840955,359.21795863915696,345.0275440006029,316.6923426544277,278.209473082649,235.05380469059222,192.82075649239084,155.62207105518522,125.01283673013691,100.59615349152138,82.15911711061005,70.71086262957405,66.01154123922946,64.20491997979946,60.72865038856868,53.9130206272603,45.38510449217583,38.47947939301784,35.79263899537757,38.27905809125711,47.08103265828135,62.56892179803716,81.98343643895532,100.48260576370816,113.34641003138873,117.84960889591478,114.84521257878114,109.97578695552173,113.05576189247883,131.91026670628082,165.99596356712559],[357.42612433974386,342.59669031208114,332.2819006637941,320.96622196829475,302.10212913398044,271.3068541944319,228.61026383148317,179.99407313301603,139.32842655797887,126.38383914153972,144.0202808582049,172.13003790824868,196.56150891615633,215.18354901031586,232.68531943383311,254.84696711368457,283.3350478127891,314.30738577563255,341.08148427929996,357.3603102827946,359.06321109636673,344.97056308830446,316.7058829879768,278.2728796130862,235.15539150358708,192.96279420874765,155.82564960539315,125.31430881407834,101.02654639409748,82.70457248728285,71.27063715843454,66.43368503457518,64.40441528704737,60.70879665833272,53.71391239669567,45.05814032659013,38.07679426702786,35.321509808586626,37.666688916975595,46.282569538999624,61.641486398673266,80.99835346028985,99.46921891870686,112.29244805706946,116.71451910141523,113.58763042600405,108.62091855092349,111.78316249864109,130.94477707430835,165.3827507928593],[357.44832099647857,342.6326649173019,332.3422037374018,321.06673328408846,302.26476839203275,271.56026740660184,228.98897297841643,180.52631198801214,139.9673515008931,126.86581963556013,144.09378164245445,171.8009825151463,195.90287285274286,214.2833573634343,231.66844645150678,253.86289846573865,282.501532381283,313.6738530439518,340.64296999238957,357.0872231560446,358.920974433399,344.9279570960951,316.7374928518314,278.36004412014836,235.28855654102475,193.1463391459256,156.08231770900233,125.68100761417644,101.53304922783948,83.33276028372215,71.91140309751516,66.92529220741275,64.65623051088306,60.72416717237652,53.53598370332236,44.74290220691772,37.683058838851395,34.86314356662393,37.07102141197268,45.50050474162929,60.729867211362965,80.03063685394967,98.47661266978884,111.26430001315582,115.6117605828472,112.36993890854579,107.3135445289461,110.56379950208047,130.03154550930356,164.81337720565173],[357.48431380931856,342.6842317274286,332.4193863845585,321.18557065418264,302.4482987991395,271.839271735021,229.4011974571626,181.10428691128,140.66737408012852,127.41685215018462,144.2276104977979,171.51914416276884,195.2815183520841,213.41363161598719,230.67726884028272,252.90093236437238,281.68696288411405,313.0563294653631,340.2181170290566,356.82652788288215,358.7912954113315,344.8997397229176,316.7871574121185,278.470920960992,235.45321010164724,193.3712206517356,156.39173465262908,126.11223965244301,102.11433660009804,84.04154492039517,72.63065139911922,67.48442514961222,64.95931073014059,60.77425890495846,53.37891369233057,44.43901814735885,37.297844851221036,34.4173219922647,36.49224757537489,44.73526241758189,59.83453851632711,79.08080898207297,97.50539626217046,110.26273103810249,114.54237330731154,111.19361905660101,106.05564646815951,109.39968790643594,129.17186575231372,164.28841600637804],[357.53408993574914,342.7513712816669,332.5134182620054,321.32268512067316,302.65263811651556,272.1437211553863,229.84665730976062,181.72742139699213,141.42741601919062,128.0359065735363,144.42155860804942,171.28481373503882,194.69794150221557,212.57494472525275,229.71234806154888,251.9615448930326,280.8916930918717,312.45505308769384,339.8070748361191,356.5783114745508,358.6742167390125,344.8859196209427,316.8548546364683,278.6054530677839,235.64924288274543,193.6372329544729,156.75349723527273,126.60720776759888,102.76893312793568,84.82861471842124,73.42570525713809,68.10900435744747,65.31250721448644,60.85852973196656,53.24238319072243,44.146138928322166,36.92075168113473,33.983854884783845,35.930594480489745,43.9873109585491,58.95601178273558,78.14941852043621,96.55619641985618,109.28851745220571,113.50740544874961,110.06016321566504,104.84922240705792,108.29283426547146,128.36698858309097,163.80840261476507],[357.5976316233263,342.8340582600993,332.624262444447,321.4780202965866,302.8776950335646,272.4734570266074,230.32505224918856,182.39510196851415,142.24633046762418,128.72184753400492,144.67532951956244,171.09823363184762,194.1526138360892,211.76785784162303,228.77423967599367,251.04520772043188,280.11607227500417,311.8702575621946,339.4099888216629,356.3426571075184,358.56977703992527,344.8865003884971,316.9405553182437,278.7635720312201,235.87652621294723,193.94413583147426,157.16714177331144,127.16501695837563,103.49522830325894,85.69151075150168,74.29375621435403,68.7968345445401,65.7145887494773,60.97640200065835,53.12607637839046,43.86394025226892,36.551409255703085,33.56258325362102,35.38632655336701,43.25716544387485,58.09483733479052,77.237040951535,95.62965691340915,108.34244539813724,112.50791063645298,108.97106986782674,103.69627806192427,107.24522563203271,127.61811500784584,163.3738325622293],[357.674916224753,342.9322615074052,332.75187546161453,321.65151242694697,303.12336928073773,272.8283083381225,230.8360623290064,183.10668037036754,143.12290865747894,129.47344289101565,144.98854097776885,170.95959674651715,193.6459809876248,210.99291916791205,227.86349248595968,250.15238750330278,279.36044482484215,311.3021719242951,339.0270002343095,356.1196440590234,358.47801082213005,344.9014805673721,317.04422310840096,278.9451982001751,236.1349123246603,194.29165538291437,157.63214637336335,127.78468078018783,104.29149203083068,86.62765554979902,75.23189908762676,69.54563039827805,66.16425333724825,61.127266304906094,53.029682423480615,43.59212483411002,36.18948096743437,33.15338247435225,34.85974774357804,42.54538997798027,57.25160593255492,76.34427894281316,94.72643799125959,107.42530930733689,111.5449449215407,107.92783787753295,102.59881696712526,106.25881758607935,126.9263893870346,162.9851594975018],[357.7659162170722,343.04594406197884,332.8962073417692,321.8430904575457,303.3895517527449,273.2080919740753,231.37934864592495,183.8614758230402,144.05588663001308,130.28937261445284,145.36072727326876,170.86904564430623,193.17846139339312,210.25066280910767,226.9806476570782,249.2835452759069,278.62514987069545,310.7510203751377,338.6582460447025,355.90934764525264,358.3989484513368,344.93085364451787,317.16581455490433,279.1502407971352,236.42423466480759,194.67948490491386,158.14793344689852,128.46512819113775,105.15589051722012,87.63438100556735,76.23716493491733,70.35304139544178,66.66014002709814,61.310485408895,52.95289706864506,43.33042441862443,35.834666586339786,32.75616544939361,34.35120354119166,41.852599862506985,56.42695023438955,75.47176259080524,93.84721566360652,106.53791018703619,110.6195634616866,106.93196016670841,101.55882955343505,105.3355214299261,126.29289258131264,162.64279332326234],[357.87059922497104,343.17506319041536,333.05720166158324,322.05267611128454,303.676124641802,273.61261299338395,231.95455407175783,184.65877732352752,145.04395195603394,131.16823791408547,145.79134206332202,170.82667195027463,192.75044504841125,209.5416076172502,226.12623782145187,248.43913582755576,277.91052089376973,310.21702206428665,338.3038588294147,355.71183916225107,358.3326161271499,344.97460805812165,317.30527914960055,279.37859804903536,236.7443082423104,195.10728585539695,158.71387243848298,129.20521074102075,106.08650220778861,88.70895493664871,77.30655147166242,71.21667519916589,67.2008406484051,61.52539826218908,52.895424155802544,43.07860171738824,35.486705166740784,32.370885753282984,33.86108278762912,41.17946353831006,55.62154610293911,74.62014951054893,92.99268082824936,105.68105372449533,109.73281692880148,105.9849168365165,100.57828120936989,104.477190672461,125.71863520049702,162.34709848157297],[357.9889280481238,343.31957042726543,333.2347956022585,322.28018397187554,303.9829615805209,274.0416649247761,232.56130401123716,185.4978459750397,146.08575037945326,132.1085704858393,146.279761628629,170.8325159528261,192.3622923245142,208.86625603644052,225.3007861648999,247.61960706952212,277.216885338699,309.7003908740347,337.96396665747756,355.52718582965935,358.27903586252614,345.03272720805825,317.46255938244167,279.63015733306094,237.09493001061108,195.57468890554912,159.32928273801662,130.00370999741162,107.08133349639817,89.84860587877353,78.43705052600643,72.13411927168187,67.78491124259652,61.77132405048874,52.856977077716756,42.836452258303254,35.1453779466996,31.99754073960264,33.389819221502854,40.52670422206372,54.83611371123584,73.79012474828548,92.16353822822725,104.85554820678416,108.88574764907824,105.08816776581628,99.6590994024495,103.68560695778947,125.20455104471888,162.09839240463978],[358.12086069254815,343.47941162000245,333.4289200117786,322.5255215747196,304.3099277940649,274.4950300757159,233.19920718203844,186.37791732981316,147.17989232042825,133.1088417497956,146.8252885199994,170.88656642697285,192.0143328594669,208.22509295321615,224.50480550101207,246.82539939285277,276.5445642235502,309.2013352057277,337.63869297973406,355.35545073737285,358.2382254664817,345.105189470692,317.6375908029222,279.90479533692996,237.47587928338024,196.0812950692749,159.99343674643703,130.85934510592824,108.13833396606557,91.0505457932599,79.62567229206117,73.10296044804197,68.41088301976285,62.047566229153276,52.83728014600936,42.60380614060269,34.81051123741301,31.63617458315818,32.93789269425378,39.89510115202373,54.071418400253016,72.982400494476,91.36050523190343,104.0622022567778,108.07938549009425,104.24314473152151,98.80315997345964,102.96246562820527,124.75149083037176,161.89694414646044],[358.26635040589935,343.65452697908785,333.6394994731426,322.7885895047343,304.65688026115316,274.9724798542281,233.86785641347865,187.298203729921,148.32495918228437,134.16747196568969,147.42715554568818,170.98876067923482,191.70686452481002,207.61858455778628,223.73879733501573,246.05694501871147,275.89387174917056,308.72005776854303,337.32815652121093,355.1966927952099,358.2101985300747,345.191968218003,317.8303020885873,280.20237823313414,237.88691818142405,196.62667690264445,160.7055630639433,131.7707803869196,109.25541095645654,92.3119904865009,80.86946628946737,74.12080231916553,69.07727269667875,62.35341649038455,52.83606986618733,42.3805296883616,34.4819792995178,31.286881227262402,32.50582998465543,39.28549034675403,53.328271233678564,72.1977155732459,90.584310427208,103.30182238844935,107.31474351542283,103.45124311130155,98.01227275385253,102.30936114298916,124.36021629405124,161.74297320915932],[358.4253457166616,343.8448511330606,333.86645237845426,323.06928150091534,305.02366788348246,275.4737751025154,234.56682946028153,188.25789663176772,149.51950941422578,135.2828391238833,148.08453004720505,171.1389848136639,191.44015247992763,207.04717722181388,223.00325092067075,245.31466734301014,275.26511490881256,308.25675537115916,337.03247117670844,355.05096668567364,358.19496441568793,345.2930318410014,318.0406151204513,280.52276186656434,238.32779210868637,197.21037976507083,161.46484976994307,132.73663287782966,110.43044329327853,93.6301776369043,82.16553906185858,75.18528036378841,69.78259210516285,62.68815861956149,52.85309611153135,42.16652699519327,34.15970720154526,30.949807201302367,32.0942051361908,38.698764770934694,52.60752919050444,71.43683468392483,89.83569202311399,102.5752103874832,106.59281343315153,102.71381324552036,97.28816669477169,101.72777260305813,124.03139476658866,161.63664857620554],[358.5977904771382,344.05031318850973,334.109691008675,323.3674845673664,305.4101316631148,275.9986664413102,235.29568982794225,189.25616890113074,150.76208429006775,136.45328752353188,148.79651840986233,171.3370742163367,191.21442831943597,206.5112963985833,222.29864231364348,244.59898027720612,274.65859309898775,307.8116187167545,336.75174590979975,354.91832281988724,358.19252824963127,345.40834377738514,318.26844506514266,280.86579195492936,238.79823025514062,197.8319231337624,162.27044776455628,133.7554797390095,111.66129405396019,95.00238241053192,83.5110687445718,76.29407484581121,70.52535699079222,63.051072201683155,52.88812318897569,41.96174135256663,33.84367365405429,30.62515426886437,31.703639237747232,38.13587379393921,51.91009493136445,70.7005473703207,89.11539605312562,101.88316052611833,105.91456087091905,102.03215155123118,96.63247473257779,101.21904965379441,123.76559430530045,161.57808796262094],[358.7836239101897,344.2708367948371,334.36912161890035,323.6830790905666,305.81610488738056,276.5468946238438,236.05398760624055,190.29217706664593,152.05121337113044,137.6771359637434,149.56217075370753,171.58281425333482,191.02988932035296,206.01134555149198,221.62543342499967,243.91028758723456,274.07459773254953,307.384832201789,336.48608465542657,354.7988072967772,358.2028909180732,345.53786254339013,318.51370046358994,281.2313043013224,239.2979461243044,198.49080196290384,163.12147414252584,134.82586545017529,112.9458222814228,96.42593071715139,84.90331670382751,77.444921555084,71.3040949514471,63.441436144489316,52.940930791306926,41.766156553500146,33.53391381045276,30.313181860974115,31.334799566756104,37.59782182062466,51.23691607060142,69.9896666938752,88.42417437767338,101.22645662446428,105.2809205161428,101.40749149662986,96.04671864923482,100.78439905343654,123.56327946639755,161.567357290112],[358.98278065962137,344.5063402136642,334.6446445289563,324.01593896258316,306.2414133208022,277.1181908983479,236.84126030759754,191.3650635208812,153.38541962916062,138.95268548785677,150.38048575111895,171.87594117511955,190.8866977948433,205.54770511685675,220.98407107864293,243.2489822326799,273.5134118550228,306.9765737190106,336.23558622627974,354.692461865574,358.22604906631176,345.68154176977083,318.7762833260388,281.61912501827203,239.82663808302175,199.18648807905439,164.017015571866,135.94630873492818,114.2818935924031,97.89821021341471,86.33963649795881,78.63562051611987,72.11735249159891,63.858531990800955,53.011314831222286,41.57979806276608,33.23052202200377,30.014209243066514,30.988398014755045,37.08566597122946,50.58898388347857,69.30502758806588,87.76278248474635,100.60586897402149,104.69279116633037,100.8409945586738,95.532294213816,100.42487220025497,123.42480779084276,161.604470392743],[359.19519084414344,344.7567363927606,334.9361542191422,324.365931709978,306.6858754035847,277.7122773779853,237.65703370707533,192.47395865935093,154.76322421237643,140.27822663489604,151.25041551885758,172.21614321825024,190.7849805536327,205.1207315070456,220.37498607670764,242.61544570835983,272.9753097652307,306.5870144651331,336.00034422313865,354.59932389169506,358.2619951013837,345.8393302418473,319.05608923318334,282.0290707625915,240.38398993113978,199.91843160431543,164.9561316513033,137.11530916111116,115.66738965770199,99.41667920021625,87.81748043899518,79.86404282164628,72.96370119119152,64.30164699861506,53.09908815414562,41.40273404403841,32.933654530637966,29.728617357980838,30.665188720072052,36.600512688795106,49.96733137687606,68.64748487323827,87.13197709078683,100.02215114247709,104.15103073979456,100.33374129860282,95.09045691152816,100.14135390699079,123.35042706602837,161.6893889563005],[359.4207801147976,345.021933044336,335.2435394309033,324.73291862808986,307.1493024561394,278.3288674171062,238.50082268094906,193.6179829490479,156.18315084437305,141.6520461654258,152.1708705347682,172.60306189345874,190.72482848429775,204.73075615984558,219.79859227702028,242.01004739059368,272.4605566412853,306.21631875363556,335.78044694934994,354.5194263260688,358.31071719800843,346.01117194354197,319.3530074431803,282.46094898030384,240.9696714886606,200.68606239902073,165.93785822258587,138.33135337517783,117.10021655833985,100.97887358836475,89.33440404412022,81.12813576795762,73.84174300748123,64.77007697310158,53.204081127735336,41.235076233249195,32.64353207809446,29.456850280888847,30.36596484118326,36.143513160891324,49.37303065332274,68.0179109140037,86.53251354714969,99.47603668257138,103.6564513022636,99.88672269946015,94.72230857713136,99.93455269507616,123.34027341275325,161.8220226919889],[359.6594697157598,345.3018327275561,335.56668327223866,325.1167549204276,307.63149888918275,278.9676659927705,239.37213204096733,194.7962489193472,157.64372985171184,143.0724332413357,153.14072453254263,173.03629344755748,190.70629624783373,204.37808463990643,219.2552856868948,241.4331438905005,271.9694081730239,305.86464383311693,335.57597732960375,354.4527976779516,358.3721993078558,346.19700610532476,319.6669210043064,282.91455816091826,241.5833391979571,201.48879151595298,166.96121061597515,139.59292093875104,118.57831204382455,102.58241212234604,90.8880686643657,82.42592647881676,74.75011474360842,65.26312884021446,53.326142107171925,41.07698064663579,32.36044240414071,29.199416215997832,30.09155441739888,35.7158574572682,48.807189502109814,67.41719290497286,85.96514306082972,98.96823577109957,103.20981416899282,99.50083191549513,94.42878524876024,99.80499285379993,123.39437023248234,162.0022297425398],[359.91117654841673,345.59633293512275,335.90546332762614,325.51728984285273,308.13226241888253,279.62837009044165,240.2704573615264,196.00786306924672,159.1435018212065,144.53768504996998,154.15881933156427,173.5153904851066,190.72940209588327,204.06299579787108,218.7454435775729,240.88507841673405,271.5021102019974,305.5321397116495,335.387012833179,354.39946199128707,358.4464211721246,346.3967672559811,319.9977068730055,283.3896881003103,242.22463673863788,202.32601265839412,168.02518680955205,140.89848974502985,120.09965173651442,104.22500005810076,92.47624256626368,83.75552420587297,75.68749172973867,65.7801229565691,53.46513777648883,40.9286481108266,32.08474259986358,28.95688795949138,29.842815282587036,35.318767309234794,48.27094715883246,66.84622977534961,85.43060974177999,98.49943180753104,102.81182514536995,99.17685658521911,94.21064654502635,99.75300847158394,123.51262803443393,162.22981731646246],[360.1758132385945,345.905326183747,336.2597517722364,325.93436685224964,308.65138428655507,280.3106690928436,241.19528579724536,197.25192768622534,160.6810208927161,146.04611187292227,155.2239695632664,174.039863734701,190.79412781014858,203.78574099258782,218.26942362368615,240.36618015009861,271.05889837009335,305.21894898755284,335.2136254018006,354.3594388246471,358.5333583374067,346.6103852781033,320.3452360370668,283.886120171446,242.89319565267942,203.19710363471475,169.1287704854109,142.24654100140788,121.66225433961586,105.90443148939345,94.09680072370658,85.11512148867874,76.65259077112363,66.32039515473608,53.62095336705515,40.790324601268075,31.816861274440203,28.729902748822482,29.620629021991657,34.95348749010765,47.76546918617833,66.30592870885397,84.9296474933042,98.07027800462524,102.46312997066218,98.91547185658531,94.06846684158171,99.77873959845776,123.69484514543784,162.5045425435477],[360.4532882068429,346.228700108357,336.62941549021957,326.36782375937344,309.1886494824097,281.01424517092545,242.1460968885032,198.52754257291627,162.25485769690178,147.59604160790659,156.3349672596701,174.60918394369497,190.90041876442743,203.5465433814989,217.82756307213492,239.87676363254815,270.63999777791497,304.92520668701263,335.05588138226153,354.3327432347908,358.6329821748139,346.83778546720987,320.70937364366773,284.40362760219057,243.5886359774745,204.10142780262012,170.270933968279,143.63556377254164,123.26418591608957,107.61859051039487,95.74772355483587,86.50299434765301,77.6441724230878,66.88329852708694,53.79349275530162,40.66230137438803,31.55730048530809,28.519161416235256,29.42589399166657,34.6212757993036,47.291941444199004,65.79720128219115,84.46297676578963,97.68139400605368,102.16431003037226,98.71723426546049,94.0026284850557,99.88213064394215,123.9407092895154,162.82611354269804],[360.74350574164396,346.56633755985627,337.01431619682234,326.81749288555386,309.7438369728382,281.7387736759809,243.1223633528073,199.83380667903714,163.86360195082094,149.18582375930686,157.4905862746992,175.2227838845562,191.04818410879142,203.345597283904,217.42017794472667,239.41712817304835,270.2456226539981,304.65104010894976,334.91384146394245,354.3193857638699,358.74525990233246,347.07888859438407,321.089979132002,284.9419757594323,244.31056688450636,205.03833549664364,171.45064103449513,145.0640590850373,124.90356331208461,109.36545139100465,97.42709481399044,87.91750167053732,78.66104265595249,67.4682049546716,53.982678442648364,40.54491487796952,31.30663737265721,28.325426764266524,29.259517455006307,34.32339170644049,46.85156313907704,65.3209592333276,84.0313011983966,97.3333625680716,101.91587840143927,98.58257659537843,94.01331723170861,100.06293105377901,124.24980000784716,163.19419069084208],[361.04636607543006,346.9181167062599,337.41431056410426,327.2832012229442,310.3167199307538,282.48392353194436,244.12355185996518,201.16981963685066,165.50586472662644,150.81383291847823,158.6895865134068,175.88006045560846,191.2372970744085,203.18306762143573,217.04756227889573,238.98755727283353,269.8759760359526,304.39656867753433,334.78756062135443,354.3193724303014,358.87015461037026,347.3336109723187,321.4869063702179,285.500922438758,245.05858732142187,206.00716543297207,172.66684958166937,146.53054360086927,126.57855680184491,111.14307792787658,99.13309882363035,89.35708393840004,79.70205397377524,68.0745063903948,54.18845142135291,40.438546423685835,31.065525429570446,28.14952108451495,29.12240692898848,34.0610837731231,46.445538963999,64.8781098795694,83.63530417709937,97.02672634381311,101.71827629194415,98.51180382960827,94.10052003931133,100.32069824689792,124.62159187514585,163.6083880800024],[361.3617654632951,347.28391113702975,337.8292503500194,327.7647705979942,310.9070659684858,283.24935762695327,245.1491237892556,202.53468319936533,167.1802804105838,152.47847175924673,159.9307179489548,176.58037685871417,191.46759539653644,203.05908943953727,216.70998741067237,238.5883180725127,269.53124946459815,304.16190380272843,334.67708806183094,354.33270472332794,359.0076252904523,347.6018645246528,321.9000037963764,286.08021815891567,245.8322866553467,207.0072460862157,173.91851415158416,148.03355287165704,128.2873920320453,112.94962211886784,100.86401720642544,90.82026142169786,80.76610604993442,68.70161590806624,54.41077093057288,40.34362160524551,30.83469532951308,27.992322748155892,29.015460873429888,33.83557603832793,46.07507037537967,64.46955121510126,83.27564534143292,96.76198480947936,101.57186993275968,98.5050902846719,94.26402527471001,100.65480273211713,125.05545845471063,164.06827514776765],[361.6895962642536,347.6635899704118,338.2589825306082,328.2620178378231,311.51463737274736,284.0347332032998,246.1985359670253,203.92750258136118,168.8855083710994,154.17817357741131,161.212724411737,177.32306483656942,191.73888185232977,202.97376751328716,216.40770130396513,238.21966082349692,269.2116226921311,303.94714874921857,334.582467178467,354.3593796012696,359.15762686701777,347.8835568584778,322.3291145631458,286.67960646031133,246.63124531539006,208.03789703325225,175.20458830103087,149.57164418997627,130.02835134246916,114.78332229296211,102.61822525430003,92.30563196146979,81.85214594045149,69.34896853048842,54.64961410775543,40.260609445752436,30.61495522345619,27.85476180903094,28.939558896739126,33.648053623683744,45.74134608075606,64.09616672776146,82.9529570756886,96.53959137165562,101.47694797233622,98.56247798932117,94.50342533064756,101.0644352665567,125.55067692280078,164.57337846510717],[362.0297470249329,348.05701796359375,338.703349435063,328.7747549391743,312.1391913411925,284.83970224492987,247.2712413832563,205.34738770394392,170.62023435519805,155.91140440504898,162.53434713918344,178.10742695250246,192.05092490917215,202.9271760403073,216.1409279300165,237.88181838611803,268.9172634053351,303.7523985140865,334.5037355084116,354.39938949347544,359.3201102322656,348.17859133988577,322.77407668593446,287.2988242067942,247.45503543236006,209.0984302598438,176.52402681725223,151.14339905706663,131.79977453737746,116.64250081203159,104.39418804979626,93.81186843561558,82.9591679326693,70.01602185114965,54.90497554080752,40.19002125825387,30.407190410766493,27.73781457748011,28.895551689250276,33.49964788323469,45.445531850476534,63.75881998510606,82.66784102323986,96.35995069414652,101.43371941883518,98.68387634544996,94.81812157697493,101.54861586687716,126.10643328351594,165.12318366435935],[362.38210256556465,348.4640556255019,339.16218888343144,329.30278923965125,312.78048022012223,285.6639118617003,248.36668988591606,206.79345434409618,172.38317163349313,157.67666473190133,163.89432807885692,178.93273889625084,192.40345947848192,202.91935842291443,215.90986670067338,237.57500575678765,268.648326964809,303.5777397135398,334.4409246965949,354.4527223059674,359.4950222839925,348.48686717243163,323.2347231941724,287.9376018899991,248.303221473835,210.18815142623967,177.87578777645513,152.74742528867583,133.60005917826692,118.52556144572216,106.19045643557479,95.33771599616915,84.08621308316685,70.7022564647094,55.17686672707238,40.132409204403984,30.212362280753243,27.642497146437183,28.884250926583324,33.39142148271935,45.18875980216011,63.458349050167165,82.4208646651343,96.22341628093393,101.44231216457278,98.86906307810818,95.20733150648711,102.10620444214709,126.7218280881027,165.71713748939263],[362.7465440681329,348.88455933202084,339.6353343266896,329.8459235908896,313.43825174284694,286.5070046696401,249.48432885201714,208.2648251911502,174.17306191367922,159.47249086648233,165.29141294096144,179.79825179977828,192.79618776913418,202.95032714104966,215.71469195885177,237.29941962638304,268.40495616114987,303.4232504790169,334.3940604649707,354.5193614307689,359.6823059663599,348.80827947837844,323.71088228545045,288.5956639355333,249.1753608728365,211.30636108852275,179.258834445499,154.3823587824364,135.4276604642102,120.4309865065978,108.00566291061865,96.8819891502646,85.232368494406,71.40717622205923,55.46531544551846,40.08836453796636,30.03150641795811,27.569857880357635,28.906419408444265,33.324353840576684,44.97211734336418,63.19556079681508,82.21255800557479,96.13028834925686,101.50277211832656,99.11768645229819,95.67009787786756,102.73591278544265,127.39588256786757,166.35464994933795],[363.12294916655867,349.31838144347756,340.1226149889713,330.4039565333954,314.1122492683145,287.3686191665219,250.62360383455155,209.760630812694,175.98867604247408,161.2974559695629,166.72435399972414,180.70319454810613,193.22878023404053,203.0200637168756,215.5555525292746,237.0552379720095,268.1872809889611,303.2890003629344,334.3631625873342,354.5992857589012,359.88190031352354,349.1427193825822,324.2023774822141,289.2727290103056,250.07100464846243,212.45235587297773,180.67213702828886,156.04686497115534,137.28109076102376,122.35733381963857,109.83851751663993,98.4435687458002,86.39676637519585,72.13030832571624,55.77036504890766,40.05851552199394,29.865729763277827,27.52096891187666,28.962761709346807,33.299327389888596,44.796635990607555,62.971225203365165,82.04341040773713,96.08081202319411,101.61506295993894,99.42926870576395,96.20529961020024,103.4363176408174,128.12754508768276,167.03509655717346],[363.5111920387693,349.76537042416044,340.62385601167995,330.9766824727049,314.8022120195306,288.2483901020789,251.78395918457088,211.280010532729,177.82881451537418,163.15017079189195,168.19191264588505,181.64677607105457,193.70087660279398,203.12851877128298,215.4325713322357,236.84261968410146,267.9954184395287,303.1750502543487,334.348244869771,354.6924696970231,360.0937404960586,349.49007409888674,324.7090277907313,289.96851033032954,250.98969801696697,213.62542960126135,182.11467425968038,157.73963998688,139.15891883521113,124.30323358834967,111.68780376509127,100.02139891212497,87.57858292549527,72.87120328121469,56.092073682896434,40.04352501166571,29.71620672681839,27.496916729746523,29.053915614991457,33.317115123848886,44.6632803108227,62.78606971025953,81.91386762310556,96.07517587409112,101.7790665210335,99.8032106204791,96.81166414702429,104.20587455317622,128.91569782706352,167.75782063431964],[363.91114350052726,350.2253709637129,341.1388785992675,331.56389185659924,315.507875321398,289.1459488422683,252.96483864791279,212.8221132253313,179.6923078130424,165.02928414710146,169.6928616950817,182.62818760289724,194.2120869928421,203.27561217187852,215.34584506277295,236.6617042307051,267.8294723129234,303.08145230475145,334.34931513677975,354.7988831876878,360.3177578701004,349.850227018879,325.2306478620338,290.6827159683394,251.93098099188268,214.82487436463353,183.58543485076473,159.459411560569,141.05976884336894,126.26738520923695,113.55237464406109,101.61448399689837,88.7770370816108,73.62943471970927,56.430513439359316,40.04408769870013,29.58417415827445,27.498791983530285,29.180444601409043,33.37836986312866,44.572937250636386,62.640773732836664,81.8243290563794,96.11351082903207,101.99458378411688,100.23879713219695,97.48778098405758,105.04293221039461,129.75916359813667,168.52213566281716],[364.3226711008731,350.69822410018213,341.66750016642084,332.16537135305714,316.2289708375601,290.06092372702636,254.16568593617023,214.38609802725924,181.5780165822454,166.93348314920806,171.22598745893197,183.64660489807312,194.76199309124988,203.46123327139523,215.29544393725791,236.51261136062735,267.6895330502369,303.00824986421264,334.3663752230922,354.91849173317803,360.55388002912684,350.2230578028674,325.76704815454985,291.415049160597,252.89438897191758,216.04998154596078,185.08341879031215,161.2049396817946,142.98231912243642,128.2485540770451,115.43114873498934,103.22188553209699,89.99138915361337,74.40459910651492,56.785769451352095,40.06092701779284,29.470925096784917,27.527678672317382,29.34283158151364,33.48361563122818,44.52640612817514,62.53596342299151,81.7751453054967,96.19588946298354,102.26133648137998,100.73520385774383,98.23211604357395,105.94574699828802,130.6567127137913,169.32732766702273],[364.74563921905417,351.1837673445556,342.20953448644013,332.78090402867764,316.9652268058802,290.9929404209867,255.3859452716676,215.97113497318423,183.48483167837006,168.8614932425937,172.79009158737145,184.7011903923141,195.35014939881256,203.68524123480393,215.28141150898185,236.39544084692488,267.57567758658803,302.9554774280487,334.39942097121434,355.0512564228802,360.80203085829964,350.6084424729348,326.3180350981454,292.16520861228764,253.8794533154663,217.30004278863746,186.60763850789164,162.97501704221443,144.92530082113885,130.24556841509758,117.32310646122409,104.84271925525353,91.2209393827416,75.19631534952502,57.157938937121216,40.09479172100839,29.37780124638653,27.584642925436754,29.54147409938879,33.633241445960195,44.52438955957722,62.47220677394688,81.76661601335167,96.32232568449122,102.57896926447013,101.29150440517883,99.0430265801821,106.91249750920997,131.60706982536982,170.17265760767563],[365.17990916278876,351.68183480657524,342.7647918405575,333.41026952727776,317.71636827219135,291.94162225672557,256.6250619063587,217.57640555740036,185.41167408556873,170.81207805057605,174.38399269220122,185.7910952997966,195.9760845281255,203.94746545281114,215.30376455389714,236.31027227205774,267.4879692254473,302.923160594152,334.4484422346888,355.1971339641499,361.06213059127924,351.00625350792257,326.8834112592895,292.9328888009257,254.88570190071144,218.574350911954,188.1571199047649,164.76846928556427,146.88749640815735,132.25731615801104,119.22728648399777,106.47615220606595,92.46502644284023,76.00422432073,57.547130200846425,40.14645213225594,29.306184155630337,27.670721618205235,29.776681096784323,33.82749773569829,44.56748557631748,62.45000915927389,81.79898806318157,96.49277481835246,102.94705240664067,101.90667832133424,99.91877631470894,107.94129877071236,132.60892065599452,171.05736377187608],[365.6253392677449,352.19225732165893,343.3330791679865,334.0532442484083,318.48211732198234,292.9065905700927,257.88248261463457,219.2011032258924,187.35749472946677,172.78403906674208,176.00652776277644,186.9154616381498,196.639302547078,204.24770603882772,215.36249302723044,236.25716485579625,267.4264575347745,302.91131603111995,334.51342288707343,355.35607671661256,361.33409586942247,351.4163599401994,327.4629755070787,293.71778027723144,255.91265967040238,219.8722007728253,189.73090325909823,166.58415508581564,148.86773808805228,134.28274190809415,121.1427822561109,108.12139991349805,93.72302590644792,76.82798830314782,57.95346159762547,40.216696100711886,29.25748512012076,27.786911093106028,30.04867131418144,34.066495475561496,44.65618116083728,62.46980939171768,81.872454144541,96.70713408255206,103.36508499078421,102.57961952645455,100.85755051503375,109.0302159918001,133.6609185639169,171.9806641437771],[366.08178499807843,352.71486257872647,343.91420021646434,334.7096015255153,319.2621933096861,293.8874650272822,259.1576561602169,220.84443380278685,189.32127419638863,174.77621521142297,177.6565533856546,188.07342417445776,197.33928435929016,204.5857344059583,215.4575600912395,236.23615732676453,267.3911782653582,302.91995145725855,334.5943408366159,355.5280327298445,361.6178398032795,351.83862745406617,328.05652317984396,294.5195699629601,256.9598491605178,221.19289007409492,191.3280440123549,168.42096607387143,150.86490615185022,136.32084398165335,123.06873873929145,109.77772368435643,94.99434869305,77.6672903746328,58.3770604701925,40.30632467905911,29.233133874851386,27.93415627281267,30.357573323885685,34.3502080197947,44.79084738680074,62.53197637856591,81.98715171095732,96.96524345041435,103.83249852982063,103.30914508482812,101.85747077141895,110.17727765733915,134.76169087866322,172.94175874179348],[366.54909904792316,353.2494752487741,344.5079556930871,335.3791118035092,320.05631308528,294.88386394329825,260.45003373732806,222.5056158551165,191.3020223718571,176.78748227365696,179.33294678036415,189.2641122864891,198.07548911304926,204.9612939200329,215.58890221390413,236.24726783829436,267.3821532916752,302.94906563051995,334.6911680465935,355.7129457843657,361.9132720362868,352.27291848565255,328.6638462520843,295.3379414452005,258.02679101213874,222.53572011996525,192.9476134439104,170.277826631821,152.87792728539597,138.37067155714186,125.00434928778874,111.44442800083041,96.27843951423142,78.52183373908824,58.81806206490284,40.41614756022997,29.23456619718087,28.11334045478809,30.70342712987028,34.67847549103542,44.97173629884346,62.6368064386389,82.14316234360541,97.26688688311897,104.34866096071244,104.0940041645663,102.91660924833917,111.38048783578908,135.9098449619364,173.93983190957124],[367.02713144367004,353.79591711399036,345.11414341520936,336.06154281548186,320.8641912178991,295.8954045915532,261.75906938650894,224.1838809999072,193.29877801019055,178.81675225725598,181.03460666389205,190.48665173468083,198.84735563051436,205.37410062428015,215.75642933792705,236.2904939290025,267.3993905754984,302.9986483494108,334.80387056127296,355.91075543587715,362.22029881056824,352.7190923241569,329.2847335014724,296.17257526669147,259.1130044659591,223.89999651933726,194.58869924105892,172.1536935724107,154.90577285515513,140.43132193351906,126.94885269805843,113.12085803165584,97.57477532795598,79.39134101474187,59.27660843420374,40.54697831337568,29.263210598638455,28.325276064940784,31.086187212093858,35.05101148434704,45.19897960806899,62.7845213320348,82.34051152855989,97.61179391207695,104.91288094967939,104.93288704702013,104.03300223142794,112.63783759882932,137.10397395393318,174.97405454914806],[367.5157296469248,354.3540071972586,345.73255846121276,336.7566597583518,321.68554021620616,296.9217035043495,263.0842203854787,225.87847415746455,195.3106082459024,180.86297264768183,182.76045395644087,191.7401663414101,199.65430384919657,205.82384403080454,215.96002511895176,236.36581252831476,267.44288415239066,303.0686804648583,334.93240853743885,356.12139706266584,362.5388230347427,353.1770052142869,329.9189706756865,297.02314921173115,260.21800783898203,225.28502983810645,196.25040597156152,174.04755571997018,156.94745718807815,142.50193790428153,128.90153042232032,114.8063972592776,98.88286381206694,80.27555348823708,59.75284733273465,40.699629467121575,29.320474341768453,28.570696621479705,31.5057268461476,35.46741176011094,45.47258921683549,62.97526703800495,82.57916884807715,97.99964154584401,105.5244124442523,105.82443405750422,105.2046628264825,113.94731548364733,138.34266217467743,176.04358628620957],[368.01473865800443,354.9235618918641,346.36299332094165,337.46422546720794,322.5200707452601,297.9623767640497,264.4249476155253,227.58865375467292,197.33660805663155,182.9251256147702,184.50943234095814,193.0237795751757,200.49573626799636,206.31018797370206,216.19954723147322,236.47318000687508,267.512614141141,303.15913390300153,335.076736281418,356.3448019160997,362.86874435363814,353.64651045975353,330.5663406588282,297.88933858729007,261.3413189830358,226.6901362016416,197.93185546583453,175.95843340766737,159.00203585941745,144.5817052501874,130.86170394212598,116.50046522352778,100.20224186512766,81.17423034245186,60.246931113975634,40.87490749478098,29.40772907207964,28.85025011904968,31.961843493533582,35.92716454045824,45.792459523515724,63.20911329895961,82.85904857918861,98.43005647193343,106.18245940729936,106.76724430195182,106.4295927043173,115.30691695767024,139.62449015809534,177.14757755864224]],\"type\":\"contour\"},{\"hoverinfo\":\"text\",\"legendgroup\":\"In-sample\",\"marker\":{\"color\":\"black\",\"opacity\":0.5,\"symbol\":1},\"mode\":\"markers\",\"name\":\"In-sample\",\"text\":[\"Arm 0_0\\u003cbr\\u003eloss: 493.722 (SEM: None)\\u003cbr\\u003elr: 0.0133858\\u003cbr\\u003ehidden_dim: 256\\u003cbr\\u003eno_layers: 3\\u003cbr\\u003eweight_decay: 0.000302061\\u003cbr\\u003epatience: 6\\u003cbr\\u003eclip_value: 83.6315\",\"Arm 1_0\\u003cbr\\u003eloss: 2505.89 (SEM: None)\\u003cbr\\u003elr: 0.000369467\\u003cbr\\u003ehidden_dim: 1024\\u003cbr\\u003eno_layers: 5\\u003cbr\\u003eweight_decay: 0.000648259\\u003cbr\\u003epatience: 4\\u003cbr\\u003eclip_value: 41.4449\",\"Arm 2_0\\u003cbr\\u003eloss: 5583.09 (SEM: None)\\u003cbr\\u003elr: 1.33941e-06\\u003cbr\\u003ehidden_dim: 256\\u003cbr\\u003eno_layers: 4\\u003cbr\\u003eweight_decay: 0.000195728\\u003cbr\\u003epatience: 1\\u003cbr\\u003eclip_value: 22.8146\",\"Arm 3_0\\u003cbr\\u003eloss: 223.146 (SEM: None)\\u003cbr\\u003elr: 0.0291833\\u003cbr\\u003ehidden_dim: 512\\u003cbr\\u003eno_layers: 4\\u003cbr\\u003eweight_decay: 0.000870577\\u003cbr\\u003epatience: 9\\u003cbr\\u003eclip_value: 63.7094\",\"Arm 4_0\\u003cbr\\u003eloss: 2309.06 (SEM: None)\\u003cbr\\u003elr: 0.0893229\\u003cbr\\u003ehidden_dim: 512\\u003cbr\\u003eno_layers: 5\\u003cbr\\u003eweight_decay: 0.000932268\\u003cbr\\u003epatience: 10\\u003cbr\\u003eclip_value: 92.9888\",\"Arm 5_0\\u003cbr\\u003eloss: 5295.86 (SEM: None)\\u003cbr\\u003elr: 9.16613e-06\\u003cbr\\u003ehidden_dim: 512\\u003cbr\\u003eno_layers: 3\\u003cbr\\u003eweight_decay: 1.3669e-05\\u003cbr\\u003epatience: 2\\u003cbr\\u003eclip_value: 39.4901\",\"Arm 6_0\\u003cbr\\u003eloss: 4969.17 (SEM: None)\\u003cbr\\u003elr: 9.9908e-05\\u003cbr\\u003ehidden_dim: 256\\u003cbr\\u003eno_layers: 5\\u003cbr\\u003eweight_decay: 0.000590067\\u003cbr\\u003epatience: 5\\u003cbr\\u003eclip_value: 11.4126\",\"Arm 7_0\\u003cbr\\u003eloss: 795.276 (SEM: None)\\u003cbr\\u003elr: 0.00161891\\u003cbr\\u003ehidden_dim: 1024\\u003cbr\\u003eno_layers: 3\\u003cbr\\u003eweight_decay: 0.000487385\\u003cbr\\u003epatience: 7\\u003cbr\\u003eclip_value: 64.7201\",\"Arm 8_0\\u003cbr\\u003eloss: 2648.86 (SEM: None)\\u003cbr\\u003elr: 0.000655851\\u003cbr\\u003ehidden_dim: 512\\u003cbr\\u003eno_layers: 4\\u003cbr\\u003eweight_decay: 0.00010419\\u003cbr\\u003epatience: 3\\u003cbr\\u003eclip_value: 55.3782\",\"Arm 9_0\\u003cbr\\u003eloss: 4539.78 (SEM: None)\\u003cbr\\u003elr: 4.05856e-05\\u003cbr\\u003ehidden_dim: 1024\\u003cbr\\u003eno_layers: 3\\u003cbr\\u003eweight_decay: 0.000964554\\u003cbr\\u003epatience: 7\\u003cbr\\u003eclip_value: 25.2834\",\"Arm 10_0\\u003cbr\\u003eloss: 5346.68 (SEM: None)\\u003cbr\\u003elr: 1.84997e-05\\u003cbr\\u003ehidden_dim: 256\\u003cbr\\u003eno_layers: 5\\u003cbr\\u003eweight_decay: 0.000396116\\u003cbr\\u003epatience: 8\\u003cbr\\u003eclip_value: 50.952\",\"Arm 11_0\\u003cbr\\u003eloss: 490.938 (SEM: None)\\u003cbr\\u003elr: 0.179779\\u003cbr\\u003ehidden_dim: 1024\\u003cbr\\u003eno_layers: 3\\u003cbr\\u003eweight_decay: 0.00055658\\u003cbr\\u003epatience: 1\\u003cbr\\u003eclip_value: 80.1259\",\"Arm 12_0\\u003cbr\\u003eloss: 122.561 (SEM: None)\\u003cbr\\u003elr: 0.0256131\\u003cbr\\u003ehidden_dim: 1024\\u003cbr\\u003eno_layers: 3\\u003cbr\\u003eweight_decay: 0.000676863\\u003cbr\\u003epatience: 2\\u003cbr\\u003eclip_value: 54.0758\",\"Arm 13_0\\u003cbr\\u003eloss: 291.533 (SEM: None)\\u003cbr\\u003elr: 0.0421299\\u003cbr\\u003ehidden_dim: 1024\\u003cbr\\u003eno_layers: 3\\u003cbr\\u003eweight_decay: 0.000435309\\u003cbr\\u003epatience: 10\\u003cbr\\u003eclip_value: 63.0211\",\"Arm 14_0\\u003cbr\\u003eloss: 154.967 (SEM: None)\\u003cbr\\u003elr: 0.0127199\\u003cbr\\u003ehidden_dim: 1024\\u003cbr\\u003eno_layers: 3\\u003cbr\\u003eweight_decay: 0.000982705\\u003cbr\\u003epatience: 1\\u003cbr\\u003eclip_value: 73.4867\",\"Arm 15_0\\u003cbr\\u003eloss: 129.137 (SEM: None)\\u003cbr\\u003elr: 0.01761\\u003cbr\\u003ehidden_dim: 1024\\u003cbr\\u003eno_layers: 3\\u003cbr\\u003eweight_decay: 0.000634888\\u003cbr\\u003epatience: 1\\u003cbr\\u003eclip_value: 70.2993\",\"Arm 16_0\\u003cbr\\u003eloss: 224.146 (SEM: None)\\u003cbr\\u003elr: 0.0372405\\u003cbr\\u003ehidden_dim: 256\\u003cbr\\u003eno_layers: 3\\u003cbr\\u003eweight_decay: 0.000917469\\u003cbr\\u003epatience: 6\\u003cbr\\u003eclip_value: 62.636\",\"Arm 17_0\\u003cbr\\u003eloss: 168.221 (SEM: None)\\u003cbr\\u003elr: 0.013626\\u003cbr\\u003ehidden_dim: 1024\\u003cbr\\u003eno_layers: 3\\u003cbr\\u003eweight_decay: 0.000953583\\u003cbr\\u003epatience: 7\\u003cbr\\u003eclip_value: 60.4988\",\"Arm 18_0\\u003cbr\\u003eloss: 337.852 (SEM: None)\\u003cbr\\u003elr: 0.101852\\u003cbr\\u003ehidden_dim: 1024\\u003cbr\\u003eno_layers: 5\\u003cbr\\u003eweight_decay: 0.001\\u003cbr\\u003epatience: 1\\u003cbr\\u003eclip_value: 23.3305\",\"Arm 19_0\\u003cbr\\u003eloss: 1189.79 (SEM: None)\\u003cbr\\u003elr: 0.4\\u003cbr\\u003ehidden_dim: 256\\u003cbr\\u003eno_layers: 4\\u003cbr\\u003eweight_decay: 0.000302869\\u003cbr\\u003epatience: 1\\u003cbr\\u003eclip_value: 37.2601\",\"Arm 20_0\\u003cbr\\u003eloss: 132.977 (SEM: None)\\u003cbr\\u003elr: 0.0214857\\u003cbr\\u003ehidden_dim: 1024\\u003cbr\\u003eno_layers: 4\\u003cbr\\u003eweight_decay: 0.001\\u003cbr\\u003epatience: 1\\u003cbr\\u003eclip_value: 47.3856\",\"Arm 21_0\\u003cbr\\u003eloss: 1546.45 (SEM: None)\\u003cbr\\u003elr: 0.4\\u003cbr\\u003ehidden_dim: 1024\\u003cbr\\u003eno_layers: 3\\u003cbr\\u003eweight_decay: 0.001\\u003cbr\\u003epatience: 10\\u003cbr\\u003eclip_value: 38.5952\",\"Arm 22_0\\u003cbr\\u003eloss: 260.887 (SEM: None)\\u003cbr\\u003elr: 0.0215437\\u003cbr\\u003ehidden_dim: 1024\\u003cbr\\u003eno_layers: 5\\u003cbr\\u003eweight_decay: 0.001\\u003cbr\\u003epatience: 10\\u003cbr\\u003eclip_value: 33.2018\",\"Arm 23_0\\u003cbr\\u003eloss: 237.701 (SEM: None)\\u003cbr\\u003elr: 0.03668\\u003cbr\\u003ehidden_dim: 256\\u003cbr\\u003eno_layers: 5\\u003cbr\\u003eweight_decay: 0.001\\u003cbr\\u003epatience: 1\\u003cbr\\u003eclip_value: 34.7588\",\"Arm 24_0\\u003cbr\\u003eloss: 198.554 (SEM: None)\\u003cbr\\u003elr: 0.0354315\\u003cbr\\u003ehidden_dim: 1024\\u003cbr\\u003eno_layers: 5\\u003cbr\\u003eweight_decay: 0.000780758\\u003cbr\\u003epatience: 1\\u003cbr\\u003eclip_value: 37.9309\",\"Arm 25_0\\u003cbr\\u003eloss: 395.284 (SEM: None)\\u003cbr\\u003elr: 0.0152339\\u003cbr\\u003ehidden_dim: 256\\u003cbr\\u003eno_layers: 3\\u003cbr\\u003eweight_decay: 0.000694754\\u003cbr\\u003epatience: 1\\u003cbr\\u003eclip_value: 71.1617\",\"Arm 26_0\\u003cbr\\u003eloss: 144.558 (SEM: None)\\u003cbr\\u003elr: 0.0117937\\u003cbr\\u003ehidden_dim: 1024\\u003cbr\\u003eno_layers: 3\\u003cbr\\u003eweight_decay: 0.000613186\\u003cbr\\u003epatience: 10\\u003cbr\\u003eclip_value: 81.5322\",\"Arm 27_0\\u003cbr\\u003eloss: 229.558 (SEM: None)\\u003cbr\\u003elr: 0.0245009\\u003cbr\\u003ehidden_dim: 1024\\u003cbr\\u003eno_layers: 5\\u003cbr\\u003eweight_decay: 0.001\\u003cbr\\u003epatience: 1\\u003cbr\\u003eclip_value: 36.9274\",\"Arm 28_0\\u003cbr\\u003eloss: 250.522 (SEM: None)\\u003cbr\\u003elr: 0.0252097\\u003cbr\\u003ehidden_dim: 1024\\u003cbr\\u003eno_layers: 5\\u003cbr\\u003eweight_decay: 0.001\\u003cbr\\u003epatience: 1\\u003cbr\\u003eclip_value: 5.1\",\"Arm 29_0\\u003cbr\\u003eloss: 403.971 (SEM: None)\\u003cbr\\u003elr: 0.0458611\\u003cbr\\u003ehidden_dim: 256\\u003cbr\\u003eno_layers: 5\\u003cbr\\u003eweight_decay: 0.001\\u003cbr\\u003epatience: 9\\u003cbr\\u003eclip_value: 5.1\",\"Arm 30_0\\u003cbr\\u003eloss: 452.569 (SEM: None)\\u003cbr\\u003elr: 0.00250594\\u003cbr\\u003ehidden_dim: 1024\\u003cbr\\u003eno_layers: 3\\u003cbr\\u003eweight_decay: 0.001\\u003cbr\\u003epatience: 10\\u003cbr\\u003eclip_value: 100\",\"Arm 31_0\\u003cbr\\u003eloss: 201.557 (SEM: None)\\u003cbr\\u003elr: 0.0426527\\u003cbr\\u003ehidden_dim: 1024\\u003cbr\\u003eno_layers: 5\\u003cbr\\u003eweight_decay: 0.000334349\\u003cbr\\u003epatience: 1\\u003cbr\\u003eclip_value: 5.1\",\"Arm 32_0\\u003cbr\\u003eloss: 194.759 (SEM: None)\\u003cbr\\u003elr: 0.0390508\\u003cbr\\u003ehidden_dim: 512\\u003cbr\\u003eno_layers: 4\\u003cbr\\u003eweight_decay: 1e-05\\u003cbr\\u003epatience: 1\\u003cbr\\u003eclip_value: 34.6443\",\"Arm 33_0\\u003cbr\\u003eloss: 193.925 (SEM: None)\\u003cbr\\u003elr: 0.0343037\\u003cbr\\u003ehidden_dim: 1024\\u003cbr\\u003eno_layers: 3\\u003cbr\\u003eweight_decay: 0.001\\u003cbr\\u003epatience: 1\\u003cbr\\u003eclip_value: 61.9599\",\"Arm 34_0\\u003cbr\\u003eloss: 301.309 (SEM: None)\\u003cbr\\u003elr: 0.0328393\\u003cbr\\u003ehidden_dim: 1024\\u003cbr\\u003eno_layers: 5\\u003cbr\\u003eweight_decay: 1e-05\\u003cbr\\u003epatience: 1\\u003cbr\\u003eclip_value: 27.8573\",\"Arm 35_0\\u003cbr\\u003eloss: 266.32 (SEM: None)\\u003cbr\\u003elr: 0.0369446\\u003cbr\\u003ehidden_dim: 1024\\u003cbr\\u003eno_layers: 4\\u003cbr\\u003eweight_decay: 0.001\\u003cbr\\u003epatience: 1\\u003cbr\\u003eclip_value: 28.0739\",\"Arm 36_0\\u003cbr\\u003eloss: 468.229 (SEM: None)\\u003cbr\\u003elr: 0.0124574\\u003cbr\\u003ehidden_dim: 256\\u003cbr\\u003eno_layers: 3\\u003cbr\\u003eweight_decay: 1e-05\\u003cbr\\u003epatience: 1\\u003cbr\\u003eclip_value: 5.1\",\"Arm 37_0\\u003cbr\\u003eloss: 167.836 (SEM: None)\\u003cbr\\u003elr: 0.0264464\\u003cbr\\u003ehidden_dim: 1024\\u003cbr\\u003eno_layers: 3\\u003cbr\\u003eweight_decay: 1e-05\\u003cbr\\u003epatience: 10\\u003cbr\\u003eclip_value: 5.1\",\"Arm 38_0\\u003cbr\\u003eloss: 201.575 (SEM: None)\\u003cbr\\u003elr: 0.00701648\\u003cbr\\u003ehidden_dim: 1024\\u003cbr\\u003eno_layers: 3\\u003cbr\\u003eweight_decay: 0.001\\u003cbr\\u003epatience: 10\\u003cbr\\u003eclip_value: 5.1\",\"Arm 39_0\\u003cbr\\u003eloss: 284.636 (SEM: None)\\u003cbr\\u003elr: 0.00335034\\u003cbr\\u003ehidden_dim: 1024\\u003cbr\\u003eno_layers: 3\\u003cbr\\u003eweight_decay: 1e-05\\u003cbr\\u003epatience: 2\\u003cbr\\u003eclip_value: 100\",\"Arm 40_0\\u003cbr\\u003eloss: 1951.93 (SEM: None)\\u003cbr\\u003elr: 0.00299804\\u003cbr\\u003ehidden_dim: 256\\u003cbr\\u003eno_layers: 5\\u003cbr\\u003eweight_decay: 1e-05\\u003cbr\\u003epatience: 5\\u003cbr\\u003eclip_value: 5.1\",\"Arm 41_0\\u003cbr\\u003eloss: 134.061 (SEM: None)\\u003cbr\\u003elr: 0.0172064\\u003cbr\\u003ehidden_dim: 1024\\u003cbr\\u003eno_layers: 3\\u003cbr\\u003eweight_decay: 1e-05\\u003cbr\\u003epatience: 1\\u003cbr\\u003eclip_value: 100\",\"Arm 42_0\\u003cbr\\u003eloss: 272.484 (SEM: None)\\u003cbr\\u003elr: 0.0428974\\u003cbr\\u003ehidden_dim: 256\\u003cbr\\u003eno_layers: 4\\u003cbr\\u003eweight_decay: 0.001\\u003cbr\\u003epatience: 1\\u003cbr\\u003eclip_value: 50.9494\",\"Arm 43_0\\u003cbr\\u003eloss: 121.281 (SEM: None)\\u003cbr\\u003elr: 0.00959584\\u003cbr\\u003ehidden_dim: 1024\\u003cbr\\u003eno_layers: 3\\u003cbr\\u003eweight_decay: 1e-05\\u003cbr\\u003epatience: 1\\u003cbr\\u003eclip_value: 5.1\",\"Arm 44_0\\u003cbr\\u003eloss: 679.383 (SEM: None)\\u003cbr\\u003elr: 0.4\\u003cbr\\u003ehidden_dim: 256\\u003cbr\\u003eno_layers: 3\\u003cbr\\u003eweight_decay: 1e-05\\u003cbr\\u003epatience: 1\\u003cbr\\u003eclip_value: 100\",\"Arm 45_0\\u003cbr\\u003eloss: 102.5 (SEM: None)\\u003cbr\\u003elr: 0.0115151\\u003cbr\\u003ehidden_dim: 1024\\u003cbr\\u003eno_layers: 3\\u003cbr\\u003eweight_decay: 0.000196963\\u003cbr\\u003epatience: 1\\u003cbr\\u003eclip_value: 5.1\",\"Arm 46_0\\u003cbr\\u003eloss: 149.213 (SEM: None)\\u003cbr\\u003elr: 0.011732\\u003cbr\\u003ehidden_dim: 1024\\u003cbr\\u003eno_layers: 3\\u003cbr\\u003eweight_decay: 1e-05\\u003cbr\\u003epatience: 1\\u003cbr\\u003eclip_value: 11.6084\",\"Arm 47_0\\u003cbr\\u003eloss: 179.23 (SEM: None)\\u003cbr\\u003elr: 0.0118035\\u003cbr\\u003ehidden_dim: 1024\\u003cbr\\u003eno_layers: 3\\u003cbr\\u003eweight_decay: 0.001\\u003cbr\\u003epatience: 1\\u003cbr\\u003eclip_value: 5.1\",\"Arm 48_0\\u003cbr\\u003eloss: 155.004 (SEM: None)\\u003cbr\\u003elr: 0.0118241\\u003cbr\\u003ehidden_dim: 1024\\u003cbr\\u003eno_layers: 3\\u003cbr\\u003eweight_decay: 1e-05\\u003cbr\\u003epatience: 1\\u003cbr\\u003eclip_value: 84.3081\"],\"x\":[0.01338576635507605,0.00036946670552867275,1.3394099510552863e-06,0.02918334609135066,0.08932291828826357,9.166134875850755e-06,9.990801328027291e-05,0.0016189122686474477,0.0006558506971980711,4.058560685237218e-05,1.849970554608157e-05,0.17977863091167104,0.025613139007791216,0.042129894931057815,0.012719947589003737,0.017610001249152414,0.037240471582312924,0.013626007811920473,0.1018518134381904,0.4,0.02148567347198416,0.4,0.02154367845622449,0.03668001311163024,0.03543154276461078,0.015233898353467468,0.011793683943125154,0.024500923154632415,0.02520965977064923,0.04586106910212316,0.002505939197901352,0.04265272202225299,0.039050791056960965,0.03430369782072754,0.03283927337172228,0.0369446156582733,0.012457410547770758,0.026446406102686598,0.007016484267382949,0.0033503429372207325,0.0029980351999127704,0.017206355319683057,0.04289739674779848,0.009595835793707791,0.4,0.011515063961680016,0.011732002610735445,0.011803501057741656,0.01182414629841564],\"xaxis\":\"x\",\"y\":[0.00030206075608730316,0.0006482587368041277,0.0001957284522149712,0.0008705774121638387,0.0009322678424883634,1.3669022796675564e-05,0.0005900672987662256,0.00048738509621471166,0.00010418986395001411,0.0009645538060553372,0.0003961164981033653,0.0005565803922060877,0.0006768628897878358,0.0004353088450405315,0.0009827048425922057,0.000634887898238549,0.0009174694695647512,0.0009535830138625649,0.001,0.00030286858339093075,0.001,0.001,0.001,0.001,0.0007807578473945011,0.0006947538175735833,0.0006131855554105212,0.001,0.001,0.001,0.001,0.0003343490549049016,1e-05,0.001,1e-05,0.001,1e-05,1e-05,0.001,1e-05,1e-05,1e-05,0.001,1e-05,1e-05,0.00019696278876426128,1e-05,0.001,1e-05],\"yaxis\":\"y\",\"type\":\"scatter\"},{\"hoverinfo\":\"text\",\"legendgroup\":\"In-sample\",\"marker\":{\"color\":\"black\",\"opacity\":0.5,\"symbol\":1},\"mode\":\"markers\",\"name\":\"In-sample\",\"showlegend\":false,\"text\":[\"Arm 0_0\\u003cbr\\u003eloss: 493.722 (SEM: None)\\u003cbr\\u003elr: 0.0133858\\u003cbr\\u003ehidden_dim: 256\\u003cbr\\u003eno_layers: 3\\u003cbr\\u003eweight_decay: 0.000302061\\u003cbr\\u003epatience: 6\\u003cbr\\u003eclip_value: 83.6315\",\"Arm 1_0\\u003cbr\\u003eloss: 2505.89 (SEM: None)\\u003cbr\\u003elr: 0.000369467\\u003cbr\\u003ehidden_dim: 1024\\u003cbr\\u003eno_layers: 5\\u003cbr\\u003eweight_decay: 0.000648259\\u003cbr\\u003epatience: 4\\u003cbr\\u003eclip_value: 41.4449\",\"Arm 2_0\\u003cbr\\u003eloss: 5583.09 (SEM: None)\\u003cbr\\u003elr: 1.33941e-06\\u003cbr\\u003ehidden_dim: 256\\u003cbr\\u003eno_layers: 4\\u003cbr\\u003eweight_decay: 0.000195728\\u003cbr\\u003epatience: 1\\u003cbr\\u003eclip_value: 22.8146\",\"Arm 3_0\\u003cbr\\u003eloss: 223.146 (SEM: None)\\u003cbr\\u003elr: 0.0291833\\u003cbr\\u003ehidden_dim: 512\\u003cbr\\u003eno_layers: 4\\u003cbr\\u003eweight_decay: 0.000870577\\u003cbr\\u003epatience: 9\\u003cbr\\u003eclip_value: 63.7094\",\"Arm 4_0\\u003cbr\\u003eloss: 2309.06 (SEM: None)\\u003cbr\\u003elr: 0.0893229\\u003cbr\\u003ehidden_dim: 512\\u003cbr\\u003eno_layers: 5\\u003cbr\\u003eweight_decay: 0.000932268\\u003cbr\\u003epatience: 10\\u003cbr\\u003eclip_value: 92.9888\",\"Arm 5_0\\u003cbr\\u003eloss: 5295.86 (SEM: None)\\u003cbr\\u003elr: 9.16613e-06\\u003cbr\\u003ehidden_dim: 512\\u003cbr\\u003eno_layers: 3\\u003cbr\\u003eweight_decay: 1.3669e-05\\u003cbr\\u003epatience: 2\\u003cbr\\u003eclip_value: 39.4901\",\"Arm 6_0\\u003cbr\\u003eloss: 4969.17 (SEM: None)\\u003cbr\\u003elr: 9.9908e-05\\u003cbr\\u003ehidden_dim: 256\\u003cbr\\u003eno_layers: 5\\u003cbr\\u003eweight_decay: 0.000590067\\u003cbr\\u003epatience: 5\\u003cbr\\u003eclip_value: 11.4126\",\"Arm 7_0\\u003cbr\\u003eloss: 795.276 (SEM: None)\\u003cbr\\u003elr: 0.00161891\\u003cbr\\u003ehidden_dim: 1024\\u003cbr\\u003eno_layers: 3\\u003cbr\\u003eweight_decay: 0.000487385\\u003cbr\\u003epatience: 7\\u003cbr\\u003eclip_value: 64.7201\",\"Arm 8_0\\u003cbr\\u003eloss: 2648.86 (SEM: None)\\u003cbr\\u003elr: 0.000655851\\u003cbr\\u003ehidden_dim: 512\\u003cbr\\u003eno_layers: 4\\u003cbr\\u003eweight_decay: 0.00010419\\u003cbr\\u003epatience: 3\\u003cbr\\u003eclip_value: 55.3782\",\"Arm 9_0\\u003cbr\\u003eloss: 4539.78 (SEM: None)\\u003cbr\\u003elr: 4.05856e-05\\u003cbr\\u003ehidden_dim: 1024\\u003cbr\\u003eno_layers: 3\\u003cbr\\u003eweight_decay: 0.000964554\\u003cbr\\u003epatience: 7\\u003cbr\\u003eclip_value: 25.2834\",\"Arm 10_0\\u003cbr\\u003eloss: 5346.68 (SEM: None)\\u003cbr\\u003elr: 1.84997e-05\\u003cbr\\u003ehidden_dim: 256\\u003cbr\\u003eno_layers: 5\\u003cbr\\u003eweight_decay: 0.000396116\\u003cbr\\u003epatience: 8\\u003cbr\\u003eclip_value: 50.952\",\"Arm 11_0\\u003cbr\\u003eloss: 490.938 (SEM: None)\\u003cbr\\u003elr: 0.179779\\u003cbr\\u003ehidden_dim: 1024\\u003cbr\\u003eno_layers: 3\\u003cbr\\u003eweight_decay: 0.00055658\\u003cbr\\u003epatience: 1\\u003cbr\\u003eclip_value: 80.1259\",\"Arm 12_0\\u003cbr\\u003eloss: 122.561 (SEM: None)\\u003cbr\\u003elr: 0.0256131\\u003cbr\\u003ehidden_dim: 1024\\u003cbr\\u003eno_layers: 3\\u003cbr\\u003eweight_decay: 0.000676863\\u003cbr\\u003epatience: 2\\u003cbr\\u003eclip_value: 54.0758\",\"Arm 13_0\\u003cbr\\u003eloss: 291.533 (SEM: None)\\u003cbr\\u003elr: 0.0421299\\u003cbr\\u003ehidden_dim: 1024\\u003cbr\\u003eno_layers: 3\\u003cbr\\u003eweight_decay: 0.000435309\\u003cbr\\u003epatience: 10\\u003cbr\\u003eclip_value: 63.0211\",\"Arm 14_0\\u003cbr\\u003eloss: 154.967 (SEM: None)\\u003cbr\\u003elr: 0.0127199\\u003cbr\\u003ehidden_dim: 1024\\u003cbr\\u003eno_layers: 3\\u003cbr\\u003eweight_decay: 0.000982705\\u003cbr\\u003epatience: 1\\u003cbr\\u003eclip_value: 73.4867\",\"Arm 15_0\\u003cbr\\u003eloss: 129.137 (SEM: None)\\u003cbr\\u003elr: 0.01761\\u003cbr\\u003ehidden_dim: 1024\\u003cbr\\u003eno_layers: 3\\u003cbr\\u003eweight_decay: 0.000634888\\u003cbr\\u003epatience: 1\\u003cbr\\u003eclip_value: 70.2993\",\"Arm 16_0\\u003cbr\\u003eloss: 224.146 (SEM: None)\\u003cbr\\u003elr: 0.0372405\\u003cbr\\u003ehidden_dim: 256\\u003cbr\\u003eno_layers: 3\\u003cbr\\u003eweight_decay: 0.000917469\\u003cbr\\u003epatience: 6\\u003cbr\\u003eclip_value: 62.636\",\"Arm 17_0\\u003cbr\\u003eloss: 168.221 (SEM: None)\\u003cbr\\u003elr: 0.013626\\u003cbr\\u003ehidden_dim: 1024\\u003cbr\\u003eno_layers: 3\\u003cbr\\u003eweight_decay: 0.000953583\\u003cbr\\u003epatience: 7\\u003cbr\\u003eclip_value: 60.4988\",\"Arm 18_0\\u003cbr\\u003eloss: 337.852 (SEM: None)\\u003cbr\\u003elr: 0.101852\\u003cbr\\u003ehidden_dim: 1024\\u003cbr\\u003eno_layers: 5\\u003cbr\\u003eweight_decay: 0.001\\u003cbr\\u003epatience: 1\\u003cbr\\u003eclip_value: 23.3305\",\"Arm 19_0\\u003cbr\\u003eloss: 1189.79 (SEM: None)\\u003cbr\\u003elr: 0.4\\u003cbr\\u003ehidden_dim: 256\\u003cbr\\u003eno_layers: 4\\u003cbr\\u003eweight_decay: 0.000302869\\u003cbr\\u003epatience: 1\\u003cbr\\u003eclip_value: 37.2601\",\"Arm 20_0\\u003cbr\\u003eloss: 132.977 (SEM: None)\\u003cbr\\u003elr: 0.0214857\\u003cbr\\u003ehidden_dim: 1024\\u003cbr\\u003eno_layers: 4\\u003cbr\\u003eweight_decay: 0.001\\u003cbr\\u003epatience: 1\\u003cbr\\u003eclip_value: 47.3856\",\"Arm 21_0\\u003cbr\\u003eloss: 1546.45 (SEM: None)\\u003cbr\\u003elr: 0.4\\u003cbr\\u003ehidden_dim: 1024\\u003cbr\\u003eno_layers: 3\\u003cbr\\u003eweight_decay: 0.001\\u003cbr\\u003epatience: 10\\u003cbr\\u003eclip_value: 38.5952\",\"Arm 22_0\\u003cbr\\u003eloss: 260.887 (SEM: None)\\u003cbr\\u003elr: 0.0215437\\u003cbr\\u003ehidden_dim: 1024\\u003cbr\\u003eno_layers: 5\\u003cbr\\u003eweight_decay: 0.001\\u003cbr\\u003epatience: 10\\u003cbr\\u003eclip_value: 33.2018\",\"Arm 23_0\\u003cbr\\u003eloss: 237.701 (SEM: None)\\u003cbr\\u003elr: 0.03668\\u003cbr\\u003ehidden_dim: 256\\u003cbr\\u003eno_layers: 5\\u003cbr\\u003eweight_decay: 0.001\\u003cbr\\u003epatience: 1\\u003cbr\\u003eclip_value: 34.7588\",\"Arm 24_0\\u003cbr\\u003eloss: 198.554 (SEM: None)\\u003cbr\\u003elr: 0.0354315\\u003cbr\\u003ehidden_dim: 1024\\u003cbr\\u003eno_layers: 5\\u003cbr\\u003eweight_decay: 0.000780758\\u003cbr\\u003epatience: 1\\u003cbr\\u003eclip_value: 37.9309\",\"Arm 25_0\\u003cbr\\u003eloss: 395.284 (SEM: None)\\u003cbr\\u003elr: 0.0152339\\u003cbr\\u003ehidden_dim: 256\\u003cbr\\u003eno_layers: 3\\u003cbr\\u003eweight_decay: 0.000694754\\u003cbr\\u003epatience: 1\\u003cbr\\u003eclip_value: 71.1617\",\"Arm 26_0\\u003cbr\\u003eloss: 144.558 (SEM: None)\\u003cbr\\u003elr: 0.0117937\\u003cbr\\u003ehidden_dim: 1024\\u003cbr\\u003eno_layers: 3\\u003cbr\\u003eweight_decay: 0.000613186\\u003cbr\\u003epatience: 10\\u003cbr\\u003eclip_value: 81.5322\",\"Arm 27_0\\u003cbr\\u003eloss: 229.558 (SEM: None)\\u003cbr\\u003elr: 0.0245009\\u003cbr\\u003ehidden_dim: 1024\\u003cbr\\u003eno_layers: 5\\u003cbr\\u003eweight_decay: 0.001\\u003cbr\\u003epatience: 1\\u003cbr\\u003eclip_value: 36.9274\",\"Arm 28_0\\u003cbr\\u003eloss: 250.522 (SEM: None)\\u003cbr\\u003elr: 0.0252097\\u003cbr\\u003ehidden_dim: 1024\\u003cbr\\u003eno_layers: 5\\u003cbr\\u003eweight_decay: 0.001\\u003cbr\\u003epatience: 1\\u003cbr\\u003eclip_value: 5.1\",\"Arm 29_0\\u003cbr\\u003eloss: 403.971 (SEM: None)\\u003cbr\\u003elr: 0.0458611\\u003cbr\\u003ehidden_dim: 256\\u003cbr\\u003eno_layers: 5\\u003cbr\\u003eweight_decay: 0.001\\u003cbr\\u003epatience: 9\\u003cbr\\u003eclip_value: 5.1\",\"Arm 30_0\\u003cbr\\u003eloss: 452.569 (SEM: None)\\u003cbr\\u003elr: 0.00250594\\u003cbr\\u003ehidden_dim: 1024\\u003cbr\\u003eno_layers: 3\\u003cbr\\u003eweight_decay: 0.001\\u003cbr\\u003epatience: 10\\u003cbr\\u003eclip_value: 100\",\"Arm 31_0\\u003cbr\\u003eloss: 201.557 (SEM: None)\\u003cbr\\u003elr: 0.0426527\\u003cbr\\u003ehidden_dim: 1024\\u003cbr\\u003eno_layers: 5\\u003cbr\\u003eweight_decay: 0.000334349\\u003cbr\\u003epatience: 1\\u003cbr\\u003eclip_value: 5.1\",\"Arm 32_0\\u003cbr\\u003eloss: 194.759 (SEM: None)\\u003cbr\\u003elr: 0.0390508\\u003cbr\\u003ehidden_dim: 512\\u003cbr\\u003eno_layers: 4\\u003cbr\\u003eweight_decay: 1e-05\\u003cbr\\u003epatience: 1\\u003cbr\\u003eclip_value: 34.6443\",\"Arm 33_0\\u003cbr\\u003eloss: 193.925 (SEM: None)\\u003cbr\\u003elr: 0.0343037\\u003cbr\\u003ehidden_dim: 1024\\u003cbr\\u003eno_layers: 3\\u003cbr\\u003eweight_decay: 0.001\\u003cbr\\u003epatience: 1\\u003cbr\\u003eclip_value: 61.9599\",\"Arm 34_0\\u003cbr\\u003eloss: 301.309 (SEM: None)\\u003cbr\\u003elr: 0.0328393\\u003cbr\\u003ehidden_dim: 1024\\u003cbr\\u003eno_layers: 5\\u003cbr\\u003eweight_decay: 1e-05\\u003cbr\\u003epatience: 1\\u003cbr\\u003eclip_value: 27.8573\",\"Arm 35_0\\u003cbr\\u003eloss: 266.32 (SEM: None)\\u003cbr\\u003elr: 0.0369446\\u003cbr\\u003ehidden_dim: 1024\\u003cbr\\u003eno_layers: 4\\u003cbr\\u003eweight_decay: 0.001\\u003cbr\\u003epatience: 1\\u003cbr\\u003eclip_value: 28.0739\",\"Arm 36_0\\u003cbr\\u003eloss: 468.229 (SEM: None)\\u003cbr\\u003elr: 0.0124574\\u003cbr\\u003ehidden_dim: 256\\u003cbr\\u003eno_layers: 3\\u003cbr\\u003eweight_decay: 1e-05\\u003cbr\\u003epatience: 1\\u003cbr\\u003eclip_value: 5.1\",\"Arm 37_0\\u003cbr\\u003eloss: 167.836 (SEM: None)\\u003cbr\\u003elr: 0.0264464\\u003cbr\\u003ehidden_dim: 1024\\u003cbr\\u003eno_layers: 3\\u003cbr\\u003eweight_decay: 1e-05\\u003cbr\\u003epatience: 10\\u003cbr\\u003eclip_value: 5.1\",\"Arm 38_0\\u003cbr\\u003eloss: 201.575 (SEM: None)\\u003cbr\\u003elr: 0.00701648\\u003cbr\\u003ehidden_dim: 1024\\u003cbr\\u003eno_layers: 3\\u003cbr\\u003eweight_decay: 0.001\\u003cbr\\u003epatience: 10\\u003cbr\\u003eclip_value: 5.1\",\"Arm 39_0\\u003cbr\\u003eloss: 284.636 (SEM: None)\\u003cbr\\u003elr: 0.00335034\\u003cbr\\u003ehidden_dim: 1024\\u003cbr\\u003eno_layers: 3\\u003cbr\\u003eweight_decay: 1e-05\\u003cbr\\u003epatience: 2\\u003cbr\\u003eclip_value: 100\",\"Arm 40_0\\u003cbr\\u003eloss: 1951.93 (SEM: None)\\u003cbr\\u003elr: 0.00299804\\u003cbr\\u003ehidden_dim: 256\\u003cbr\\u003eno_layers: 5\\u003cbr\\u003eweight_decay: 1e-05\\u003cbr\\u003epatience: 5\\u003cbr\\u003eclip_value: 5.1\",\"Arm 41_0\\u003cbr\\u003eloss: 134.061 (SEM: None)\\u003cbr\\u003elr: 0.0172064\\u003cbr\\u003ehidden_dim: 1024\\u003cbr\\u003eno_layers: 3\\u003cbr\\u003eweight_decay: 1e-05\\u003cbr\\u003epatience: 1\\u003cbr\\u003eclip_value: 100\",\"Arm 42_0\\u003cbr\\u003eloss: 272.484 (SEM: None)\\u003cbr\\u003elr: 0.0428974\\u003cbr\\u003ehidden_dim: 256\\u003cbr\\u003eno_layers: 4\\u003cbr\\u003eweight_decay: 0.001\\u003cbr\\u003epatience: 1\\u003cbr\\u003eclip_value: 50.9494\",\"Arm 43_0\\u003cbr\\u003eloss: 121.281 (SEM: None)\\u003cbr\\u003elr: 0.00959584\\u003cbr\\u003ehidden_dim: 1024\\u003cbr\\u003eno_layers: 3\\u003cbr\\u003eweight_decay: 1e-05\\u003cbr\\u003epatience: 1\\u003cbr\\u003eclip_value: 5.1\",\"Arm 44_0\\u003cbr\\u003eloss: 679.383 (SEM: None)\\u003cbr\\u003elr: 0.4\\u003cbr\\u003ehidden_dim: 256\\u003cbr\\u003eno_layers: 3\\u003cbr\\u003eweight_decay: 1e-05\\u003cbr\\u003epatience: 1\\u003cbr\\u003eclip_value: 100\",\"Arm 45_0\\u003cbr\\u003eloss: 102.5 (SEM: None)\\u003cbr\\u003elr: 0.0115151\\u003cbr\\u003ehidden_dim: 1024\\u003cbr\\u003eno_layers: 3\\u003cbr\\u003eweight_decay: 0.000196963\\u003cbr\\u003epatience: 1\\u003cbr\\u003eclip_value: 5.1\",\"Arm 46_0\\u003cbr\\u003eloss: 149.213 (SEM: None)\\u003cbr\\u003elr: 0.011732\\u003cbr\\u003ehidden_dim: 1024\\u003cbr\\u003eno_layers: 3\\u003cbr\\u003eweight_decay: 1e-05\\u003cbr\\u003epatience: 1\\u003cbr\\u003eclip_value: 11.6084\",\"Arm 47_0\\u003cbr\\u003eloss: 179.23 (SEM: None)\\u003cbr\\u003elr: 0.0118035\\u003cbr\\u003ehidden_dim: 1024\\u003cbr\\u003eno_layers: 3\\u003cbr\\u003eweight_decay: 0.001\\u003cbr\\u003epatience: 1\\u003cbr\\u003eclip_value: 5.1\",\"Arm 48_0\\u003cbr\\u003eloss: 155.004 (SEM: None)\\u003cbr\\u003elr: 0.0118241\\u003cbr\\u003ehidden_dim: 1024\\u003cbr\\u003eno_layers: 3\\u003cbr\\u003eweight_decay: 1e-05\\u003cbr\\u003epatience: 1\\u003cbr\\u003eclip_value: 84.3081\"],\"x\":[0.01338576635507605,0.00036946670552867275,1.3394099510552863e-06,0.02918334609135066,0.08932291828826357,9.166134875850755e-06,9.990801328027291e-05,0.0016189122686474477,0.0006558506971980711,4.058560685237218e-05,1.849970554608157e-05,0.17977863091167104,0.025613139007791216,0.042129894931057815,0.012719947589003737,0.017610001249152414,0.037240471582312924,0.013626007811920473,0.1018518134381904,0.4,0.02148567347198416,0.4,0.02154367845622449,0.03668001311163024,0.03543154276461078,0.015233898353467468,0.011793683943125154,0.024500923154632415,0.02520965977064923,0.04586106910212316,0.002505939197901352,0.04265272202225299,0.039050791056960965,0.03430369782072754,0.03283927337172228,0.0369446156582733,0.012457410547770758,0.026446406102686598,0.007016484267382949,0.0033503429372207325,0.0029980351999127704,0.017206355319683057,0.04289739674779848,0.009595835793707791,0.4,0.011515063961680016,0.011732002610735445,0.011803501057741656,0.01182414629841564],\"xaxis\":\"x2\",\"y\":[0.00030206075608730316,0.0006482587368041277,0.0001957284522149712,0.0008705774121638387,0.0009322678424883634,1.3669022796675564e-05,0.0005900672987662256,0.00048738509621471166,0.00010418986395001411,0.0009645538060553372,0.0003961164981033653,0.0005565803922060877,0.0006768628897878358,0.0004353088450405315,0.0009827048425922057,0.000634887898238549,0.0009174694695647512,0.0009535830138625649,0.001,0.00030286858339093075,0.001,0.001,0.001,0.001,0.0007807578473945011,0.0006947538175735833,0.0006131855554105212,0.001,0.001,0.001,0.001,0.0003343490549049016,1e-05,0.001,1e-05,0.001,1e-05,1e-05,0.001,1e-05,1e-05,1e-05,0.001,1e-05,1e-05,0.00019696278876426128,1e-05,0.001,1e-05],\"yaxis\":\"y2\",\"type\":\"scatter\"}],                        {\"annotations\":[{\"font\":{\"size\":14},\"showarrow\":false,\"text\":\"Mean\",\"x\":0.25,\"xanchor\":\"center\",\"xref\":\"paper\",\"y\":1,\"yanchor\":\"bottom\",\"yref\":\"paper\"},{\"font\":{\"size\":14},\"showarrow\":false,\"text\":\"Standard Error\",\"x\":0.8,\"xanchor\":\"center\",\"xref\":\"paper\",\"y\":1,\"yanchor\":\"bottom\",\"yref\":\"paper\"}],\"autosize\":false,\"height\":450,\"hovermode\":\"closest\",\"legend\":{\"orientation\":\"h\",\"x\":0,\"y\":-0.25},\"margin\":{\"b\":100,\"l\":35,\"pad\":0,\"r\":35,\"t\":35},\"template\":{\"data\":{\"barpolar\":[{\"marker\":{\"line\":{\"color\":\"#E5ECF6\",\"width\":0.5},\"pattern\":{\"fillmode\":\"overlay\",\"size\":10,\"solidity\":0.2}},\"type\":\"barpolar\"}],\"bar\":[{\"error_x\":{\"color\":\"#2a3f5f\"},\"error_y\":{\"color\":\"#2a3f5f\"},\"marker\":{\"line\":{\"color\":\"#E5ECF6\",\"width\":0.5},\"pattern\":{\"fillmode\":\"overlay\",\"size\":10,\"solidity\":0.2}},\"type\":\"bar\"}],\"carpet\":[{\"aaxis\":{\"endlinecolor\":\"#2a3f5f\",\"gridcolor\":\"white\",\"linecolor\":\"white\",\"minorgridcolor\":\"white\",\"startlinecolor\":\"#2a3f5f\"},\"baxis\":{\"endlinecolor\":\"#2a3f5f\",\"gridcolor\":\"white\",\"linecolor\":\"white\",\"minorgridcolor\":\"white\",\"startlinecolor\":\"#2a3f5f\"},\"type\":\"carpet\"}],\"choropleth\":[{\"colorbar\":{\"outlinewidth\":0,\"ticks\":\"\"},\"type\":\"choropleth\"}],\"contourcarpet\":[{\"colorbar\":{\"outlinewidth\":0,\"ticks\":\"\"},\"type\":\"contourcarpet\"}],\"contour\":[{\"colorbar\":{\"outlinewidth\":0,\"ticks\":\"\"},\"colorscale\":[[0.0,\"#0d0887\"],[0.1111111111111111,\"#46039f\"],[0.2222222222222222,\"#7201a8\"],[0.3333333333333333,\"#9c179e\"],[0.4444444444444444,\"#bd3786\"],[0.5555555555555556,\"#d8576b\"],[0.6666666666666666,\"#ed7953\"],[0.7777777777777778,\"#fb9f3a\"],[0.8888888888888888,\"#fdca26\"],[1.0,\"#f0f921\"]],\"type\":\"contour\"}],\"heatmapgl\":[{\"colorbar\":{\"outlinewidth\":0,\"ticks\":\"\"},\"colorscale\":[[0.0,\"#0d0887\"],[0.1111111111111111,\"#46039f\"],[0.2222222222222222,\"#7201a8\"],[0.3333333333333333,\"#9c179e\"],[0.4444444444444444,\"#bd3786\"],[0.5555555555555556,\"#d8576b\"],[0.6666666666666666,\"#ed7953\"],[0.7777777777777778,\"#fb9f3a\"],[0.8888888888888888,\"#fdca26\"],[1.0,\"#f0f921\"]],\"type\":\"heatmapgl\"}],\"heatmap\":[{\"colorbar\":{\"outlinewidth\":0,\"ticks\":\"\"},\"colorscale\":[[0.0,\"#0d0887\"],[0.1111111111111111,\"#46039f\"],[0.2222222222222222,\"#7201a8\"],[0.3333333333333333,\"#9c179e\"],[0.4444444444444444,\"#bd3786\"],[0.5555555555555556,\"#d8576b\"],[0.6666666666666666,\"#ed7953\"],[0.7777777777777778,\"#fb9f3a\"],[0.8888888888888888,\"#fdca26\"],[1.0,\"#f0f921\"]],\"type\":\"heatmap\"}],\"histogram2dcontour\":[{\"colorbar\":{\"outlinewidth\":0,\"ticks\":\"\"},\"colorscale\":[[0.0,\"#0d0887\"],[0.1111111111111111,\"#46039f\"],[0.2222222222222222,\"#7201a8\"],[0.3333333333333333,\"#9c179e\"],[0.4444444444444444,\"#bd3786\"],[0.5555555555555556,\"#d8576b\"],[0.6666666666666666,\"#ed7953\"],[0.7777777777777778,\"#fb9f3a\"],[0.8888888888888888,\"#fdca26\"],[1.0,\"#f0f921\"]],\"type\":\"histogram2dcontour\"}],\"histogram2d\":[{\"colorbar\":{\"outlinewidth\":0,\"ticks\":\"\"},\"colorscale\":[[0.0,\"#0d0887\"],[0.1111111111111111,\"#46039f\"],[0.2222222222222222,\"#7201a8\"],[0.3333333333333333,\"#9c179e\"],[0.4444444444444444,\"#bd3786\"],[0.5555555555555556,\"#d8576b\"],[0.6666666666666666,\"#ed7953\"],[0.7777777777777778,\"#fb9f3a\"],[0.8888888888888888,\"#fdca26\"],[1.0,\"#f0f921\"]],\"type\":\"histogram2d\"}],\"histogram\":[{\"marker\":{\"pattern\":{\"fillmode\":\"overlay\",\"size\":10,\"solidity\":0.2}},\"type\":\"histogram\"}],\"mesh3d\":[{\"colorbar\":{\"outlinewidth\":0,\"ticks\":\"\"},\"type\":\"mesh3d\"}],\"parcoords\":[{\"line\":{\"colorbar\":{\"outlinewidth\":0,\"ticks\":\"\"}},\"type\":\"parcoords\"}],\"pie\":[{\"automargin\":true,\"type\":\"pie\"}],\"scatter3d\":[{\"line\":{\"colorbar\":{\"outlinewidth\":0,\"ticks\":\"\"}},\"marker\":{\"colorbar\":{\"outlinewidth\":0,\"ticks\":\"\"}},\"type\":\"scatter3d\"}],\"scattercarpet\":[{\"marker\":{\"colorbar\":{\"outlinewidth\":0,\"ticks\":\"\"}},\"type\":\"scattercarpet\"}],\"scattergeo\":[{\"marker\":{\"colorbar\":{\"outlinewidth\":0,\"ticks\":\"\"}},\"type\":\"scattergeo\"}],\"scattergl\":[{\"marker\":{\"colorbar\":{\"outlinewidth\":0,\"ticks\":\"\"}},\"type\":\"scattergl\"}],\"scattermapbox\":[{\"marker\":{\"colorbar\":{\"outlinewidth\":0,\"ticks\":\"\"}},\"type\":\"scattermapbox\"}],\"scatterpolargl\":[{\"marker\":{\"colorbar\":{\"outlinewidth\":0,\"ticks\":\"\"}},\"type\":\"scatterpolargl\"}],\"scatterpolar\":[{\"marker\":{\"colorbar\":{\"outlinewidth\":0,\"ticks\":\"\"}},\"type\":\"scatterpolar\"}],\"scatter\":[{\"fillpattern\":{\"fillmode\":\"overlay\",\"size\":10,\"solidity\":0.2},\"type\":\"scatter\"}],\"scatterternary\":[{\"marker\":{\"colorbar\":{\"outlinewidth\":0,\"ticks\":\"\"}},\"type\":\"scatterternary\"}],\"surface\":[{\"colorbar\":{\"outlinewidth\":0,\"ticks\":\"\"},\"colorscale\":[[0.0,\"#0d0887\"],[0.1111111111111111,\"#46039f\"],[0.2222222222222222,\"#7201a8\"],[0.3333333333333333,\"#9c179e\"],[0.4444444444444444,\"#bd3786\"],[0.5555555555555556,\"#d8576b\"],[0.6666666666666666,\"#ed7953\"],[0.7777777777777778,\"#fb9f3a\"],[0.8888888888888888,\"#fdca26\"],[1.0,\"#f0f921\"]],\"type\":\"surface\"}],\"table\":[{\"cells\":{\"fill\":{\"color\":\"#EBF0F8\"},\"line\":{\"color\":\"white\"}},\"header\":{\"fill\":{\"color\":\"#C8D4E3\"},\"line\":{\"color\":\"white\"}},\"type\":\"table\"}]},\"layout\":{\"annotationdefaults\":{\"arrowcolor\":\"#2a3f5f\",\"arrowhead\":0,\"arrowwidth\":1},\"autotypenumbers\":\"strict\",\"coloraxis\":{\"colorbar\":{\"outlinewidth\":0,\"ticks\":\"\"}},\"colorscale\":{\"diverging\":[[0,\"#8e0152\"],[0.1,\"#c51b7d\"],[0.2,\"#de77ae\"],[0.3,\"#f1b6da\"],[0.4,\"#fde0ef\"],[0.5,\"#f7f7f7\"],[0.6,\"#e6f5d0\"],[0.7,\"#b8e186\"],[0.8,\"#7fbc41\"],[0.9,\"#4d9221\"],[1,\"#276419\"]],\"sequential\":[[0.0,\"#0d0887\"],[0.1111111111111111,\"#46039f\"],[0.2222222222222222,\"#7201a8\"],[0.3333333333333333,\"#9c179e\"],[0.4444444444444444,\"#bd3786\"],[0.5555555555555556,\"#d8576b\"],[0.6666666666666666,\"#ed7953\"],[0.7777777777777778,\"#fb9f3a\"],[0.8888888888888888,\"#fdca26\"],[1.0,\"#f0f921\"]],\"sequentialminus\":[[0.0,\"#0d0887\"],[0.1111111111111111,\"#46039f\"],[0.2222222222222222,\"#7201a8\"],[0.3333333333333333,\"#9c179e\"],[0.4444444444444444,\"#bd3786\"],[0.5555555555555556,\"#d8576b\"],[0.6666666666666666,\"#ed7953\"],[0.7777777777777778,\"#fb9f3a\"],[0.8888888888888888,\"#fdca26\"],[1.0,\"#f0f921\"]]},\"colorway\":[\"#636efa\",\"#EF553B\",\"#00cc96\",\"#ab63fa\",\"#FFA15A\",\"#19d3f3\",\"#FF6692\",\"#B6E880\",\"#FF97FF\",\"#FECB52\"],\"font\":{\"color\":\"#2a3f5f\"},\"geo\":{\"bgcolor\":\"white\",\"lakecolor\":\"white\",\"landcolor\":\"#E5ECF6\",\"showlakes\":true,\"showland\":true,\"subunitcolor\":\"white\"},\"hoverlabel\":{\"align\":\"left\"},\"hovermode\":\"closest\",\"mapbox\":{\"style\":\"light\"},\"paper_bgcolor\":\"white\",\"plot_bgcolor\":\"#E5ECF6\",\"polar\":{\"angularaxis\":{\"gridcolor\":\"white\",\"linecolor\":\"white\",\"ticks\":\"\"},\"bgcolor\":\"#E5ECF6\",\"radialaxis\":{\"gridcolor\":\"white\",\"linecolor\":\"white\",\"ticks\":\"\"}},\"scene\":{\"xaxis\":{\"backgroundcolor\":\"#E5ECF6\",\"gridcolor\":\"white\",\"gridwidth\":2,\"linecolor\":\"white\",\"showbackground\":true,\"ticks\":\"\",\"zerolinecolor\":\"white\"},\"yaxis\":{\"backgroundcolor\":\"#E5ECF6\",\"gridcolor\":\"white\",\"gridwidth\":2,\"linecolor\":\"white\",\"showbackground\":true,\"ticks\":\"\",\"zerolinecolor\":\"white\"},\"zaxis\":{\"backgroundcolor\":\"#E5ECF6\",\"gridcolor\":\"white\",\"gridwidth\":2,\"linecolor\":\"white\",\"showbackground\":true,\"ticks\":\"\",\"zerolinecolor\":\"white\"}},\"shapedefaults\":{\"line\":{\"color\":\"#2a3f5f\"}},\"ternary\":{\"aaxis\":{\"gridcolor\":\"white\",\"linecolor\":\"white\",\"ticks\":\"\"},\"baxis\":{\"gridcolor\":\"white\",\"linecolor\":\"white\",\"ticks\":\"\"},\"bgcolor\":\"#E5ECF6\",\"caxis\":{\"gridcolor\":\"white\",\"linecolor\":\"white\",\"ticks\":\"\"}},\"title\":{\"x\":0.05},\"xaxis\":{\"automargin\":true,\"gridcolor\":\"white\",\"linecolor\":\"white\",\"ticks\":\"\",\"title\":{\"standoff\":15},\"zerolinecolor\":\"white\",\"zerolinewidth\":2},\"yaxis\":{\"automargin\":true,\"gridcolor\":\"white\",\"linecolor\":\"white\",\"ticks\":\"\",\"title\":{\"standoff\":15},\"zerolinecolor\":\"white\",\"zerolinewidth\":2}}},\"title\":{\"text\":\"loss\"},\"width\":950,\"xaxis\":{\"anchor\":\"y\",\"autorange\":false,\"domain\":[0.05,0.45],\"exponentformat\":\"e\",\"range\":[-6.0,-0.39794000867203766],\"tickfont\":{\"size\":11},\"tickmode\":\"auto\",\"title\":{\"text\":\"lr\"},\"type\":\"log\"},\"yaxis\":{\"anchor\":\"x\",\"autorange\":false,\"domain\":[0,1],\"exponentformat\":\"e\",\"range\":[1e-05,0.001],\"tickfont\":{\"size\":11},\"tickmode\":\"auto\",\"title\":{\"text\":\"weight_decay\"},\"type\":\"linear\"},\"xaxis2\":{\"anchor\":\"y2\",\"autorange\":false,\"domain\":[0.6,1],\"exponentformat\":\"e\",\"range\":[-6.0,-0.39794000867203766],\"tickfont\":{\"size\":11},\"tickmode\":\"auto\",\"title\":{\"text\":\"lr\"},\"type\":\"log\"},\"yaxis2\":{\"anchor\":\"x2\",\"autorange\":false,\"domain\":[0,1],\"exponentformat\":\"e\",\"range\":[1e-05,0.001],\"tickfont\":{\"size\":11},\"tickmode\":\"auto\",\"type\":\"linear\"}},                        {\"responsive\": true}                    ).then(function(){\n",
              "                            \n",
              "var gd = document.getElementById('6a7fe130-2bb8-4b05-98ee-984444d8e586');\n",
              "var x = new MutationObserver(function (mutations, observer) {{\n",
              "        var display = window.getComputedStyle(gd).display;\n",
              "        if (!display || display === 'none') {{\n",
              "            console.log([gd, 'removed!']);\n",
              "            Plotly.purge(gd);\n",
              "            observer.disconnect();\n",
              "        }}\n",
              "}});\n",
              "\n",
              "// Listen for the removal of the full notebook cells\n",
              "var notebookContainer = gd.closest('#notebook-container');\n",
              "if (notebookContainer) {{\n",
              "    x.observe(notebookContainer, {childList: true});\n",
              "}}\n",
              "\n",
              "// Listen for the clearing of the current output cell\n",
              "var outputEl = gd.closest('.output');\n",
              "if (outputEl) {{\n",
              "    x.observe(outputEl, {childList: true});\n",
              "}}\n",
              "\n",
              "                        })                };                            </script>        </div>\n",
              "</body>\n",
              "</html>"
            ]
          },
          "metadata": {}
        }
      ]
    },
    {
      "cell_type": "code",
      "source": [
        "render(\n",
        "    ax_client.get_optimization_trace()\n",
        ")"
      ],
      "metadata": {
        "colab": {
          "base_uri": "https://localhost:8080/",
          "height": 542
        },
        "id": "XNpYxFjNWQMe",
        "outputId": "3591c925-32ee-41a1-b9b3-ec0626855816"
      },
      "execution_count": null,
      "outputs": [
        {
          "output_type": "display_data",
          "data": {
            "text/html": [
              "<html>\n",
              "<head><meta charset=\"utf-8\" /></head>\n",
              "<body>\n",
              "    <div>            <script src=\"https://cdnjs.cloudflare.com/ajax/libs/mathjax/2.7.5/MathJax.js?config=TeX-AMS-MML_SVG\"></script><script type=\"text/javascript\">if (window.MathJax && window.MathJax.Hub && window.MathJax.Hub.Config) {window.MathJax.Hub.Config({SVG: {font: \"STIX-Web\"}});}</script>                <script type=\"text/javascript\">window.PlotlyConfig = {MathJaxConfig: 'local'};</script>\n",
              "        <script charset=\"utf-8\" src=\"https://cdn.plot.ly/plotly-2.35.2.min.js\"></script>                <div id=\"af8af86f-626e-4fbc-b3d6-8cd6d3077237\" class=\"plotly-graph-div\" style=\"height:525px; width:100%;\"></div>            <script type=\"text/javascript\">                                    window.PLOTLYENV=window.PLOTLYENV || {};                                    if (document.getElementById(\"af8af86f-626e-4fbc-b3d6-8cd6d3077237\")) {                    Plotly.newPlot(                        \"af8af86f-626e-4fbc-b3d6-8cd6d3077237\",                        [{\"hoverinfo\":\"none\",\"legendgroup\":\"\",\"line\":{\"width\":0},\"mode\":\"lines\",\"showlegend\":false,\"x\":[1,2,3,4,5,6,7,8,9,10,11,12,13,14,15,16,17,18,19,20,21,22,23,24,25,26,27,28,29,30,31,32,33,34,35,36,37,38,39,40,41,42,43,44,45,46,47,48,49,50],\"y\":[493.7222412109375,493.7222412109375,493.7222412109375,223.14601135253906,223.14601135253906,223.14601135253906,223.14601135253906,223.14601135253906,223.14601135253906,223.14601135253906,223.14601135253906,223.14601135253906,122.56061248779297,122.56061248779297,122.56061248779297,122.56061248779297,122.56061248779297,122.56061248779297,122.56061248779297,122.56061248779297,122.56061248779297,122.56061248779297,122.56061248779297,122.56061248779297,122.56061248779297,122.56061248779297,122.56061248779297,122.56061248779297,122.56061248779297,122.56061248779297,122.56061248779297,122.56061248779297,122.56061248779297,122.56061248779297,122.56061248779297,122.56061248779297,122.56061248779297,122.56061248779297,122.56061248779297,122.56061248779297,122.56061248779297,122.56061248779297,122.56061248779297,121.28131561279297,121.28131561279297,102.50035552978515,102.50035552978515,102.50035552978515,102.50035552978515,102.50035552978515],\"type\":\"scatter\"},{\"fill\":\"tonexty\",\"fillcolor\":\"rgba(128,177,211,0.3)\",\"legendgroup\":\"objective value\",\"line\":{\"color\":\"rgba(128,177,211,1)\"},\"mode\":\"lines\",\"name\":\"objective value\",\"text\":[\"\\u003cbr\\u003e\\u003cem\\u003eParameterization:\\u003c\\u002fem\\u003e\\u003cbr\\u003elr: 0.01338576635507605\\u003cbr\\u003ehidden_dim: 256\\u003cbr\\u003eno_layers: 3\\u003cbr\\u003eweight_decay: 0.00030206075608730316\\u003cbr\\u003epatience: 6\\u003cbr\\u003eclip_value: 83.63147386908531\",\"\\u003cbr\\u003e\\u003cem\\u003eParameterization:\\u003c\\u002fem\\u003e\\u003cbr\\u003elr: 0.00036946670552867275\\u003cbr\\u003ehidden_dim: 1024\\u003cbr\\u003eno_layers: 5\\u003cbr\\u003eweight_decay: 0.0006482587368041277\\u003cbr\\u003epatience: 4\\u003cbr\\u003eclip_value: 41.44493070654571\",\"\\u003cbr\\u003e\\u003cem\\u003eParameterization:\\u003c\\u002fem\\u003e\\u003cbr\\u003elr: 1.3394099510552863e-06\\u003cbr\\u003ehidden_dim: 256\\u003cbr\\u003eno_layers: 4\\u003cbr\\u003eweight_decay: 0.0001957284522149712\\u003cbr\\u003epatience: 1\\u003cbr\\u003eclip_value: 22.814624406863004\",\"\\u003cbr\\u003e\\u003cem\\u003eParameterization:\\u003c\\u002fem\\u003e\\u003cbr\\u003elr: 0.02918334609135066\\u003cbr\\u003ehidden_dim: 512\\u003cbr\\u003eno_layers: 4\\u003cbr\\u003eweight_decay: 0.0008705774121638387\\u003cbr\\u003epatience: 9\\u003cbr\\u003eclip_value: 63.709379551839085\",\"\\u003cbr\\u003e\\u003cem\\u003eParameterization:\\u003c\\u002fem\\u003e\\u003cbr\\u003elr: 0.08932291828826357\\u003cbr\\u003ehidden_dim: 512\\u003cbr\\u003eno_layers: 5\\u003cbr\\u003eweight_decay: 0.0009322678424883634\\u003cbr\\u003epatience: 10\\u003cbr\\u003eclip_value: 92.9888263542205\",\"\\u003cbr\\u003e\\u003cem\\u003eParameterization:\\u003c\\u002fem\\u003e\\u003cbr\\u003elr: 9.166134875850755e-06\\u003cbr\\u003ehidden_dim: 512\\u003cbr\\u003eno_layers: 3\\u003cbr\\u003eweight_decay: 1.3669022796675564e-05\\u003cbr\\u003epatience: 2\\u003cbr\\u003eclip_value: 39.49005642551929\",\"\\u003cbr\\u003e\\u003cem\\u003eParameterization:\\u003c\\u002fem\\u003e\\u003cbr\\u003elr: 9.990801328027291e-05\\u003cbr\\u003ehidden_dim: 256\\u003cbr\\u003eno_layers: 5\\u003cbr\\u003eweight_decay: 0.0005900672987662256\\u003cbr\\u003epatience: 5\\u003cbr\\u003eclip_value: 11.412602068763226\",\"\\u003cbr\\u003e\\u003cem\\u003eParameterization:\\u003c\\u002fem\\u003e\\u003cbr\\u003elr: 0.0016189122686474477\\u003cbr\\u003ehidden_dim: 1024\\u003cbr\\u003eno_layers: 3\\u003cbr\\u003eweight_decay: 0.00048738509621471166\\u003cbr\\u003epatience: 7\\u003cbr\\u003eclip_value: 64.72012991728262\",\"\\u003cbr\\u003e\\u003cem\\u003eParameterization:\\u003c\\u002fem\\u003e\\u003cbr\\u003elr: 0.0006558506971980711\\u003cbr\\u003ehidden_dim: 512\\u003cbr\\u003eno_layers: 4\\u003cbr\\u003eweight_decay: 0.00010418986395001411\\u003cbr\\u003epatience: 3\\u003cbr\\u003eclip_value: 55.37816845122725\",\"\\u003cbr\\u003e\\u003cem\\u003eParameterization:\\u003c\\u002fem\\u003e\\u003cbr\\u003elr: 4.058560685237218e-05\\u003cbr\\u003ehidden_dim: 1024\\u003cbr\\u003eno_layers: 3\\u003cbr\\u003eweight_decay: 0.0009645538060553372\\u003cbr\\u003epatience: 7\\u003cbr\\u003eclip_value: 25.2833681371063\",\"\\u003cbr\\u003e\\u003cem\\u003eParameterization:\\u003c\\u002fem\\u003e\\u003cbr\\u003elr: 1.849970554608157e-05\\u003cbr\\u003ehidden_dim: 256\\u003cbr\\u003eno_layers: 5\\u003cbr\\u003eweight_decay: 0.0003961164981033653\\u003cbr\\u003epatience: 8\\u003cbr\\u003eclip_value: 50.95199759947136\",\"\\u003cbr\\u003e\\u003cem\\u003eParameterization:\\u003c\\u002fem\\u003e\\u003cbr\\u003elr: 0.17977863091167104\\u003cbr\\u003ehidden_dim: 1024\\u003cbr\\u003eno_layers: 3\\u003cbr\\u003eweight_decay: 0.0005565803922060877\\u003cbr\\u003epatience: 1\\u003cbr\\u003eclip_value: 80.12588819516823\",\"\\u003cbr\\u003e\\u003cem\\u003eParameterization:\\u003c\\u002fem\\u003e\\u003cbr\\u003elr: 0.025613139007791216\\u003cbr\\u003ehidden_dim: 1024\\u003cbr\\u003eno_layers: 3\\u003cbr\\u003eweight_decay: 0.0006768628897878358\\u003cbr\\u003epatience: 2\\u003cbr\\u003eclip_value: 54.075772859629055\",\"\\u003cbr\\u003e\\u003cem\\u003eParameterization:\\u003c\\u002fem\\u003e\\u003cbr\\u003elr: 0.042129894931057815\\u003cbr\\u003ehidden_dim: 1024\\u003cbr\\u003eno_layers: 3\\u003cbr\\u003eweight_decay: 0.0004353088450405315\\u003cbr\\u003epatience: 10\\u003cbr\\u003eclip_value: 63.02106560109937\",\"\\u003cbr\\u003e\\u003cem\\u003eParameterization:\\u003c\\u002fem\\u003e\\u003cbr\\u003elr: 0.012719947589003737\\u003cbr\\u003ehidden_dim: 1024\\u003cbr\\u003eno_layers: 3\\u003cbr\\u003eweight_decay: 0.0009827048425922057\\u003cbr\\u003epatience: 1\\u003cbr\\u003eclip_value: 73.48671995835971\",\"\\u003cbr\\u003e\\u003cem\\u003eParameterization:\\u003c\\u002fem\\u003e\\u003cbr\\u003elr: 0.017610001249152414\\u003cbr\\u003ehidden_dim: 1024\\u003cbr\\u003eno_layers: 3\\u003cbr\\u003eweight_decay: 0.000634887898238549\\u003cbr\\u003epatience: 1\\u003cbr\\u003eclip_value: 70.29925114999412\",\"\\u003cbr\\u003e\\u003cem\\u003eParameterization:\\u003c\\u002fem\\u003e\\u003cbr\\u003elr: 0.037240471582312924\\u003cbr\\u003ehidden_dim: 256\\u003cbr\\u003eno_layers: 3\\u003cbr\\u003eweight_decay: 0.0009174694695647512\\u003cbr\\u003epatience: 6\\u003cbr\\u003eclip_value: 62.63596764800987\",\"\\u003cbr\\u003e\\u003cem\\u003eParameterization:\\u003c\\u002fem\\u003e\\u003cbr\\u003elr: 0.013626007811920473\\u003cbr\\u003ehidden_dim: 1024\\u003cbr\\u003eno_layers: 3\\u003cbr\\u003eweight_decay: 0.0009535830138625649\\u003cbr\\u003epatience: 7\\u003cbr\\u003eclip_value: 60.498778676593034\",\"\\u003cbr\\u003e\\u003cem\\u003eParameterization:\\u003c\\u002fem\\u003e\\u003cbr\\u003elr: 0.1018518134381904\\u003cbr\\u003ehidden_dim: 1024\\u003cbr\\u003eno_layers: 5\\u003cbr\\u003eweight_decay: 0.001\\u003cbr\\u003epatience: 1\\u003cbr\\u003eclip_value: 23.330478719780793\",\"\\u003cbr\\u003e\\u003cem\\u003eParameterization:\\u003c\\u002fem\\u003e\\u003cbr\\u003elr: 0.4\\u003cbr\\u003ehidden_dim: 256\\u003cbr\\u003eno_layers: 4\\u003cbr\\u003eweight_decay: 0.00030286858339093075\\u003cbr\\u003epatience: 1\\u003cbr\\u003eclip_value: 37.26011582957451\",\"\\u003cbr\\u003e\\u003cem\\u003eParameterization:\\u003c\\u002fem\\u003e\\u003cbr\\u003elr: 0.02148567347198416\\u003cbr\\u003ehidden_dim: 1024\\u003cbr\\u003eno_layers: 4\\u003cbr\\u003eweight_decay: 0.001\\u003cbr\\u003epatience: 1\\u003cbr\\u003eclip_value: 47.38556548147318\",\"\\u003cbr\\u003e\\u003cem\\u003eParameterization:\\u003c\\u002fem\\u003e\\u003cbr\\u003elr: 0.4\\u003cbr\\u003ehidden_dim: 1024\\u003cbr\\u003eno_layers: 3\\u003cbr\\u003eweight_decay: 0.001\\u003cbr\\u003epatience: 10\\u003cbr\\u003eclip_value: 38.59520353155174\",\"\\u003cbr\\u003e\\u003cem\\u003eParameterization:\\u003c\\u002fem\\u003e\\u003cbr\\u003elr: 0.02154367845622449\\u003cbr\\u003ehidden_dim: 1024\\u003cbr\\u003eno_layers: 5\\u003cbr\\u003eweight_decay: 0.001\\u003cbr\\u003epatience: 10\\u003cbr\\u003eclip_value: 33.20176687276549\",\"\\u003cbr\\u003e\\u003cem\\u003eParameterization:\\u003c\\u002fem\\u003e\\u003cbr\\u003elr: 0.03668001311163024\\u003cbr\\u003ehidden_dim: 256\\u003cbr\\u003eno_layers: 5\\u003cbr\\u003eweight_decay: 0.001\\u003cbr\\u003epatience: 1\\u003cbr\\u003eclip_value: 34.75882546576993\",\"\\u003cbr\\u003e\\u003cem\\u003eParameterization:\\u003c\\u002fem\\u003e\\u003cbr\\u003elr: 0.03543154276461078\\u003cbr\\u003ehidden_dim: 1024\\u003cbr\\u003eno_layers: 5\\u003cbr\\u003eweight_decay: 0.0007807578473945011\\u003cbr\\u003epatience: 1\\u003cbr\\u003eclip_value: 37.93090632067195\",\"\\u003cbr\\u003e\\u003cem\\u003eParameterization:\\u003c\\u002fem\\u003e\\u003cbr\\u003elr: 0.015233898353467468\\u003cbr\\u003ehidden_dim: 256\\u003cbr\\u003eno_layers: 3\\u003cbr\\u003eweight_decay: 0.0006947538175735833\\u003cbr\\u003epatience: 1\\u003cbr\\u003eclip_value: 71.16169197741577\",\"\\u003cbr\\u003e\\u003cem\\u003eParameterization:\\u003c\\u002fem\\u003e\\u003cbr\\u003elr: 0.011793683943125154\\u003cbr\\u003ehidden_dim: 1024\\u003cbr\\u003eno_layers: 3\\u003cbr\\u003eweight_decay: 0.0006131855554105212\\u003cbr\\u003epatience: 10\\u003cbr\\u003eclip_value: 81.53215281736536\",\"\\u003cbr\\u003e\\u003cem\\u003eParameterization:\\u003c\\u002fem\\u003e\\u003cbr\\u003elr: 0.024500923154632415\\u003cbr\\u003ehidden_dim: 1024\\u003cbr\\u003eno_layers: 5\\u003cbr\\u003eweight_decay: 0.001\\u003cbr\\u003epatience: 1\\u003cbr\\u003eclip_value: 36.92743117403042\",\"\\u003cbr\\u003e\\u003cem\\u003eParameterization:\\u003c\\u002fem\\u003e\\u003cbr\\u003elr: 0.02520965977064923\\u003cbr\\u003ehidden_dim: 1024\\u003cbr\\u003eno_layers: 5\\u003cbr\\u003eweight_decay: 0.001\\u003cbr\\u003epatience: 1\\u003cbr\\u003eclip_value: 5.1\",\"\\u003cbr\\u003e\\u003cem\\u003eParameterization:\\u003c\\u002fem\\u003e\\u003cbr\\u003elr: 0.04586106910212316\\u003cbr\\u003ehidden_dim: 256\\u003cbr\\u003eno_layers: 5\\u003cbr\\u003eweight_decay: 0.001\\u003cbr\\u003epatience: 9\\u003cbr\\u003eclip_value: 5.1\",\"\\u003cbr\\u003e\\u003cem\\u003eParameterization:\\u003c\\u002fem\\u003e\\u003cbr\\u003elr: 0.002505939197901352\\u003cbr\\u003ehidden_dim: 1024\\u003cbr\\u003eno_layers: 3\\u003cbr\\u003eweight_decay: 0.001\\u003cbr\\u003epatience: 10\\u003cbr\\u003eclip_value: 100.0\",\"\\u003cbr\\u003e\\u003cem\\u003eParameterization:\\u003c\\u002fem\\u003e\\u003cbr\\u003elr: 0.04265272202225299\\u003cbr\\u003ehidden_dim: 1024\\u003cbr\\u003eno_layers: 5\\u003cbr\\u003eweight_decay: 0.0003343490549049016\\u003cbr\\u003epatience: 1\\u003cbr\\u003eclip_value: 5.1\",\"\\u003cbr\\u003e\\u003cem\\u003eParameterization:\\u003c\\u002fem\\u003e\\u003cbr\\u003elr: 0.039050791056960965\\u003cbr\\u003ehidden_dim: 512\\u003cbr\\u003eno_layers: 4\\u003cbr\\u003eweight_decay: 1e-05\\u003cbr\\u003epatience: 1\\u003cbr\\u003eclip_value: 34.644315491690215\",\"\\u003cbr\\u003e\\u003cem\\u003eParameterization:\\u003c\\u002fem\\u003e\\u003cbr\\u003elr: 0.03430369782072754\\u003cbr\\u003ehidden_dim: 1024\\u003cbr\\u003eno_layers: 3\\u003cbr\\u003eweight_decay: 0.001\\u003cbr\\u003epatience: 1\\u003cbr\\u003eclip_value: 61.959941363141034\",\"\\u003cbr\\u003e\\u003cem\\u003eParameterization:\\u003c\\u002fem\\u003e\\u003cbr\\u003elr: 0.03283927337172228\\u003cbr\\u003ehidden_dim: 1024\\u003cbr\\u003eno_layers: 5\\u003cbr\\u003eweight_decay: 1e-05\\u003cbr\\u003epatience: 1\\u003cbr\\u003eclip_value: 27.8573226550753\",\"\\u003cbr\\u003e\\u003cem\\u003eParameterization:\\u003c\\u002fem\\u003e\\u003cbr\\u003elr: 0.0369446156582733\\u003cbr\\u003ehidden_dim: 1024\\u003cbr\\u003eno_layers: 4\\u003cbr\\u003eweight_decay: 0.001\\u003cbr\\u003epatience: 1\\u003cbr\\u003eclip_value: 28.073910602393653\",\"\\u003cbr\\u003e\\u003cem\\u003eParameterization:\\u003c\\u002fem\\u003e\\u003cbr\\u003elr: 0.012457410547770758\\u003cbr\\u003ehidden_dim: 256\\u003cbr\\u003eno_layers: 3\\u003cbr\\u003eweight_decay: 1e-05\\u003cbr\\u003epatience: 1\\u003cbr\\u003eclip_value: 5.1\",\"\\u003cbr\\u003e\\u003cem\\u003eParameterization:\\u003c\\u002fem\\u003e\\u003cbr\\u003elr: 0.026446406102686598\\u003cbr\\u003ehidden_dim: 1024\\u003cbr\\u003eno_layers: 3\\u003cbr\\u003eweight_decay: 1e-05\\u003cbr\\u003epatience: 10\\u003cbr\\u003eclip_value: 5.1\",\"\\u003cbr\\u003e\\u003cem\\u003eParameterization:\\u003c\\u002fem\\u003e\\u003cbr\\u003elr: 0.007016484267382949\\u003cbr\\u003ehidden_dim: 1024\\u003cbr\\u003eno_layers: 3\\u003cbr\\u003eweight_decay: 0.001\\u003cbr\\u003epatience: 10\\u003cbr\\u003eclip_value: 5.1\",\"\\u003cbr\\u003e\\u003cem\\u003eParameterization:\\u003c\\u002fem\\u003e\\u003cbr\\u003elr: 0.0033503429372207325\\u003cbr\\u003ehidden_dim: 1024\\u003cbr\\u003eno_layers: 3\\u003cbr\\u003eweight_decay: 1e-05\\u003cbr\\u003epatience: 2\\u003cbr\\u003eclip_value: 100.0\",\"\\u003cbr\\u003e\\u003cem\\u003eParameterization:\\u003c\\u002fem\\u003e\\u003cbr\\u003elr: 0.0029980351999127704\\u003cbr\\u003ehidden_dim: 256\\u003cbr\\u003eno_layers: 5\\u003cbr\\u003eweight_decay: 1e-05\\u003cbr\\u003epatience: 5\\u003cbr\\u003eclip_value: 5.1\",\"\\u003cbr\\u003e\\u003cem\\u003eParameterization:\\u003c\\u002fem\\u003e\\u003cbr\\u003elr: 0.017206355319683057\\u003cbr\\u003ehidden_dim: 1024\\u003cbr\\u003eno_layers: 3\\u003cbr\\u003eweight_decay: 1e-05\\u003cbr\\u003epatience: 1\\u003cbr\\u003eclip_value: 100.0\",\"\\u003cbr\\u003e\\u003cem\\u003eParameterization:\\u003c\\u002fem\\u003e\\u003cbr\\u003elr: 0.04289739674779848\\u003cbr\\u003ehidden_dim: 256\\u003cbr\\u003eno_layers: 4\\u003cbr\\u003eweight_decay: 0.001\\u003cbr\\u003epatience: 1\\u003cbr\\u003eclip_value: 50.94938426734766\",\"\\u003cbr\\u003e\\u003cem\\u003eParameterization:\\u003c\\u002fem\\u003e\\u003cbr\\u003elr: 0.009595835793707791\\u003cbr\\u003ehidden_dim: 1024\\u003cbr\\u003eno_layers: 3\\u003cbr\\u003eweight_decay: 1e-05\\u003cbr\\u003epatience: 1\\u003cbr\\u003eclip_value: 5.1\",\"\\u003cbr\\u003e\\u003cem\\u003eParameterization:\\u003c\\u002fem\\u003e\\u003cbr\\u003elr: 0.4\\u003cbr\\u003ehidden_dim: 256\\u003cbr\\u003eno_layers: 3\\u003cbr\\u003eweight_decay: 1e-05\\u003cbr\\u003epatience: 1\\u003cbr\\u003eclip_value: 100.0\",\"\\u003cbr\\u003e\\u003cem\\u003eParameterization:\\u003c\\u002fem\\u003e\\u003cbr\\u003elr: 0.011515063961680016\\u003cbr\\u003ehidden_dim: 1024\\u003cbr\\u003eno_layers: 3\\u003cbr\\u003eweight_decay: 0.00019696278876426128\\u003cbr\\u003epatience: 1\\u003cbr\\u003eclip_value: 5.1\",\"\\u003cbr\\u003e\\u003cem\\u003eParameterization:\\u003c\\u002fem\\u003e\\u003cbr\\u003elr: 0.011732002610735445\\u003cbr\\u003ehidden_dim: 1024\\u003cbr\\u003eno_layers: 3\\u003cbr\\u003eweight_decay: 1e-05\\u003cbr\\u003epatience: 1\\u003cbr\\u003eclip_value: 11.608371062127862\",\"\\u003cbr\\u003e\\u003cem\\u003eParameterization:\\u003c\\u002fem\\u003e\\u003cbr\\u003elr: 0.011803501057741656\\u003cbr\\u003ehidden_dim: 1024\\u003cbr\\u003eno_layers: 3\\u003cbr\\u003eweight_decay: 0.001\\u003cbr\\u003epatience: 1\\u003cbr\\u003eclip_value: 5.1\",\"\\u003cbr\\u003e\\u003cem\\u003eParameterization:\\u003c\\u002fem\\u003e\\u003cbr\\u003elr: 0.01182414629841564\\u003cbr\\u003ehidden_dim: 1024\\u003cbr\\u003eno_layers: 3\\u003cbr\\u003eweight_decay: 1e-05\\u003cbr\\u003epatience: 1\\u003cbr\\u003eclip_value: 84.30810080363844\",\"\\u003cbr\\u003e\\u003cem\\u003eParameterization:\\u003c\\u002fem\\u003e\\u003cbr\\u003elr: 0.01137871190292299\\u003cbr\\u003ehidden_dim: 1024\\u003cbr\\u003eno_layers: 4\\u003cbr\\u003eweight_decay: 0.001\\u003cbr\\u003epatience: 10\\u003cbr\\u003eclip_value: 43.32084588541372\"],\"x\":[1,2,3,4,5,6,7,8,9,10,11,12,13,14,15,16,17,18,19,20,21,22,23,24,25,26,27,28,29,30,31,32,33,34,35,36,37,38,39,40,41,42,43,44,45,46,47,48,49,50],\"y\":[493.7222412109375,493.7222412109375,493.7222412109375,223.14601135253906,223.14601135253906,223.14601135253906,223.14601135253906,223.14601135253906,223.14601135253906,223.14601135253906,223.14601135253906,223.14601135253906,122.56061248779297,122.56061248779297,122.56061248779297,122.56061248779297,122.56061248779297,122.56061248779297,122.56061248779297,122.56061248779297,122.56061248779297,122.56061248779297,122.56061248779297,122.56061248779297,122.56061248779297,122.56061248779297,122.56061248779297,122.56061248779297,122.56061248779297,122.56061248779297,122.56061248779297,122.56061248779297,122.56061248779297,122.56061248779297,122.56061248779297,122.56061248779297,122.56061248779297,122.56061248779297,122.56061248779297,122.56061248779297,122.56061248779297,122.56061248779297,122.56061248779297,121.28131561279297,121.28131561279297,102.50035552978515,102.50035552978515,102.50035552978515,102.50035552978515,102.50035552978515],\"type\":\"scatter\"},{\"fill\":\"tonexty\",\"fillcolor\":\"rgba(128,177,211,0.3)\",\"hoverinfo\":\"none\",\"legendgroup\":\"\",\"line\":{\"width\":0},\"mode\":\"lines\",\"showlegend\":false,\"x\":[1,2,3,4,5,6,7,8,9,10,11,12,13,14,15,16,17,18,19,20,21,22,23,24,25,26,27,28,29,30,31,32,33,34,35,36,37,38,39,40,41,42,43,44,45,46,47,48,49,50],\"y\":[493.7222412109375,493.7222412109375,493.7222412109375,223.14601135253906,223.14601135253906,223.14601135253906,223.14601135253906,223.14601135253906,223.14601135253906,223.14601135253906,223.14601135253906,223.14601135253906,122.56061248779297,122.56061248779297,122.56061248779297,122.56061248779297,122.56061248779297,122.56061248779297,122.56061248779297,122.56061248779297,122.56061248779297,122.56061248779297,122.56061248779297,122.56061248779297,122.56061248779297,122.56061248779297,122.56061248779297,122.56061248779297,122.56061248779297,122.56061248779297,122.56061248779297,122.56061248779297,122.56061248779297,122.56061248779297,122.56061248779297,122.56061248779297,122.56061248779297,122.56061248779297,122.56061248779297,122.56061248779297,122.56061248779297,122.56061248779297,122.56061248779297,121.28131561279297,121.28131561279297,102.50035552978515,102.50035552978515,102.50035552978515,102.50035552978515,102.50035552978515],\"type\":\"scatter\"}],                        {\"showlegend\":true,\"template\":{\"data\":{\"barpolar\":[{\"marker\":{\"line\":{\"color\":\"#E5ECF6\",\"width\":0.5},\"pattern\":{\"fillmode\":\"overlay\",\"size\":10,\"solidity\":0.2}},\"type\":\"barpolar\"}],\"bar\":[{\"error_x\":{\"color\":\"#2a3f5f\"},\"error_y\":{\"color\":\"#2a3f5f\"},\"marker\":{\"line\":{\"color\":\"#E5ECF6\",\"width\":0.5},\"pattern\":{\"fillmode\":\"overlay\",\"size\":10,\"solidity\":0.2}},\"type\":\"bar\"}],\"carpet\":[{\"aaxis\":{\"endlinecolor\":\"#2a3f5f\",\"gridcolor\":\"white\",\"linecolor\":\"white\",\"minorgridcolor\":\"white\",\"startlinecolor\":\"#2a3f5f\"},\"baxis\":{\"endlinecolor\":\"#2a3f5f\",\"gridcolor\":\"white\",\"linecolor\":\"white\",\"minorgridcolor\":\"white\",\"startlinecolor\":\"#2a3f5f\"},\"type\":\"carpet\"}],\"choropleth\":[{\"colorbar\":{\"outlinewidth\":0,\"ticks\":\"\"},\"type\":\"choropleth\"}],\"contourcarpet\":[{\"colorbar\":{\"outlinewidth\":0,\"ticks\":\"\"},\"type\":\"contourcarpet\"}],\"contour\":[{\"colorbar\":{\"outlinewidth\":0,\"ticks\":\"\"},\"colorscale\":[[0.0,\"#0d0887\"],[0.1111111111111111,\"#46039f\"],[0.2222222222222222,\"#7201a8\"],[0.3333333333333333,\"#9c179e\"],[0.4444444444444444,\"#bd3786\"],[0.5555555555555556,\"#d8576b\"],[0.6666666666666666,\"#ed7953\"],[0.7777777777777778,\"#fb9f3a\"],[0.8888888888888888,\"#fdca26\"],[1.0,\"#f0f921\"]],\"type\":\"contour\"}],\"heatmapgl\":[{\"colorbar\":{\"outlinewidth\":0,\"ticks\":\"\"},\"colorscale\":[[0.0,\"#0d0887\"],[0.1111111111111111,\"#46039f\"],[0.2222222222222222,\"#7201a8\"],[0.3333333333333333,\"#9c179e\"],[0.4444444444444444,\"#bd3786\"],[0.5555555555555556,\"#d8576b\"],[0.6666666666666666,\"#ed7953\"],[0.7777777777777778,\"#fb9f3a\"],[0.8888888888888888,\"#fdca26\"],[1.0,\"#f0f921\"]],\"type\":\"heatmapgl\"}],\"heatmap\":[{\"colorbar\":{\"outlinewidth\":0,\"ticks\":\"\"},\"colorscale\":[[0.0,\"#0d0887\"],[0.1111111111111111,\"#46039f\"],[0.2222222222222222,\"#7201a8\"],[0.3333333333333333,\"#9c179e\"],[0.4444444444444444,\"#bd3786\"],[0.5555555555555556,\"#d8576b\"],[0.6666666666666666,\"#ed7953\"],[0.7777777777777778,\"#fb9f3a\"],[0.8888888888888888,\"#fdca26\"],[1.0,\"#f0f921\"]],\"type\":\"heatmap\"}],\"histogram2dcontour\":[{\"colorbar\":{\"outlinewidth\":0,\"ticks\":\"\"},\"colorscale\":[[0.0,\"#0d0887\"],[0.1111111111111111,\"#46039f\"],[0.2222222222222222,\"#7201a8\"],[0.3333333333333333,\"#9c179e\"],[0.4444444444444444,\"#bd3786\"],[0.5555555555555556,\"#d8576b\"],[0.6666666666666666,\"#ed7953\"],[0.7777777777777778,\"#fb9f3a\"],[0.8888888888888888,\"#fdca26\"],[1.0,\"#f0f921\"]],\"type\":\"histogram2dcontour\"}],\"histogram2d\":[{\"colorbar\":{\"outlinewidth\":0,\"ticks\":\"\"},\"colorscale\":[[0.0,\"#0d0887\"],[0.1111111111111111,\"#46039f\"],[0.2222222222222222,\"#7201a8\"],[0.3333333333333333,\"#9c179e\"],[0.4444444444444444,\"#bd3786\"],[0.5555555555555556,\"#d8576b\"],[0.6666666666666666,\"#ed7953\"],[0.7777777777777778,\"#fb9f3a\"],[0.8888888888888888,\"#fdca26\"],[1.0,\"#f0f921\"]],\"type\":\"histogram2d\"}],\"histogram\":[{\"marker\":{\"pattern\":{\"fillmode\":\"overlay\",\"size\":10,\"solidity\":0.2}},\"type\":\"histogram\"}],\"mesh3d\":[{\"colorbar\":{\"outlinewidth\":0,\"ticks\":\"\"},\"type\":\"mesh3d\"}],\"parcoords\":[{\"line\":{\"colorbar\":{\"outlinewidth\":0,\"ticks\":\"\"}},\"type\":\"parcoords\"}],\"pie\":[{\"automargin\":true,\"type\":\"pie\"}],\"scatter3d\":[{\"line\":{\"colorbar\":{\"outlinewidth\":0,\"ticks\":\"\"}},\"marker\":{\"colorbar\":{\"outlinewidth\":0,\"ticks\":\"\"}},\"type\":\"scatter3d\"}],\"scattercarpet\":[{\"marker\":{\"colorbar\":{\"outlinewidth\":0,\"ticks\":\"\"}},\"type\":\"scattercarpet\"}],\"scattergeo\":[{\"marker\":{\"colorbar\":{\"outlinewidth\":0,\"ticks\":\"\"}},\"type\":\"scattergeo\"}],\"scattergl\":[{\"marker\":{\"colorbar\":{\"outlinewidth\":0,\"ticks\":\"\"}},\"type\":\"scattergl\"}],\"scattermapbox\":[{\"marker\":{\"colorbar\":{\"outlinewidth\":0,\"ticks\":\"\"}},\"type\":\"scattermapbox\"}],\"scatterpolargl\":[{\"marker\":{\"colorbar\":{\"outlinewidth\":0,\"ticks\":\"\"}},\"type\":\"scatterpolargl\"}],\"scatterpolar\":[{\"marker\":{\"colorbar\":{\"outlinewidth\":0,\"ticks\":\"\"}},\"type\":\"scatterpolar\"}],\"scatter\":[{\"fillpattern\":{\"fillmode\":\"overlay\",\"size\":10,\"solidity\":0.2},\"type\":\"scatter\"}],\"scatterternary\":[{\"marker\":{\"colorbar\":{\"outlinewidth\":0,\"ticks\":\"\"}},\"type\":\"scatterternary\"}],\"surface\":[{\"colorbar\":{\"outlinewidth\":0,\"ticks\":\"\"},\"colorscale\":[[0.0,\"#0d0887\"],[0.1111111111111111,\"#46039f\"],[0.2222222222222222,\"#7201a8\"],[0.3333333333333333,\"#9c179e\"],[0.4444444444444444,\"#bd3786\"],[0.5555555555555556,\"#d8576b\"],[0.6666666666666666,\"#ed7953\"],[0.7777777777777778,\"#fb9f3a\"],[0.8888888888888888,\"#fdca26\"],[1.0,\"#f0f921\"]],\"type\":\"surface\"}],\"table\":[{\"cells\":{\"fill\":{\"color\":\"#EBF0F8\"},\"line\":{\"color\":\"white\"}},\"header\":{\"fill\":{\"color\":\"#C8D4E3\"},\"line\":{\"color\":\"white\"}},\"type\":\"table\"}]},\"layout\":{\"annotationdefaults\":{\"arrowcolor\":\"#2a3f5f\",\"arrowhead\":0,\"arrowwidth\":1},\"autotypenumbers\":\"strict\",\"coloraxis\":{\"colorbar\":{\"outlinewidth\":0,\"ticks\":\"\"}},\"colorscale\":{\"diverging\":[[0,\"#8e0152\"],[0.1,\"#c51b7d\"],[0.2,\"#de77ae\"],[0.3,\"#f1b6da\"],[0.4,\"#fde0ef\"],[0.5,\"#f7f7f7\"],[0.6,\"#e6f5d0\"],[0.7,\"#b8e186\"],[0.8,\"#7fbc41\"],[0.9,\"#4d9221\"],[1,\"#276419\"]],\"sequential\":[[0.0,\"#0d0887\"],[0.1111111111111111,\"#46039f\"],[0.2222222222222222,\"#7201a8\"],[0.3333333333333333,\"#9c179e\"],[0.4444444444444444,\"#bd3786\"],[0.5555555555555556,\"#d8576b\"],[0.6666666666666666,\"#ed7953\"],[0.7777777777777778,\"#fb9f3a\"],[0.8888888888888888,\"#fdca26\"],[1.0,\"#f0f921\"]],\"sequentialminus\":[[0.0,\"#0d0887\"],[0.1111111111111111,\"#46039f\"],[0.2222222222222222,\"#7201a8\"],[0.3333333333333333,\"#9c179e\"],[0.4444444444444444,\"#bd3786\"],[0.5555555555555556,\"#d8576b\"],[0.6666666666666666,\"#ed7953\"],[0.7777777777777778,\"#fb9f3a\"],[0.8888888888888888,\"#fdca26\"],[1.0,\"#f0f921\"]]},\"colorway\":[\"#636efa\",\"#EF553B\",\"#00cc96\",\"#ab63fa\",\"#FFA15A\",\"#19d3f3\",\"#FF6692\",\"#B6E880\",\"#FF97FF\",\"#FECB52\"],\"font\":{\"color\":\"#2a3f5f\"},\"geo\":{\"bgcolor\":\"white\",\"lakecolor\":\"white\",\"landcolor\":\"#E5ECF6\",\"showlakes\":true,\"showland\":true,\"subunitcolor\":\"white\"},\"hoverlabel\":{\"align\":\"left\"},\"hovermode\":\"closest\",\"mapbox\":{\"style\":\"light\"},\"paper_bgcolor\":\"white\",\"plot_bgcolor\":\"#E5ECF6\",\"polar\":{\"angularaxis\":{\"gridcolor\":\"white\",\"linecolor\":\"white\",\"ticks\":\"\"},\"bgcolor\":\"#E5ECF6\",\"radialaxis\":{\"gridcolor\":\"white\",\"linecolor\":\"white\",\"ticks\":\"\"}},\"scene\":{\"xaxis\":{\"backgroundcolor\":\"#E5ECF6\",\"gridcolor\":\"white\",\"gridwidth\":2,\"linecolor\":\"white\",\"showbackground\":true,\"ticks\":\"\",\"zerolinecolor\":\"white\"},\"yaxis\":{\"backgroundcolor\":\"#E5ECF6\",\"gridcolor\":\"white\",\"gridwidth\":2,\"linecolor\":\"white\",\"showbackground\":true,\"ticks\":\"\",\"zerolinecolor\":\"white\"},\"zaxis\":{\"backgroundcolor\":\"#E5ECF6\",\"gridcolor\":\"white\",\"gridwidth\":2,\"linecolor\":\"white\",\"showbackground\":true,\"ticks\":\"\",\"zerolinecolor\":\"white\"}},\"shapedefaults\":{\"line\":{\"color\":\"#2a3f5f\"}},\"ternary\":{\"aaxis\":{\"gridcolor\":\"white\",\"linecolor\":\"white\",\"ticks\":\"\"},\"baxis\":{\"gridcolor\":\"white\",\"linecolor\":\"white\",\"ticks\":\"\"},\"bgcolor\":\"#E5ECF6\",\"caxis\":{\"gridcolor\":\"white\",\"linecolor\":\"white\",\"ticks\":\"\"}},\"title\":{\"x\":0.05},\"xaxis\":{\"automargin\":true,\"gridcolor\":\"white\",\"linecolor\":\"white\",\"ticks\":\"\",\"title\":{\"standoff\":15},\"zerolinecolor\":\"white\",\"zerolinewidth\":2},\"yaxis\":{\"automargin\":true,\"gridcolor\":\"white\",\"linecolor\":\"white\",\"ticks\":\"\",\"title\":{\"standoff\":15},\"zerolinecolor\":\"white\",\"zerolinewidth\":2}}},\"title\":{\"text\":\"Best objective found vs. # of iterations\"},\"xaxis\":{\"title\":{\"text\":\"Iteration\"}},\"yaxis\":{\"title\":{\"text\":\"Loss\"}}},                        {\"responsive\": true}                    ).then(function(){\n",
              "                            \n",
              "var gd = document.getElementById('af8af86f-626e-4fbc-b3d6-8cd6d3077237');\n",
              "var x = new MutationObserver(function (mutations, observer) {{\n",
              "        var display = window.getComputedStyle(gd).display;\n",
              "        if (!display || display === 'none') {{\n",
              "            console.log([gd, 'removed!']);\n",
              "            Plotly.purge(gd);\n",
              "            observer.disconnect();\n",
              "        }}\n",
              "}});\n",
              "\n",
              "// Listen for the removal of the full notebook cells\n",
              "var notebookContainer = gd.closest('#notebook-container');\n",
              "if (notebookContainer) {{\n",
              "    x.observe(notebookContainer, {childList: true});\n",
              "}}\n",
              "\n",
              "// Listen for the clearing of the current output cell\n",
              "var outputEl = gd.closest('.output');\n",
              "if (outputEl) {{\n",
              "    x.observe(outputEl, {childList: true});\n",
              "}}\n",
              "\n",
              "                        })                };                            </script>        </div>\n",
              "</body>\n",
              "</html>"
            ]
          },
          "metadata": {}
        }
      ]
    }
  ]
}